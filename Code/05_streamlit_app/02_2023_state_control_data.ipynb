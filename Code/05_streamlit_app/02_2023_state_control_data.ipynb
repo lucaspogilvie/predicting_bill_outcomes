{
 "cells": [
  {
   "cell_type": "code",
   "execution_count": 1,
   "id": "097eebe5-833d-4d5b-b469-daa0b9d254a1",
   "metadata": {},
   "outputs": [],
   "source": [
    "import pandas as pd"
   ]
  },
  {
   "cell_type": "markdown",
   "id": "1798fd00-f473-4301-8b8f-ab8d381e45c8",
   "metadata": {},
   "source": [
    "# Overview\n",
    "\n",
    "This codebook brings in 2023 legislative control data and feature engineers the data in order for it to be in the correct format to be used by our saved model in the streamlit app."
   ]
  },
  {
   "cell_type": "code",
   "execution_count": 2,
   "id": "9888e6ae-545f-4503-a85a-8138e6512cf0",
   "metadata": {},
   "outputs": [],
   "source": [
    "df = pd.read_csv('../../Data/legis_control_2023.csv')"
   ]
  },
  {
   "cell_type": "code",
   "execution_count": 4,
   "id": "0cd30f34-920e-44ad-b86f-1c72b39b8783",
   "metadata": {},
   "outputs": [],
   "source": [
    "#Make column showing difference between Democrats and Republicans. \n",
    "#This will then be used to show the party in control\n",
    "df['senate_party_diff'] = df['senate_dem'] - df['senate_rep']\n",
    "df['house_party_diff'] = df['house_dem'] - df['house_rep']\n",
    "\n",
    "#Make the column showing the majority party for the senat and house for each state on the given year\n",
    "df['senate_party'] = df['senate_party_diff'].map(lambda x: 'Rep' if x < 0 else 'Dem' if x > 0 else 'Split')\n",
    "df['house_party'] = df['house_party_diff'].map(lambda x: 'Rep' if x < 0 else 'Dem' if x > 0 else 'Split')\n",
    "\n",
    "#Making column that is Dem if the house, Senate and Governor are all democrats. Same for republican. And if they differ, than they are \"split\"\n",
    "df['state_party_control'] = df.apply(lambda x: 'Dem' if (x.house_party == 'Dem' and x.senate_party == 'Dem' and x.gov_party == 'Dem') else \\\n",
    "         ('Rep' if (x.house_party == 'Rep' and x.senate_party == 'Rep' and x.gov_party == 'Rep') else 'Split'), axis = 1)"
   ]
  },
  {
   "cell_type": "code",
   "execution_count": 8,
   "id": "fd5dbeb4-c5ec-43bc-ae89-730dd2d365b1",
   "metadata": {},
   "outputs": [],
   "source": [
    "#drop unned columns\n",
    "df.drop(columns = ['senate_dem', 'senate_rep', \n",
    "                   'house_dem', 'house_rep', 'senate_party_diff', 'house_party_diff'],\n",
    "       inplace = True)"
   ]
  },
  {
   "cell_type": "code",
   "execution_count": 10,
   "id": "99fe3288-86c5-4d2f-bf36-6c7da85e1d5f",
   "metadata": {},
   "outputs": [],
   "source": [
    "#Save as csv to be used in the streamlit app. \n",
    "df.to_csv('data_by_state_2023.csv', index= False)"
   ]
  },
  {
   "cell_type": "code",
   "execution_count": 11,
   "id": "31f30ed5-dbe1-4a01-b091-15ea5e3d718f",
   "metadata": {},
   "outputs": [],
   "source": [
    "state = 'Alabama'"
   ]
  },
  {
   "cell_type": "code",
   "execution_count": 15,
   "id": "46b17cc3-c360-4973-b3d7-95e64be3756d",
   "metadata": {},
   "outputs": [],
   "source": [
    "to_be_predicted = df[df['states'] == state][['gov_party','senate_party','house_party','state_party_control']]"
   ]
  },
  {
   "cell_type": "code",
   "execution_count": null,
   "id": "deb1d426-1609-4f9c-b97f-8be0a9f0d6aa",
   "metadata": {},
   "outputs": [],
   "source": [
    "to_be_predicted['title']"
   ]
  }
 ],
 "metadata": {
  "kernelspec": {
   "display_name": "Python 3 (ipykernel)",
   "language": "python",
   "name": "python3"
  },
  "language_info": {
   "codemirror_mode": {
    "name": "ipython",
    "version": 3
   },
   "file_extension": ".py",
   "mimetype": "text/x-python",
   "name": "python",
   "nbconvert_exporter": "python",
   "pygments_lexer": "ipython3",
   "version": "3.9.13"
  }
 },
 "nbformat": 4,
 "nbformat_minor": 5
}
