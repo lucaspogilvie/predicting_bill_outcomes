{
 "cells": [
  {
   "cell_type": "code",
   "execution_count": 22,
   "id": "bd8ae957-5d95-4e51-bfc3-a732010bc4e6",
   "metadata": {},
   "outputs": [],
   "source": [
    "import pandas as pd\n",
    "\n",
    "from sklearn.compose import ColumnTransformer\n",
    "from sklearn.linear_model import LogisticRegression\n",
    "from sklearn.feature_extraction.text import CountVectorizer, TfidfVectorizer\n",
    "from sklearn.model_selection import train_test_split, GridSearchCV\n",
    "from sklearn.pipeline import Pipeline\n",
    "from sklearn.metrics import confusion_matrix, ConfusionMatrixDisplay, accuracy_score, recall_score, precision_score\n",
    "from sklearn.preprocessing import OneHotEncoder, PolynomialFeatures\n",
    "\n",
    "from nltk.stem import WordNetLemmatizer, PorterStemmer\n",
    "from nltk.tokenize import word_tokenize\n",
    "\n",
    "from imblearn.over_sampling import SMOTE,RandomOverSampler\n",
    "from imblearn.pipeline import make_pipeline"
   ]
  },
  {
   "cell_type": "markdown",
   "id": "0c58cacc-153e-4f1f-8ee6-33101070fafd",
   "metadata": {},
   "source": [
    "# About the model\n",
    "\n",
    "Logistic regression is a fundamental classification technique. It uses a logistic function to transform the linear regression output into a probability score, which can be interpreted as the likelihood of belonging to a particular class. For this problem, we have categorical features such as the party of the governor and of the chambers. These columns will be onee hot encoded. We also have text data as well. For this, we will need to use Count Vectorizer and Tfidf Vectorizer in order to plug them into the Logistic model.\n",
    "\n",
    "CountVectorizer is a feature extraction technique used in natural language processing to convert text documents into numerical representations. It creates a matrix where each row corresponds to a document, and each column represents the frequency of a specific word in that document. TF-IDF Vectorizer stands for Term Frequency-Inverse Document Frequency Vectorizer. It is another feature extraction method used in NLP that assigns weights to each word in a document based on its frequency within the document and its rarity across all documents. The resulting matrix reflects the importance of each word in a document relative to the entire corpus. Both of these techniques are used in order to extract information through our modeling.\n",
    "\n",
    "As our target variable is very imbalanced, oversampling techniques will be used to help our model recognize the unbalanced class. The most notable method we will use is SMOTE, (Synthetic Minority Over-sampling Technique). SMOTE creates synthetic samples of the minority class by interpolating new instances between existing minority class samples, effectively balancing the dataset and improving the performance of classification models on the minority class.\n",
    "\n",
    "During our modeling, we are trying to optimize for the metric of recall. this is because a bill rarely passes, and it would be helpful for those who use our model to know wether a bill is more likely to pass.\n",
    "\n",
    "Below is a summary of our results on the test data with our best results in bold.\n",
    "\n",
    "|Model|accuracy|recall|precision|\n",
    "|---|---|---|---|\n",
    "|cv_logit|0.828602|0.349817|0.646362\n",
    "|cv_lemma_logit|0.830094|0.342857|0.659387\n",
    "|cv_stem_logit|0.827595|0.319414|0.658113\n",
    "|tfidif_logit|0.834757|0.298168|0.731357\n",
    "|cv_SMOTE_logit|0.752247|0.634982|0.427181\n",
    "|cv_OverSample_logit|0.746988|0.649084|0.421353\n",
    "|**tfidf_SMOTE_logit**|**0.747920**|**0.658425**|**0.423539**\n",
    "\n",
    "The model in bold has lower accuracy than the baseline model. This is okay though because we are trying to optimize for recall. This model can identify 66% of the bills that pass from the test data. When it does think it is a passed bill, it is correct 42% of the time. These may not be the best results, and this could be due to the lack of information in some titles. For example, the bill titled 'An Act establishing the Jonesville Public Use Area.' may not be very useful to our model. This is not enough info to predict whether it will pass or not. in the next notebook, Random Forest are used to predict bill outcome based off of their titles and results are slightly better there. \n",
    "\n",
    "We also tested models on different text data such as the bills subjects and abstracts. Although these are outside the scope of the problem statement, they show promise to improve on our model in future studies.\n",
    "\n",
    "|Model|accuracy|recall|precision|\n",
    "|---|---|---|---|\n",
    "|subjects_SMOTE|0.728441|0.643970|0.395400\n",
    "|abstracts_SMOTE|0.782182|0.714592|0.521739\n",
    "\n",
    "These are impressive results as the recall is quite high and the accuracy is very close to the baseline. The precision is also quite high. This is very promissing for further research.\n",
    "\n",
    "No inference was done for this model because the performance is too poor to have any valuable inference from it."
   ]
  },
  {
   "cell_type": "markdown",
   "id": "e41b5f94-f8d6-4b31-8d23-61f17cc4c9f5",
   "metadata": {},
   "source": [
    "# Read In Data"
   ]
  },
  {
   "cell_type": "code",
   "execution_count": 23,
   "id": "98fca8e0-efb1-44b7-b822-3dfec70f4979",
   "metadata": {},
   "outputs": [],
   "source": [
    "df = pd.read_csv('../../Data/Merged_Data/final_data.csv.zip')\n",
    "df_with_sponsors = pd.read_csv('../../Data/Merged_Data/final_data_with_sponsors.csv.zip')"
   ]
  },
  {
   "cell_type": "markdown",
   "id": "565ae563-a6da-4156-9f56-c1c519ad2458",
   "metadata": {},
   "source": [
    "# Splitting Data into Train and Test "
   ]
  },
  {
   "cell_type": "code",
   "execution_count": 24,
   "id": "4321fa9a-bcc6-4748-8b5d-d947c5ae660f",
   "metadata": {},
   "outputs": [],
   "source": [
    "X = df[['title', 'gov_party','senate_party','house_party','state_party_control','party_of_1st_chamber','party_of_2nd_chamber']]\n",
    "y = df['law_enacted']\n",
    "\n",
    "\n",
    "X_train, X_test, y_train, y_test = train_test_split(X,y,random_state = 42, stratify = y)"
   ]
  },
  {
   "cell_type": "code",
   "execution_count": 25,
   "id": "37e0ac1e-4796-4de3-bb4f-87fc2a5ee023",
   "metadata": {},
   "outputs": [
    {
     "data": {
      "text/plain": [
       "0    0.796322\n",
       "1    0.203678\n",
       "Name: law_enacted, dtype: float64"
      ]
     },
     "execution_count": 25,
     "metadata": {},
     "output_type": "execute_result"
    }
   ],
   "source": [
    "df['law_enacted'].value_counts(normalize=True)"
   ]
  },
  {
   "cell_type": "markdown",
   "id": "82ef7805-59d3-45ae-a656-e5a0ee9b8d28",
   "metadata": {},
   "source": [
    "# Metrics Function"
   ]
  },
  {
   "cell_type": "code",
   "execution_count": 26,
   "id": "7c0c38c9-7f88-4f63-9a7f-ec9c4dee4a7e",
   "metadata": {},
   "outputs": [],
   "source": [
    "def my_metrics(estimator, X_train = X_train, X_test = X_test, y_train = y_train, y_test = y_test):\n",
    "    \n",
    "    train_preds = estimator.predict(X_train)\n",
    "    preds = estimator.predict(X_test)\n",
    "    \n",
    "    train_acc = accuracy_score(y_train, train_preds)\n",
    "    train_recall = recall_score(y_train, train_preds)\n",
    "    test_acc = accuracy_score(y_test, preds)\n",
    "    recall = recall_score(y_test, preds)\n",
    "    precision = precision_score(y_test, preds)\n",
    "    \n",
    "    print(f'Train Accuracy: {train_acc}')\n",
    "    print(f'Train Recall: {train_recall}')\n",
    "    print(f'Test Accuracy: {test_acc}')\n",
    "    print(f'Test Recall: {recall}')\n",
    "    print(f'Test Precision: {precision}')\n",
    "    print()\n",
    "    print(f'Test Confusion Matrix:')\n",
    "    \n",
    "    ConfusionMatrixDisplay.from_estimator(estimator, X_test, y_test)\n",
    "    \n",
    "    return {\n",
    "        'accuracy': test_acc,\n",
    "        'recall': recall,\n",
    "        'precision': precision\n",
    "    }"
   ]
  },
  {
   "cell_type": "code",
   "execution_count": 27,
   "id": "40394b93-8bed-413f-9f58-05197e33a37e",
   "metadata": {},
   "outputs": [],
   "source": [
    "#List that will keep track of metrics\n",
    "history = []"
   ]
  },
  {
   "cell_type": "code",
   "execution_count": 28,
   "id": "d6e6e902-9511-46e6-be18-f04b6728db54",
   "metadata": {},
   "outputs": [],
   "source": [
    "#For column transformers later\n",
    "word_feature = 'title'\n",
    "party_features = ['gov_party','senate_party','house_party','state_party_control','party_of_1st_chamber','party_of_2nd_chamber']"
   ]
  },
  {
   "cell_type": "markdown",
   "id": "5eaf80b5-427c-49f5-826f-a5ae4f0fbe85",
   "metadata": {},
   "source": [
    "# Baseline Model\n",
    "\n",
    "This model is one that guesses that the bill will not pass for every bill."
   ]
  },
  {
   "cell_type": "code",
   "execution_count": 29,
   "id": "982da85b-227d-4e1d-a2ed-59d9ca6750ad",
   "metadata": {},
   "outputs": [
    {
     "data": {
      "text/plain": [
       "0    0.796322\n",
       "1    0.203678\n",
       "Name: law_enacted, dtype: float64"
      ]
     },
     "execution_count": 29,
     "metadata": {},
     "output_type": "execute_result"
    }
   ],
   "source": [
    "df['law_enacted'].value_counts(normalize = True)"
   ]
  },
  {
   "cell_type": "markdown",
   "id": "30f261e4-035b-4cfc-8b84-4eed78a82bc3",
   "metadata": {},
   "source": [
    "This model has 79.6% accuracy"
   ]
  },
  {
   "cell_type": "markdown",
   "id": "89a99b1e-3669-495c-b72f-6e2f8d135310",
   "metadata": {},
   "source": [
    "# Simple CV with Logit\n",
    "**Strategy:**\n",
    "First model will be kept simple:\n",
    "\n",
    "    -CountVectorize title\n",
    "    -OneHotEncode categorical variables\n",
    "    -Logistic Regression"
   ]
  },
  {
   "cell_type": "code",
   "execution_count": 30,
   "id": "a5c4f587-e460-4d45-967d-268e23e2d76a",
   "metadata": {},
   "outputs": [],
   "source": [
    "#Pipeline for our title feature: Count Vectorize it\n",
    "word_pipe = Pipeline([\n",
    "    ('cv', CountVectorizer(stop_words='english'))\n",
    "])\n",
    "\n",
    "#Pipeline for the party features: One Hot encode them\n",
    "party_pipe = Pipeline([\n",
    "    ('ohe', OneHotEncoder(drop= 'first'))\n",
    "])\n",
    "\n",
    "#Column transformer that will transform our whole dataframe\n",
    "preprocess = ColumnTransformer([\n",
    "    ('cvec', word_pipe, word_feature),\n",
    "    ('party', party_pipe, party_features)\n",
    "])\n",
    "\n",
    "#Estimator pipeline with our preprocessing in there\n",
    "logit_pipe = Pipeline([\n",
    "    ('pre', preprocess),\n",
    "    ('logit', LogisticRegression(max_iter=1000))\n",
    "])\n",
    "\n",
    "logit_pipe.fit(X_train, y_train);"
   ]
  },
  {
   "cell_type": "code",
   "execution_count": 31,
   "id": "f7f7cf99-bd8b-4f37-92e4-4ae7b531e717",
   "metadata": {},
   "outputs": [
    {
     "name": "stdout",
     "output_type": "stream",
     "text": [
      "Train Accuracy: 0.8667313239828907\n",
      "Train Recall: 0.43526036261522494\n",
      "Test Accuracy: 0.8286023350367414\n",
      "Test Recall: 0.3498168498168498\n",
      "Test Precision: 0.6463620981387479\n",
      "\n",
      "Test Confusion Matrix:\n"
     ]
    },
    {
     "data": {
      "image/png": "[encoded data removed]",
      "text/plain": [
       "<Figure size 640x480 with 2 Axes>"
      ]
     },
     "metadata": {},
     "output_type": "display_data"
    }
   ],
   "source": [
    "history.append(my_metrics(logit_pipe))"
   ]
  },
  {
   "cell_type": "markdown",
   "id": "60dd3bff-e212-4bc0-a6d4-52ee5c6b2959",
   "metadata": {},
   "source": [
    "The test accuracy for this model is 82.8% accuracy, better than our base model but not by too much. It seems to slighly over fit as the training accuracy is 3% higher. Our recall and precision are not veery impressive."
   ]
  },
  {
   "cell_type": "markdown",
   "id": "8148bc1a-b33c-400a-bb11-ddc0b3ab6981",
   "metadata": {},
   "source": [
    "# Lemmatize title CV with Logit\n",
    "**Strategy:**\n",
    "Second model will be kept simple:\n",
    "\n",
    "    -WordNetLemmatize titles before word count vectorizing\n",
    "    -CountVectorize title\n",
    "    -OneHotEncode categorical variables\n",
    "    -Logistic Regression\n",
    "    \n",
    "Lemmatizing is the act of bring words down to their base. So a word like cats becomes cat."
   ]
  },
  {
   "cell_type": "code",
   "execution_count": 32,
   "id": "0c551ec5-9cc7-4233-841d-4759f4eeeed9",
   "metadata": {},
   "outputs": [],
   "source": [
    "#Making column for the Title lemmatized\n",
    "wnl = WordNetLemmatizer()\n",
    "df['lemma_title'] = df['title'].map(lambda x:' '.join([wnl.lemmatize(word) for word in word_tokenize(x)]))\n",
    "\n",
    "word_feature = 'lemma_title'"
   ]
  },
  {
   "cell_type": "code",
   "execution_count": 33,
   "id": "84ee06a5-ef54-4ab4-a1da-b342f1b03407",
   "metadata": {},
   "outputs": [],
   "source": [
    "#Have to resplit as we are using a new colum. Same random state makes it the same sample for the train and test\n",
    "X = df[['lemma_title', 'gov_party','senate_party','house_party','state_party_control','party_of_1st_chamber','party_of_2nd_chamber']]\n",
    "y = df['law_enacted']\n",
    "\n",
    "\n",
    "X_train, X_test, y_train, y_test = train_test_split(X,y,random_state = 42, stratify = y)"
   ]
  },
  {
   "cell_type": "code",
   "execution_count": 34,
   "id": "f9a52034-f89c-4f37-9bcb-436c0fdbe05d",
   "metadata": {},
   "outputs": [],
   "source": [
    "#Pipeline for our title feature: Count Vectorize it\n",
    "word_pipe = Pipeline([\n",
    "    ('cv', CountVectorizer(stop_words='english'))\n",
    "])\n",
    "\n",
    "#Pipeline for the party features: One Hot encode them\n",
    "party_pipe = Pipeline([\n",
    "    ('ohe', OneHotEncoder())\n",
    "])\n",
    "\n",
    "#Column transformer that will transform our whole dataframe\n",
    "preprocess = ColumnTransformer([\n",
    "    ('cvec', word_pipe, word_feature),\n",
    "    ('party', party_pipe, party_features)\n",
    "])\n",
    "\n",
    "#Estimator pipeline with our preprocessing in there\n",
    "logit_pipe_lemma = Pipeline([\n",
    "    ('pre', preprocess),\n",
    "    ('logit', LogisticRegression(max_iter=1000))\n",
    "])\n",
    "\n",
    "logit_pipe_lemma.fit(X_train, y_train);"
   ]
  },
  {
   "cell_type": "code",
   "execution_count": 35,
   "id": "951ee2a3-8e14-4ad4-8130-11ba7878cab7",
   "metadata": {},
   "outputs": [
    {
     "name": "stdout",
     "output_type": "stream",
     "text": [
      "Train Accuracy: 0.8655749527504227\n",
      "Train Recall: 0.427263292839265\n",
      "Test Accuracy: 0.8300943712932224\n",
      "Test Recall: 0.34285714285714286\n",
      "Test Precision: 0.6593871081366678\n",
      "\n",
      "Test Confusion Matrix:\n"
     ]
    },
    {
     "data": {
      "image/png": "[encoded data removed]",
      "text/plain": [
       "<Figure size 640x480 with 2 Axes>"
      ]
     },
     "metadata": {},
     "output_type": "display_data"
    }
   ],
   "source": [
    "history.append(my_metrics(logit_pipe_lemma,X_train, X_test, y_train, y_test))"
   ]
  },
  {
   "cell_type": "code",
   "execution_count": 36,
   "id": "7fa212ef-bd14-48a6-8b1a-1df251e53254",
   "metadata": {},
   "outputs": [
    {
     "data": {
      "text/html": [
       "<div>\n",
       "<style scoped>\n",
       "    .dataframe tbody tr th:only-of-type {\n",
       "        vertical-align: middle;\n",
       "    }\n",
       "\n",
       "    .dataframe tbody tr th {\n",
       "        vertical-align: top;\n",
       "    }\n",
       "\n",
       "    .dataframe thead th {\n",
       "        text-align: right;\n",
       "    }\n",
       "</style>\n",
       "<table border=\"1\" class=\"dataframe\">\n",
       "  <thead>\n",
       "    <tr style=\"text-align: right;\">\n",
       "      <th></th>\n",
       "      <th>accuracy</th>\n",
       "      <th>recall</th>\n",
       "      <th>precision</th>\n",
       "    </tr>\n",
       "  </thead>\n",
       "  <tbody>\n",
       "    <tr>\n",
       "      <th>cv_logit</th>\n",
       "      <td>0.828602</td>\n",
       "      <td>0.349817</td>\n",
       "      <td>0.646362</td>\n",
       "    </tr>\n",
       "    <tr>\n",
       "      <th>cv_lemma_logit</th>\n",
       "      <td>0.830094</td>\n",
       "      <td>0.342857</td>\n",
       "      <td>0.659387</td>\n",
       "    </tr>\n",
       "  </tbody>\n",
       "</table>\n",
       "</div>"
      ],
      "text/plain": [
       "                accuracy    recall  precision\n",
       "cv_logit        0.828602  0.349817   0.646362\n",
       "cv_lemma_logit  0.830094  0.342857   0.659387"
      ]
     },
     "execution_count": 36,
     "metadata": {},
     "output_type": "execute_result"
    }
   ],
   "source": [
    "pd.DataFrame(history, index = ['cv_logit', 'cv_lemma_logit'])"
   ]
  },
  {
   "cell_type": "markdown",
   "id": "969fa161-1b54-4281-be1d-e98e90e21282",
   "metadata": {},
   "source": [
    "Lemmatizing did not improve the model significantly. Although, the precision improved and the rcall became worse."
   ]
  },
  {
   "cell_type": "markdown",
   "id": "fa4424eb-8f4b-401d-b02e-c76df636273f",
   "metadata": {},
   "source": [
    "# Porter Stem title CV with Logit\n",
    "**Strategy:**\n",
    "Second model will be kept simple:\n",
    "\n",
    "    -Porter Stemming titles before word count vectorizing\n",
    "    -CountVectorize title\n",
    "    -OneHotEncode categorical variables\n",
    "    -Logistic Regression\n",
    "    \n",
    "Stemming is like lemmatizing but more extreme. Words like computational or compute or computes become comput."
   ]
  },
  {
   "cell_type": "code",
   "execution_count": 37,
   "id": "f2166f96-c655-4c8b-9b2a-a384cf777be5",
   "metadata": {},
   "outputs": [],
   "source": [
    "#Making column for the Titles stemmed\n",
    "ps = PorterStemmer()\n",
    "df['stemmed_title'] = df['title'].map(lambda x:' '.join([ps.stem(word) for word in word_tokenize(x)]))\n",
    "\n",
    "word_feature = 'stemmed_title'"
   ]
  },
  {
   "cell_type": "code",
   "execution_count": 38,
   "id": "5de02e65-7459-4e09-b5cc-f91177700583",
   "metadata": {},
   "outputs": [],
   "source": [
    "#Have to resplit as we are using a new colum. Same random state makes it the same sample for the train and test\n",
    "X = df[['stemmed_title', 'gov_party','senate_party','house_party','state_party_control','party_of_1st_chamber','party_of_2nd_chamber']]\n",
    "y = df['law_enacted']\n",
    "\n",
    "\n",
    "X_train, X_test, y_train, y_test = train_test_split(X,y,random_state = 42, stratify = y)"
   ]
  },
  {
   "cell_type": "code",
   "execution_count": 39,
   "id": "8d86a9e7-e0b0-4221-9d9b-c5f642caec4e",
   "metadata": {},
   "outputs": [],
   "source": [
    "#Pipeline for our title feature: Count Vectorize it\n",
    "word_pipe = Pipeline([\n",
    "    ('cv', CountVectorizer(stop_words='english'))\n",
    "])\n",
    "\n",
    "#Pipeline for the party features: One Hot encode them\n",
    "party_pipe = Pipeline([\n",
    "    ('ohe', OneHotEncoder())\n",
    "])\n",
    "\n",
    "#Column transformer that will transform our whole dataframe\n",
    "preprocess = ColumnTransformer([\n",
    "    ('cvec', word_pipe, word_feature),\n",
    "    ('party', party_pipe, party_features)\n",
    "])\n",
    "\n",
    "#Estimator pipeline with our preprocessing in there\n",
    "logit_pipe_stemmed = Pipeline([\n",
    "    ('pre', preprocess),\n",
    "    ('logit', LogisticRegression(max_iter=1000))\n",
    "])\n",
    "\n",
    "logit_pipe_stemmed.fit(X_train, y_train);"
   ]
  },
  {
   "cell_type": "code",
   "execution_count": 40,
   "id": "621e8027-e15b-4e34-a388-a6cae4abe9dd",
   "metadata": {},
   "outputs": [
    {
     "name": "stdout",
     "output_type": "stream",
     "text": [
      "Train Accuracy: 0.8564980602805132\n",
      "Train Recall: 0.3833709785727367\n",
      "Test Accuracy: 0.8275952105636167\n",
      "Test Recall: 0.3194139194139194\n",
      "Test Precision: 0.6581132075471698\n",
      "\n",
      "Test Confusion Matrix:\n"
     ]
    },
    {
     "data": {
      "image/png": "[encoded data removed]",
      "text/plain": [
       "<Figure size 640x480 with 2 Axes>"
      ]
     },
     "metadata": {},
     "output_type": "display_data"
    }
   ],
   "source": [
    "history.append(my_metrics(logit_pipe_stemmed,X_train, X_test, y_train, y_test))"
   ]
  },
  {
   "cell_type": "code",
   "execution_count": 41,
   "id": "1fd5c12d-acd3-4a9c-bbc0-0adebb9c322c",
   "metadata": {},
   "outputs": [
    {
     "data": {
      "text/html": [
       "<div>\n",
       "<style scoped>\n",
       "    .dataframe tbody tr th:only-of-type {\n",
       "        vertical-align: middle;\n",
       "    }\n",
       "\n",
       "    .dataframe tbody tr th {\n",
       "        vertical-align: top;\n",
       "    }\n",
       "\n",
       "    .dataframe thead th {\n",
       "        text-align: right;\n",
       "    }\n",
       "</style>\n",
       "<table border=\"1\" class=\"dataframe\">\n",
       "  <thead>\n",
       "    <tr style=\"text-align: right;\">\n",
       "      <th></th>\n",
       "      <th>accuracy</th>\n",
       "      <th>recall</th>\n",
       "      <th>precision</th>\n",
       "    </tr>\n",
       "  </thead>\n",
       "  <tbody>\n",
       "    <tr>\n",
       "      <th>cv_logit</th>\n",
       "      <td>0.828602</td>\n",
       "      <td>0.349817</td>\n",
       "      <td>0.646362</td>\n",
       "    </tr>\n",
       "    <tr>\n",
       "      <th>cv_lemma_logit</th>\n",
       "      <td>0.830094</td>\n",
       "      <td>0.342857</td>\n",
       "      <td>0.659387</td>\n",
       "    </tr>\n",
       "    <tr>\n",
       "      <th>cv_stem_logit</th>\n",
       "      <td>0.827595</td>\n",
       "      <td>0.319414</td>\n",
       "      <td>0.658113</td>\n",
       "    </tr>\n",
       "  </tbody>\n",
       "</table>\n",
       "</div>"
      ],
      "text/plain": [
       "                accuracy    recall  precision\n",
       "cv_logit        0.828602  0.349817   0.646362\n",
       "cv_lemma_logit  0.830094  0.342857   0.659387\n",
       "cv_stem_logit   0.827595  0.319414   0.658113"
      ]
     },
     "execution_count": 41,
     "metadata": {},
     "output_type": "execute_result"
    }
   ],
   "source": [
    "pd.DataFrame(history, index = ['cv_logit', 'cv_lemma_logit', 'cv_stem_logit'])"
   ]
  },
  {
   "cell_type": "markdown",
   "id": "9ab2c35b-aeee-4837-9935-ce6302a77ca9",
   "metadata": {},
   "source": [
    "Stemming did not help the model."
   ]
  },
  {
   "cell_type": "markdown",
   "id": "232a5068-6df8-4131-967e-f4fd5a062992",
   "metadata": {},
   "source": [
    "# TFIDF with Logit\n",
    "**Strategy:**\n",
    "Second model will be kept simple:\n",
    "\n",
    "    -TFIDF title\n",
    "    -OneHotEncode categorical variables\n",
    "    -Logistic Regression\n",
    "    \n",
    "Stemming is like lemmatizing but more extreme. Words like computational or compute or computes become comput."
   ]
  },
  {
   "cell_type": "code",
   "execution_count": 42,
   "id": "6ca580f2-f559-44f6-9e3d-27a2c7b482fc",
   "metadata": {},
   "outputs": [],
   "source": [
    "X = df[['title', 'gov_party','senate_party','house_party','state_party_control','party_of_1st_chamber','party_of_2nd_chamber']]\n",
    "y = df['law_enacted']\n",
    "\n",
    "\n",
    "X_train, X_test, y_train, y_test = train_test_split(X,y,random_state = 42, stratify = y)\n",
    "\n",
    "word_feature = 'title'"
   ]
  },
  {
   "cell_type": "code",
   "execution_count": 43,
   "id": "0d0117d3-399f-4a5b-b0fe-b49045326927",
   "metadata": {},
   "outputs": [
    {
     "name": "stdout",
     "output_type": "stream",
     "text": [
      "Train Accuracy: 0.846165323783945\n",
      "Train Recall: 0.3229351077467798\n",
      "Test Accuracy: 0.8347569845947257\n",
      "Test Recall: 0.29816849816849816\n",
      "Test Precision: 0.7313566936208445\n",
      "\n",
      "Test Confusion Matrix:\n"
     ]
    },
    {
     "data": {
      "image/png": "[encoded data removed]",
      "text/plain": [
       "<Figure size 640x480 with 2 Axes>"
      ]
     },
     "metadata": {},
     "output_type": "display_data"
    }
   ],
   "source": [
    "#Pipeline for our title feature: Count Vectorize it\n",
    "word_pipe = Pipeline([\n",
    "    ('tfidf', TfidfVectorizer(stop_words='english'))\n",
    "])\n",
    "\n",
    "#Pipeline for the party features: One Hot encode them\n",
    "party_pipe = Pipeline([\n",
    "    ('ohe', OneHotEncoder())\n",
    "])\n",
    "\n",
    "#Column transformer that will transform our whole dataframe\n",
    "preprocess = ColumnTransformer([\n",
    "    ('tfidf', word_pipe, word_feature),\n",
    "    ('party', party_pipe, party_features)\n",
    "])\n",
    "\n",
    "#Estimator pipeline with our preprocessing in there\n",
    "logit_pipe_tfidf = Pipeline([\n",
    "    ('pre', preprocess),\n",
    "    ('logit', LogisticRegression(max_iter=1000))\n",
    "])\n",
    "\n",
    "logit_pipe_tfidf.fit(X_train, y_train)\n",
    "\n",
    "history.append(my_metrics(logit_pipe_tfidf,X_train, X_test, y_train, y_test));"
   ]
  },
  {
   "cell_type": "code",
   "execution_count": 44,
   "id": "b97739ff-3857-465e-8557-5b3c40d69c95",
   "metadata": {},
   "outputs": [
    {
     "data": {
      "text/html": [
       "<div>\n",
       "<style scoped>\n",
       "    .dataframe tbody tr th:only-of-type {\n",
       "        vertical-align: middle;\n",
       "    }\n",
       "\n",
       "    .dataframe tbody tr th {\n",
       "        vertical-align: top;\n",
       "    }\n",
       "\n",
       "    .dataframe thead th {\n",
       "        text-align: right;\n",
       "    }\n",
       "</style>\n",
       "<table border=\"1\" class=\"dataframe\">\n",
       "  <thead>\n",
       "    <tr style=\"text-align: right;\">\n",
       "      <th></th>\n",
       "      <th>accuracy</th>\n",
       "      <th>recall</th>\n",
       "      <th>precision</th>\n",
       "    </tr>\n",
       "  </thead>\n",
       "  <tbody>\n",
       "    <tr>\n",
       "      <th>cv_logit</th>\n",
       "      <td>0.828602</td>\n",
       "      <td>0.349817</td>\n",
       "      <td>0.646362</td>\n",
       "    </tr>\n",
       "    <tr>\n",
       "      <th>cv_lemma_logit</th>\n",
       "      <td>0.830094</td>\n",
       "      <td>0.342857</td>\n",
       "      <td>0.659387</td>\n",
       "    </tr>\n",
       "    <tr>\n",
       "      <th>cv_stem_logit</th>\n",
       "      <td>0.827595</td>\n",
       "      <td>0.319414</td>\n",
       "      <td>0.658113</td>\n",
       "    </tr>\n",
       "    <tr>\n",
       "      <th>tfidif_logit</th>\n",
       "      <td>0.834757</td>\n",
       "      <td>0.298168</td>\n",
       "      <td>0.731357</td>\n",
       "    </tr>\n",
       "  </tbody>\n",
       "</table>\n",
       "</div>"
      ],
      "text/plain": [
       "                accuracy    recall  precision\n",
       "cv_logit        0.828602  0.349817   0.646362\n",
       "cv_lemma_logit  0.830094  0.342857   0.659387\n",
       "cv_stem_logit   0.827595  0.319414   0.658113\n",
       "tfidif_logit    0.834757  0.298168   0.731357"
      ]
     },
     "execution_count": 44,
     "metadata": {},
     "output_type": "execute_result"
    }
   ],
   "source": [
    "pd.DataFrame(history, index = ['cv_logit', 'cv_lemma_logit', 'cv_stem_logit', 'tfidif_logit'])"
   ]
  },
  {
   "cell_type": "markdown",
   "id": "af6dd7ec-6d23-41e3-a00a-6b923e0a84f4",
   "metadata": {},
   "source": [
    "Worst recall but best accuracy. Also pretty high prcision. The recall is just so darn low."
   ]
  },
  {
   "cell_type": "markdown",
   "id": "a303217d-19c0-4693-8b30-a830c0733025",
   "metadata": {},
   "source": [
    "# CV with Logit and SMOTE oversampling\n",
    "**Strategy:**\n",
    "Second model will be kept simple:\n",
    "\n",
    "    -Cvec title\n",
    "    -OneHotEncode categorical variables\n",
    "    -SMOTE oversampling\n",
    "    -Logistic Regression\n",
    "    \n",
    "SMOTE: Synthetic Minority Over-sampling Technique (SMOTE)"
   ]
  },
  {
   "cell_type": "code",
   "execution_count": 45,
   "id": "c8f0375a-4a93-4e85-908f-c550a9e95496",
   "metadata": {},
   "outputs": [
    {
     "name": "stdout",
     "output_type": "stream",
     "text": [
      "Train Accuracy: 0.8223415895752512\n",
      "Train Recall: 0.78694829375496\n",
      "Test Accuracy: 0.7522473796113246\n",
      "Test Recall: 0.634981684981685\n",
      "Test Precision: 0.427180877279448\n",
      "\n",
      "Test Confusion Matrix:\n"
     ]
    },
    {
     "data": {
      "image/png": "[encoded data removed]",
      "text/plain": [
       "<Figure size 640x480 with 2 Axes>"
      ]
     },
     "metadata": {},
     "output_type": "display_data"
    }
   ],
   "source": [
    "#Pipeline for our title feature: Count Vectorize it\n",
    "word_pipe = Pipeline([\n",
    "    ('cv', CountVectorizer(stop_words='english'))\n",
    "])\n",
    "\n",
    "#Pipeline for the party features: One Hot encode them\n",
    "party_pipe = Pipeline([\n",
    "    ('ohe', OneHotEncoder(drop= 'first'))\n",
    "])\n",
    "\n",
    "#Column transformer that will transform our whole dataframe\n",
    "preprocess = ColumnTransformer([\n",
    "    ('cvec', word_pipe, word_feature),\n",
    "    ('party', party_pipe, party_features)\n",
    "])\n",
    "\n",
    "#Estimator pipeline with our preprocessing in there\n",
    "logit_pipe_smote = make_pipeline(preprocess, SMOTE(random_state = 42), LogisticRegression(max_iter=1000))\n",
    "\n",
    "logit_pipe_smote.fit(X_train, y_train)\n",
    "\n",
    "history.append(my_metrics(logit_pipe_smote,X_train, X_test, y_train, y_test));"
   ]
  },
  {
   "cell_type": "code",
   "execution_count": 46,
   "id": "5e2f0385-7752-4c71-b8c8-17e7735c868d",
   "metadata": {},
   "outputs": [
    {
     "data": {
      "text/html": [
       "<div>\n",
       "<style scoped>\n",
       "    .dataframe tbody tr th:only-of-type {\n",
       "        vertical-align: middle;\n",
       "    }\n",
       "\n",
       "    .dataframe tbody tr th {\n",
       "        vertical-align: top;\n",
       "    }\n",
       "\n",
       "    .dataframe thead th {\n",
       "        text-align: right;\n",
       "    }\n",
       "</style>\n",
       "<table border=\"1\" class=\"dataframe\">\n",
       "  <thead>\n",
       "    <tr style=\"text-align: right;\">\n",
       "      <th></th>\n",
       "      <th>accuracy</th>\n",
       "      <th>recall</th>\n",
       "      <th>precision</th>\n",
       "    </tr>\n",
       "  </thead>\n",
       "  <tbody>\n",
       "    <tr>\n",
       "      <th>cv_logit</th>\n",
       "      <td>0.828602</td>\n",
       "      <td>0.349817</td>\n",
       "      <td>0.646362</td>\n",
       "    </tr>\n",
       "    <tr>\n",
       "      <th>cv_lemma_logit</th>\n",
       "      <td>0.830094</td>\n",
       "      <td>0.342857</td>\n",
       "      <td>0.659387</td>\n",
       "    </tr>\n",
       "    <tr>\n",
       "      <th>cv_stem_logit</th>\n",
       "      <td>0.827595</td>\n",
       "      <td>0.319414</td>\n",
       "      <td>0.658113</td>\n",
       "    </tr>\n",
       "    <tr>\n",
       "      <th>tfidif_logit</th>\n",
       "      <td>0.834757</td>\n",
       "      <td>0.298168</td>\n",
       "      <td>0.731357</td>\n",
       "    </tr>\n",
       "    <tr>\n",
       "      <th>cv_SMOTE_logit</th>\n",
       "      <td>0.752247</td>\n",
       "      <td>0.634982</td>\n",
       "      <td>0.427181</td>\n",
       "    </tr>\n",
       "  </tbody>\n",
       "</table>\n",
       "</div>"
      ],
      "text/plain": [
       "                accuracy    recall  precision\n",
       "cv_logit        0.828602  0.349817   0.646362\n",
       "cv_lemma_logit  0.830094  0.342857   0.659387\n",
       "cv_stem_logit   0.827595  0.319414   0.658113\n",
       "tfidif_logit    0.834757  0.298168   0.731357\n",
       "cv_SMOTE_logit  0.752247  0.634982   0.427181"
      ]
     },
     "execution_count": 46,
     "metadata": {},
     "output_type": "execute_result"
    }
   ],
   "source": [
    "pd.DataFrame(history, index = ['cv_logit', 'cv_lemma_logit', 'cv_stem_logit', 'tfidif_logit', 'cv_SMOTE_logit'])"
   ]
  },
  {
   "cell_type": "markdown",
   "id": "4510b24b-0886-4279-aeef-1608ed669d22",
   "metadata": {},
   "source": [
    "Worst accuracy yet, but not significantly worse compared to the increase in recall! Although the accuracy is loweer than the baseline, I would say this is the beest model yet."
   ]
  },
  {
   "cell_type": "markdown",
   "id": "9e524f57-27e4-4d43-aec0-547c36edb10e",
   "metadata": {},
   "source": [
    "# CV with Logit and random oversampling\n",
    "**Strategy:**\n",
    "Second model will be kept simple:\n",
    "\n",
    "    -Cvec title\n",
    "    -OneHotEncode categorical variables\n",
    "    -Random oversampling\n",
    "    -Logistic Regression\n",
    "    "
   ]
  },
  {
   "cell_type": "code",
   "execution_count": 47,
   "id": "89c3c7cc-f107-4b7a-a000-0efbf18373fb",
   "metadata": {},
   "outputs": [
    {
     "name": "stdout",
     "output_type": "stream",
     "text": [
      "Train Accuracy: 0.8219188301999403\n",
      "Train Recall: 0.8263231792930834\n",
      "Test Accuracy: 0.7469879518072289\n",
      "Test Recall: 0.6490842490842491\n",
      "Test Precision: 0.42135299013197003\n",
      "\n",
      "Test Confusion Matrix:\n"
     ]
    },
    {
     "data": {
      "image/png": "[encoded data removed]",
      "text/plain": [
       "<Figure size 640x480 with 2 Axes>"
      ]
     },
     "metadata": {},
     "output_type": "display_data"
    }
   ],
   "source": [
    "#Pipeline for our title feature: Count Vectorize it\n",
    "word_pipe = Pipeline([\n",
    "    ('cv', CountVectorizer(stop_words='english'))\n",
    "])\n",
    "\n",
    "#Pipeline for the party features: One Hot encode them\n",
    "party_pipe = Pipeline([\n",
    "    ('ohe', OneHotEncoder(drop= 'first'))\n",
    "])\n",
    "\n",
    "#Column transformer that will transform our whole dataframe\n",
    "preprocess = ColumnTransformer([\n",
    "    ('cvec', word_pipe, word_feature),\n",
    "    ('party', party_pipe, party_features)\n",
    "])\n",
    "\n",
    "#Estimator pipeline with our preprocessing in there\n",
    "logit_pipe_ROS = make_pipeline(preprocess, RandomOverSampler(random_state = 42), LogisticRegression(max_iter=1000))\n",
    "\n",
    "logit_pipe_ROS.fit(X_train, y_train)\n",
    "\n",
    "history.append(my_metrics(logit_pipe_ROS,X_train, X_test, y_train, y_test));"
   ]
  },
  {
   "cell_type": "code",
   "execution_count": 48,
   "id": "6365ca62-3708-47ca-938f-4e91ecbe223c",
   "metadata": {},
   "outputs": [
    {
     "data": {
      "text/html": [
       "<div>\n",
       "<style scoped>\n",
       "    .dataframe tbody tr th:only-of-type {\n",
       "        vertical-align: middle;\n",
       "    }\n",
       "\n",
       "    .dataframe tbody tr th {\n",
       "        vertical-align: top;\n",
       "    }\n",
       "\n",
       "    .dataframe thead th {\n",
       "        text-align: right;\n",
       "    }\n",
       "</style>\n",
       "<table border=\"1\" class=\"dataframe\">\n",
       "  <thead>\n",
       "    <tr style=\"text-align: right;\">\n",
       "      <th></th>\n",
       "      <th>accuracy</th>\n",
       "      <th>recall</th>\n",
       "      <th>precision</th>\n",
       "    </tr>\n",
       "  </thead>\n",
       "  <tbody>\n",
       "    <tr>\n",
       "      <th>cv_logit</th>\n",
       "      <td>0.828602</td>\n",
       "      <td>0.349817</td>\n",
       "      <td>0.646362</td>\n",
       "    </tr>\n",
       "    <tr>\n",
       "      <th>cv_lemma_logit</th>\n",
       "      <td>0.830094</td>\n",
       "      <td>0.342857</td>\n",
       "      <td>0.659387</td>\n",
       "    </tr>\n",
       "    <tr>\n",
       "      <th>cv_stem_logit</th>\n",
       "      <td>0.827595</td>\n",
       "      <td>0.319414</td>\n",
       "      <td>0.658113</td>\n",
       "    </tr>\n",
       "    <tr>\n",
       "      <th>tfidif_logit</th>\n",
       "      <td>0.834757</td>\n",
       "      <td>0.298168</td>\n",
       "      <td>0.731357</td>\n",
       "    </tr>\n",
       "    <tr>\n",
       "      <th>cv_SMOTE_logit</th>\n",
       "      <td>0.752247</td>\n",
       "      <td>0.634982</td>\n",
       "      <td>0.427181</td>\n",
       "    </tr>\n",
       "    <tr>\n",
       "      <th>cv_OverSample_logit</th>\n",
       "      <td>0.746988</td>\n",
       "      <td>0.649084</td>\n",
       "      <td>0.421353</td>\n",
       "    </tr>\n",
       "  </tbody>\n",
       "</table>\n",
       "</div>"
      ],
      "text/plain": [
       "                     accuracy    recall  precision\n",
       "cv_logit             0.828602  0.349817   0.646362\n",
       "cv_lemma_logit       0.830094  0.342857   0.659387\n",
       "cv_stem_logit        0.827595  0.319414   0.658113\n",
       "tfidif_logit         0.834757  0.298168   0.731357\n",
       "cv_SMOTE_logit       0.752247  0.634982   0.427181\n",
       "cv_OverSample_logit  0.746988  0.649084   0.421353"
      ]
     },
     "execution_count": 48,
     "metadata": {},
     "output_type": "execute_result"
    }
   ],
   "source": [
    "pd.DataFrame(history, index = ['cv_logit', 'cv_lemma_logit', 'cv_stem_logit', 'tfidif_logit', 'cv_SMOTE_logit', 'cv_OverSample_logit'])"
   ]
  },
  {
   "cell_type": "markdown",
   "id": "f5a34682-d3ad-4145-a2ec-6d7469ef7b85",
   "metadata": {},
   "source": [
    "# TFIDF with Logit and random oversampling\n",
    "**Strategy:**\n",
    "Second model will be kept simple:\n",
    "\n",
    "    -TFIDF title\n",
    "    -OneHotEncode categorical variables\n",
    "    -Random oversampling\n",
    "    -Logistic Regression\n",
    "    "
   ]
  },
  {
   "cell_type": "code",
   "execution_count": 49,
   "id": "339cb695-0c94-46e8-bfd3-2e94c779f5e9",
   "metadata": {},
   "outputs": [
    {
     "name": "stdout",
     "output_type": "stream",
     "text": [
      "Train Accuracy: 0.7994752810106436\n",
      "Train Recall: 0.7775471582931445\n",
      "Test Accuracy: 0.7479204744675295\n",
      "Test Recall: 0.6584249084249084\n",
      "Test Precision: 0.4235391140433553\n",
      "\n",
      "Test Confusion Matrix:\n"
     ]
    },
    {
     "data": {
      "image/png": "[encoded data removed]",
      "text/plain": [
       "<Figure size 640x480 with 2 Axes>"
      ]
     },
     "metadata": {},
     "output_type": "display_data"
    }
   ],
   "source": [
    "#Pipeline for our title feature: Count Vectorize it\n",
    "word_pipe = Pipeline([\n",
    "    ('tfidf', TfidfVectorizer(stop_words='english'))\n",
    "])\n",
    "\n",
    "#Pipeline for the party features: One Hot encode them\n",
    "party_pipe = Pipeline([\n",
    "    ('ohe', OneHotEncoder(drop= 'first'))\n",
    "])\n",
    "\n",
    "#Column transformer that will transform our whole dataframe\n",
    "preprocess = ColumnTransformer([\n",
    "    ('cvec', word_pipe, word_feature),\n",
    "    ('party', party_pipe, party_features)\n",
    "])\n",
    "\n",
    "#Estimator pipeline with our preprocessing in there\n",
    "logit_pipe_tfidf_smote = make_pipeline(preprocess, SMOTE(random_state = 42), LogisticRegression(max_iter=1000))\n",
    "\n",
    "logit_pipe_tfidf_smote.fit(X_train, y_train)\n",
    "\n",
    "history.append(my_metrics(logit_pipe_tfidf_smote,X_train, X_test, y_train, y_test));"
   ]
  },
  {
   "cell_type": "code",
   "execution_count": 50,
   "id": "97f259e7-d190-42d5-9cab-1f0af73315d2",
   "metadata": {},
   "outputs": [
    {
     "data": {
      "text/html": [
       "<div>\n",
       "<style scoped>\n",
       "    .dataframe tbody tr th:only-of-type {\n",
       "        vertical-align: middle;\n",
       "    }\n",
       "\n",
       "    .dataframe tbody tr th {\n",
       "        vertical-align: top;\n",
       "    }\n",
       "\n",
       "    .dataframe thead th {\n",
       "        text-align: right;\n",
       "    }\n",
       "</style>\n",
       "<table border=\"1\" class=\"dataframe\">\n",
       "  <thead>\n",
       "    <tr style=\"text-align: right;\">\n",
       "      <th></th>\n",
       "      <th>accuracy</th>\n",
       "      <th>recall</th>\n",
       "      <th>precision</th>\n",
       "    </tr>\n",
       "  </thead>\n",
       "  <tbody>\n",
       "    <tr>\n",
       "      <th>cv_logit</th>\n",
       "      <td>0.828602</td>\n",
       "      <td>0.349817</td>\n",
       "      <td>0.646362</td>\n",
       "    </tr>\n",
       "    <tr>\n",
       "      <th>cv_lemma_logit</th>\n",
       "      <td>0.830094</td>\n",
       "      <td>0.342857</td>\n",
       "      <td>0.659387</td>\n",
       "    </tr>\n",
       "    <tr>\n",
       "      <th>cv_stem_logit</th>\n",
       "      <td>0.827595</td>\n",
       "      <td>0.319414</td>\n",
       "      <td>0.658113</td>\n",
       "    </tr>\n",
       "    <tr>\n",
       "      <th>tfidif_logit</th>\n",
       "      <td>0.834757</td>\n",
       "      <td>0.298168</td>\n",
       "      <td>0.731357</td>\n",
       "    </tr>\n",
       "    <tr>\n",
       "      <th>cv_SMOTE_logit</th>\n",
       "      <td>0.752247</td>\n",
       "      <td>0.634982</td>\n",
       "      <td>0.427181</td>\n",
       "    </tr>\n",
       "    <tr>\n",
       "      <th>cv_OverSample_logit</th>\n",
       "      <td>0.746988</td>\n",
       "      <td>0.649084</td>\n",
       "      <td>0.421353</td>\n",
       "    </tr>\n",
       "    <tr>\n",
       "      <th>tfidf_SMOTE_logit</th>\n",
       "      <td>0.747920</td>\n",
       "      <td>0.658425</td>\n",
       "      <td>0.423539</td>\n",
       "    </tr>\n",
       "  </tbody>\n",
       "</table>\n",
       "</div>"
      ],
      "text/plain": [
       "                     accuracy    recall  precision\n",
       "cv_logit             0.828602  0.349817   0.646362\n",
       "cv_lemma_logit       0.830094  0.342857   0.659387\n",
       "cv_stem_logit        0.827595  0.319414   0.658113\n",
       "tfidif_logit         0.834757  0.298168   0.731357\n",
       "cv_SMOTE_logit       0.752247  0.634982   0.427181\n",
       "cv_OverSample_logit  0.746988  0.649084   0.421353\n",
       "tfidf_SMOTE_logit    0.747920  0.658425   0.423539"
      ]
     },
     "execution_count": 50,
     "metadata": {},
     "output_type": "execute_result"
    }
   ],
   "source": [
    "pd.DataFrame(history, index = ['cv_logit', 'cv_lemma_logit', 'cv_stem_logit', 'tfidif_logit', 'cv_SMOTE_logit', 'cv_OverSample_logit', 'tfidf_SMOTE_logit'])"
   ]
  },
  {
   "cell_type": "markdown",
   "id": "fae506cc-7597-4158-892b-3e9ecca67dae",
   "metadata": {},
   "source": [
    "This is the best model for Logistic. 65% of the passed bills were recognized. When we predicted it would pass, we were right 42% of the time. Although the accuracy is lower than the baseline, the goal was to maximize recall."
   ]
  },
  {
   "cell_type": "markdown",
   "id": "67710686-6148-490e-a237-05c99ba59994",
   "metadata": {},
   "source": [
    "# Word vectorizer on other text items\n",
    "\n",
    "although our problem statement is based on the titles of bills, I want to study if other text data would be helpful as well. We have two columns that could be interesting. Firstly, the subject feature. This feature has a list of subjects that the bill pertains to. The thing is, we have a lot less data with subject lists. The abstracts feature could be interesting as well. This feature holds a summary of each bill which holds more info than the title and the subjects. the issue with the abstracts feature is that we have even less data on that one.\n",
    "\n",
    "These two models are just to show the possibility of further study using these text data instead of the title for bill prediction.\n",
    "\n",
    "## Word Vectorizer on Subjects"
   ]
  },
  {
   "cell_type": "code",
   "execution_count": 51,
   "id": "09779669-4fd7-46de-a54b-db2e2157aada",
   "metadata": {},
   "outputs": [],
   "source": [
    "other_text=[]"
   ]
  },
  {
   "cell_type": "code",
   "execution_count": 52,
   "id": "8d3cf4b1-efa9-4216-bdde-5658ba388d4e",
   "metadata": {},
   "outputs": [],
   "source": [
    "subjects_df = df[df['subject'].isnull() == False]"
   ]
  },
  {
   "cell_type": "code",
   "execution_count": 53,
   "id": "92f3d39e-6f47-4072-9d10-33d445b6970e",
   "metadata": {},
   "outputs": [],
   "source": [
    "X = subjects_df[['subject', 'gov_party','senate_party','house_party','state_party_control','party_of_1st_chamber','party_of_2nd_chamber']]\n",
    "y = subjects_df['law_enacted']\n",
    "\n",
    "\n",
    "X_train, X_test, y_train, y_test = train_test_split(X,y,random_state = 42, stratify = y)\n",
    "\n",
    "word_feature = 'subject'\n",
    "party_features = ['gov_party','senate_party','house_party','state_party_control','party_of_1st_chamber','party_of_2nd_chamber']"
   ]
  },
  {
   "cell_type": "code",
   "execution_count": 54,
   "id": "98e5a6d6-9b18-4ded-8479-8e76dd6b9e98",
   "metadata": {},
   "outputs": [
    {
     "data": {
      "text/plain": [
       "0    0.797436\n",
       "1    0.202564\n",
       "Name: law_enacted, dtype: float64"
      ]
     },
     "execution_count": 54,
     "metadata": {},
     "output_type": "execute_result"
    }
   ],
   "source": [
    "subjects_df['law_enacted'].value_counts(normalize=True)"
   ]
  },
  {
   "cell_type": "code",
   "execution_count": 55,
   "id": "5dc4a1a0-d36d-477b-be5d-9ccfafa2085b",
   "metadata": {},
   "outputs": [
    {
     "name": "stdout",
     "output_type": "stream",
     "text": [
      "Train Accuracy: 0.7820508086551954\n",
      "Train Recall: 0.7947502734232592\n",
      "Test Accuracy: 0.7284408751038494\n",
      "Test Recall: 0.6439704675963905\n",
      "Test Precision: 0.39539959704499666\n",
      "\n",
      "Test Confusion Matrix:\n"
     ]
    },
    {
     "data": {
      "image/png": "[encoded data removed]",
      "text/plain": [
       "<Figure size 640x480 with 2 Axes>"
      ]
     },
     "metadata": {},
     "output_type": "display_data"
    }
   ],
   "source": [
    "#Pipeline for our title feature: Count Vectorize it\n",
    "word_pipe = Pipeline([\n",
    "    ('tfid', TfidfVectorizer(stop_words='english'))\n",
    "])\n",
    "\n",
    "#Pipeline for the party features: One Hot encode them\n",
    "party_pipe = Pipeline([\n",
    "    ('ohe', OneHotEncoder(drop= 'first'))\n",
    "])\n",
    "\n",
    "#Column transformer that will transform our whole dataframe\n",
    "preprocess = ColumnTransformer([\n",
    "    ('cvec', word_pipe, word_feature),\n",
    "    ('party', party_pipe, party_features)\n",
    "])\n",
    "\n",
    "#Estimator pipeline with our preprocessing in there\n",
    "logit_pipe_subjects = make_pipeline(preprocess, SMOTE(random_state = 42), LogisticRegression(max_iter=1000))\n",
    "\n",
    "logit_pipe_subjects.fit(X_train, y_train)\n",
    "\n",
    "other_text.append(my_metrics(logit_pipe_subjects,X_train, X_test, y_train, y_test));"
   ]
  },
  {
   "cell_type": "markdown",
   "id": "84e2f372-ed70-4a15-a50a-49de0e0ac584",
   "metadata": {},
   "source": [
    "Not significantly different from our title data."
   ]
  },
  {
   "cell_type": "markdown",
   "id": "4e74c2ae-8c95-4f9c-950f-194b85f49e00",
   "metadata": {},
   "source": [
    "## Word Vectorizer on abstracts"
   ]
  },
  {
   "cell_type": "code",
   "execution_count": 56,
   "id": "d6b95796-fce8-49f2-af69-1eee27ae1d0d",
   "metadata": {},
   "outputs": [],
   "source": [
    "abstracts_df = df[df['abstract'].isnull() == False]"
   ]
  },
  {
   "cell_type": "code",
   "execution_count": 57,
   "id": "59d2b10a-b2a6-456d-8cfb-66cc9b245f38",
   "metadata": {},
   "outputs": [],
   "source": [
    "X = abstracts_df[['abstract', 'gov_party','senate_party','house_party','state_party_control','party_of_1st_chamber','party_of_2nd_chamber']]\n",
    "y = abstracts_df['law_enacted']\n",
    "\n",
    "\n",
    "X_train, X_test, y_train, y_test = train_test_split(X,y,random_state = 42, stratify = y)\n",
    "\n",
    "word_feature = 'abstract'\n",
    "party_features = ['gov_party','senate_party','house_party','state_party_control','party_of_1st_chamber','party_of_2nd_chamber']"
   ]
  },
  {
   "cell_type": "code",
   "execution_count": 58,
   "id": "5d1361f3-e9b6-4230-863f-5d1024355c49",
   "metadata": {},
   "outputs": [
    {
     "data": {
      "text/plain": [
       "0    0.768437\n",
       "1    0.231563\n",
       "Name: law_enacted, dtype: float64"
      ]
     },
     "execution_count": 58,
     "metadata": {},
     "output_type": "execute_result"
    }
   ],
   "source": [
    "abstracts_df['law_enacted'].value_counts(normalize=True)"
   ]
  },
  {
   "cell_type": "code",
   "execution_count": 59,
   "id": "3328a2de-e37f-4e09-8cb6-a20d920a59f3",
   "metadata": {},
   "outputs": [
    {
     "name": "stdout",
     "output_type": "stream",
     "text": [
      "Train Accuracy: 0.8380001656863557\n",
      "Train Recall: 0.8402504472271914\n",
      "Test Accuracy: 0.7821819085487077\n",
      "Test Recall: 0.7145922746781116\n",
      "Test Precision: 0.5217391304347826\n",
      "\n",
      "Test Confusion Matrix:\n"
     ]
    },
    {
     "data": {
      "image/png": "[encoded data removed]",
      "text/plain": [
       "<Figure size 640x480 with 2 Axes>"
      ]
     },
     "metadata": {},
     "output_type": "display_data"
    }
   ],
   "source": [
    "#Pipeline for our title feature: Count Vectorize it\n",
    "word_pipe = Pipeline([\n",
    "    ('tfid', TfidfVectorizer(stop_words='english'))\n",
    "])\n",
    "\n",
    "#Pipeline for the party features: One Hot encode them\n",
    "party_pipe = Pipeline([\n",
    "    ('ohe', OneHotEncoder(drop= 'first'))\n",
    "])\n",
    "\n",
    "#Column transformer that will transform our whole dataframe\n",
    "preprocess = ColumnTransformer([\n",
    "    ('cvec', word_pipe, word_feature),\n",
    "    ('party', party_pipe, party_features)\n",
    "])\n",
    "\n",
    "#Estimator pipeline with our preprocessing in there\n",
    "logit_pipe_abstracts = make_pipeline(preprocess, SMOTE(random_state = 42), LogisticRegression(max_iter=1000))\n",
    "\n",
    "logit_pipe_abstracts.fit(X_train, y_train)\n",
    "\n",
    "other_text.append(my_metrics(logit_pipe_abstracts,X_train, X_test, y_train, y_test));"
   ]
  },
  {
   "cell_type": "markdown",
   "id": "edef621d-8b5b-4ec0-9fff-2ed800630451",
   "metadata": {},
   "source": [
    "Great model. Has the best recall and decent accuracy as well. This shows much promise to be a good feature for bill prediction. It is not in the scope of this problem statemnet but good to keep in mind."
   ]
  },
  {
   "cell_type": "code",
   "execution_count": 60,
   "id": "4afdecf1-65d0-4d1d-8d08-17fc3b771b93",
   "metadata": {},
   "outputs": [
    {
     "data": {
      "text/html": [
       "<div>\n",
       "<style scoped>\n",
       "    .dataframe tbody tr th:only-of-type {\n",
       "        vertical-align: middle;\n",
       "    }\n",
       "\n",
       "    .dataframe tbody tr th {\n",
       "        vertical-align: top;\n",
       "    }\n",
       "\n",
       "    .dataframe thead th {\n",
       "        text-align: right;\n",
       "    }\n",
       "</style>\n",
       "<table border=\"1\" class=\"dataframe\">\n",
       "  <thead>\n",
       "    <tr style=\"text-align: right;\">\n",
       "      <th></th>\n",
       "      <th>accuracy</th>\n",
       "      <th>recall</th>\n",
       "      <th>precision</th>\n",
       "    </tr>\n",
       "  </thead>\n",
       "  <tbody>\n",
       "    <tr>\n",
       "      <th>subjects</th>\n",
       "      <td>0.728441</td>\n",
       "      <td>0.643970</td>\n",
       "      <td>0.395400</td>\n",
       "    </tr>\n",
       "    <tr>\n",
       "      <th>abstracts</th>\n",
       "      <td>0.782182</td>\n",
       "      <td>0.714592</td>\n",
       "      <td>0.521739</td>\n",
       "    </tr>\n",
       "  </tbody>\n",
       "</table>\n",
       "</div>"
      ],
      "text/plain": [
       "           accuracy    recall  precision\n",
       "subjects   0.728441  0.643970   0.395400\n",
       "abstracts  0.782182  0.714592   0.521739"
      ]
     },
     "execution_count": 60,
     "metadata": {},
     "output_type": "execute_result"
    }
   ],
   "source": [
    "pd.DataFrame(other_text, index = ['subjects', 'abstracts'])"
   ]
  }
 ],
 "metadata": {
  "kernelspec": {
   "display_name": "Python 3 (ipykernel)",
   "language": "python",
   "name": "python3"
  },
  "language_info": {
   "codemirror_mode": {
    "name": "ipython",
    "version": 3
   },
   "file_extension": ".py",
   "mimetype": "text/x-python",
   "name": "python",
   "nbconvert_exporter": "python",
   "pygments_lexer": "ipython3",
   "version": "3.9.13"
  }
 },
 "nbformat": 4,
 "nbformat_minor": 5
}
