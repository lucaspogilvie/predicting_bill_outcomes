{
 "cells": [
  {
   "cell_type": "code",
   "execution_count": 42,
   "id": "bd8ae957-5d95-4e51-bfc3-a732010bc4e6",
   "metadata": {},
   "outputs": [],
   "source": [
    "import pandas as pd\n",
    "\n",
    "from sklearn.compose import ColumnTransformer\n",
    "from sklearn.linear_model import LogisticRegression\n",
    "from sklearn.feature_extraction.text import CountVectorizer, TfidfVectorizer\n",
    "from sklearn.model_selection import train_test_split, GridSearchCV\n",
    "from sklearn.pipeline import Pipeline\n",
    "from sklearn.metrics import confusion_matrix, ConfusionMatrixDisplay, accuracy_score, recall_score, precision_score\n",
    "from sklearn.preprocessing import OneHotEncoder, PolynomialFeatures\n",
    "\n",
    "from nltk.stem import WordNetLemmatizer, PorterStemmer\n",
    "from nltk.tokenize import word_tokenize\n",
    "\n",
    "from imblearn.over_sampling import SMOTE,RandomOverSampler\n",
    "from imblearn.pipeline import make_pipeline"
   ]
  },
  {
   "cell_type": "code",
   "execution_count": 43,
   "id": "98fca8e0-efb1-44b7-b822-3dfec70f4979",
   "metadata": {},
   "outputs": [],
   "source": [
    "df = pd.read_csv('../../Data/Merged_Data/final_data.csv.zip')\n",
    "df_with_sponsors = pd.read_csv('../../Data/Merged_Data/final_data_with_sponsors.csv.zip')"
   ]
  },
  {
   "cell_type": "markdown",
   "id": "565ae563-a6da-4156-9f56-c1c519ad2458",
   "metadata": {},
   "source": [
    "# Splitting Data into Train and Test "
   ]
  },
  {
   "cell_type": "code",
   "execution_count": 44,
   "id": "4321fa9a-bcc6-4748-8b5d-d947c5ae660f",
   "metadata": {},
   "outputs": [],
   "source": [
    "X = df[['title', 'gov_party','senate_party','house_party','state_party_control','party_of_1st_chamber','party_of_2nd_chamber']]\n",
    "y = df['law_enacted']\n",
    "\n",
    "\n",
    "X_train, X_test, y_train, y_test = train_test_split(X,y,random_state = 42, stratify = y)"
   ]
  },
  {
   "cell_type": "code",
   "execution_count": 45,
   "id": "37e0ac1e-4796-4de3-bb4f-87fc2a5ee023",
   "metadata": {},
   "outputs": [
    {
     "data": {
      "text/plain": [
       "0    0.796322\n",
       "1    0.203678\n",
       "Name: law_enacted, dtype: float64"
      ]
     },
     "execution_count": 45,
     "metadata": {},
     "output_type": "execute_result"
    }
   ],
   "source": [
    "df['law_enacted'].value_counts(normalize=True)"
   ]
  },
  {
   "cell_type": "markdown",
   "id": "82ef7805-59d3-45ae-a656-e5a0ee9b8d28",
   "metadata": {},
   "source": [
    "# Metrics Function"
   ]
  },
  {
   "cell_type": "code",
   "execution_count": 46,
   "id": "7c0c38c9-7f88-4f63-9a7f-ec9c4dee4a7e",
   "metadata": {},
   "outputs": [],
   "source": [
    "def my_metrics(estimator, X_train = X_train, X_test = X_test, y_train = y_train, y_test = y_test):\n",
    "    \n",
    "    train_preds = estimator.predict(X_train)\n",
    "    preds = estimator.predict(X_test)\n",
    "    \n",
    "    train_acc = accuracy_score(y_train, train_preds)\n",
    "    train_recall = recall_score(y_train, train_preds)\n",
    "    test_acc = accuracy_score(y_test, preds)\n",
    "    recall = recall_score(y_test, preds)\n",
    "    precision = precision_score(y_test, preds)\n",
    "    \n",
    "    print(f'Train Accuracy: {train_acc}')\n",
    "    print(f'Train Recall: {train_recall}')\n",
    "    print(f'Test Accuracy: {test_acc}')\n",
    "    print(f'Test Recall: {recall}')\n",
    "    print(f'Test Precision: {precision}')\n",
    "    print()\n",
    "    print(f'Test Confusion Matrix:')\n",
    "    \n",
    "    ConfusionMatrixDisplay.from_estimator(estimator, X_test, y_test)\n",
    "    \n",
    "    return {\n",
    "        'accuracy': test_acc,\n",
    "        'recall': recall,\n",
    "        'precision': precision\n",
    "    }"
   ]
  },
  {
   "cell_type": "code",
   "execution_count": 47,
   "id": "40394b93-8bed-413f-9f58-05197e33a37e",
   "metadata": {},
   "outputs": [],
   "source": [
    "#List that will keep track of metrics\n",
    "history = []"
   ]
  },
  {
   "cell_type": "code",
   "execution_count": 48,
   "id": "d6e6e902-9511-46e6-be18-f04b6728db54",
   "metadata": {},
   "outputs": [],
   "source": [
    "#For column transformers later\n",
    "word_feature = 'title'\n",
    "party_features = ['gov_party','senate_party','house_party','state_party_control','party_of_1st_chamber','party_of_2nd_chamber']"
   ]
  },
  {
   "cell_type": "markdown",
   "id": "5eaf80b5-427c-49f5-826f-a5ae4f0fbe85",
   "metadata": {},
   "source": [
    "# Baseline Model\n",
    "\n",
    "This model is one that guesses that the bill will not pass for every bill."
   ]
  },
  {
   "cell_type": "code",
   "execution_count": 49,
   "id": "982da85b-227d-4e1d-a2ed-59d9ca6750ad",
   "metadata": {},
   "outputs": [
    {
     "data": {
      "text/plain": [
       "0    0.796322\n",
       "1    0.203678\n",
       "Name: law_enacted, dtype: float64"
      ]
     },
     "execution_count": 49,
     "metadata": {},
     "output_type": "execute_result"
    }
   ],
   "source": [
    "df['law_enacted'].value_counts(normalize = True)"
   ]
  },
  {
   "cell_type": "markdown",
   "id": "30f261e4-035b-4cfc-8b84-4eed78a82bc3",
   "metadata": {},
   "source": [
    "This model has 79.6% accuracy"
   ]
  },
  {
   "cell_type": "markdown",
   "id": "89a99b1e-3669-495c-b72f-6e2f8d135310",
   "metadata": {},
   "source": [
    "# Simple CV with Logit\n",
    "**Strategy:**\n",
    "First model will be kept simple:\n",
    "\n",
    "    -CountVectorize title\n",
    "    -OneHotEncode categorical variables\n",
    "    -Logistic Regression"
   ]
  },
  {
   "cell_type": "code",
   "execution_count": 50,
   "id": "a5c4f587-e460-4d45-967d-268e23e2d76a",
   "metadata": {},
   "outputs": [],
   "source": [
    "#Pipeline for our title feature: Count Vectorize it\n",
    "word_pipe = Pipeline([\n",
    "    ('cv', CountVectorizer(stop_words='english'))\n",
    "])\n",
    "\n",
    "#Pipeline for the party features: One Hot encode them\n",
    "party_pipe = Pipeline([\n",
    "    ('ohe', OneHotEncoder(drop= 'first'))\n",
    "])\n",
    "\n",
    "#Column transformer that will transform our whole dataframe\n",
    "preprocess = ColumnTransformer([\n",
    "    ('cvec', word_pipe, word_feature),\n",
    "    ('party', party_pipe, party_features)\n",
    "])\n",
    "\n",
    "#Estimator pipeline with our preprocessing in there\n",
    "logit_pipe = Pipeline([\n",
    "    ('pre', preprocess),\n",
    "    ('logit', LogisticRegression(max_iter=1000))\n",
    "])\n",
    "\n",
    "logit_pipe.fit(X_train, y_train);"
   ]
  },
  {
   "cell_type": "code",
   "execution_count": 51,
   "id": "f7f7cf99-bd8b-4f37-92e4-4ae7b531e717",
   "metadata": {},
   "outputs": [
    {
     "name": "stdout",
     "output_type": "stream",
     "text": [
      "Train Accuracy: 0.8667313239828907\n",
      "Train Recall: 0.43526036261522494\n",
      "Test Accuracy: 0.8286023350367414\n",
      "Test Recall: 0.3498168498168498\n",
      "Test Precision: 0.6463620981387479\n",
      "\n",
      "Test Confusion Matrix:\n"
     ]
    },
    {
     "data": {
      "image/png": "[encoded data removed]",
      "text/plain": [
       "<Figure size 640x480 with 2 Axes>"
      ]
     },
     "metadata": {},
     "output_type": "display_data"
    }
   ],
   "source": [
    "history.append(my_metrics(logit_pipe))"
   ]
  },
  {
   "cell_type": "markdown",
   "id": "60dd3bff-e212-4bc0-a6d4-52ee5c6b2959",
   "metadata": {},
   "source": [
    "The test accuracy for this model is 82.8% accuracy, better than our base model but not by too much. It seems to slighly over fit as the training accuracy is 3% higher. Our recall and precision are not veery impressive."
   ]
  },
  {
   "cell_type": "markdown",
   "id": "8148bc1a-b33c-400a-bb11-ddc0b3ab6981",
   "metadata": {},
   "source": [
    "# Lemmatize title CV with Logit\n",
    "**Strategy:**\n",
    "Second model will be kept simple:\n",
    "\n",
    "    -WordNetLemmatize titles before word count vectorizing\n",
    "    -CountVectorize title\n",
    "    -OneHotEncode categorical variables\n",
    "    -Logistic Regression\n",
    "    \n",
    "Lemmatizing is the act of bring words down to their base. So a word like cats becomes cat."
   ]
  },
  {
   "cell_type": "code",
   "execution_count": 52,
   "id": "0c551ec5-9cc7-4233-841d-4759f4eeeed9",
   "metadata": {},
   "outputs": [],
   "source": [
    "#Making column for the Title lemmatized\n",
    "wnl = WordNetLemmatizer()\n",
    "df['lemma_title'] = df['title'].map(lambda x:' '.join([wnl.lemmatize(word) for word in word_tokenize(x)]))\n",
    "\n",
    "word_feature = 'lemma_title'"
   ]
  },
  {
   "cell_type": "code",
   "execution_count": 53,
   "id": "84ee06a5-ef54-4ab4-a1da-b342f1b03407",
   "metadata": {},
   "outputs": [],
   "source": [
    "#Have to resplit as we are using a new colum. Same random state makes it the same sample for the train and test\n",
    "X = df[['lemma_title', 'gov_party','senate_party','house_party','state_party_control','party_of_1st_chamber','party_of_2nd_chamber']]\n",
    "y = df['law_enacted']\n",
    "\n",
    "\n",
    "X_train, X_test, y_train, y_test = train_test_split(X,y,random_state = 42, stratify = y)"
   ]
  },
  {
   "cell_type": "code",
   "execution_count": 54,
   "id": "f9a52034-f89c-4f37-9bcb-436c0fdbe05d",
   "metadata": {},
   "outputs": [],
   "source": [
    "#Pipeline for our title feature: Count Vectorize it\n",
    "word_pipe = Pipeline([\n",
    "    ('cv', CountVectorizer(stop_words='english'))\n",
    "])\n",
    "\n",
    "#Pipeline for the party features: One Hot encode them\n",
    "party_pipe = Pipeline([\n",
    "    ('ohe', OneHotEncoder())\n",
    "])\n",
    "\n",
    "#Column transformer that will transform our whole dataframe\n",
    "preprocess = ColumnTransformer([\n",
    "    ('cvec', word_pipe, word_feature),\n",
    "    ('party', party_pipe, party_features)\n",
    "])\n",
    "\n",
    "#Estimator pipeline with our preprocessing in there\n",
    "logit_pipe_lemma = Pipeline([\n",
    "    ('pre', preprocess),\n",
    "    ('logit', LogisticRegression(max_iter=1000))\n",
    "])\n",
    "\n",
    "logit_pipe_lemma.fit(X_train, y_train);"
   ]
  },
  {
   "cell_type": "code",
   "execution_count": 55,
   "id": "951ee2a3-8e14-4ad4-8130-11ba7878cab7",
   "metadata": {},
   "outputs": [
    {
     "name": "stdout",
     "output_type": "stream",
     "text": [
      "Train Accuracy: 0.8655749527504227\n",
      "Train Recall: 0.427263292839265\n",
      "Test Accuracy: 0.8300943712932224\n",
      "Test Recall: 0.34285714285714286\n",
      "Test Precision: 0.6593871081366678\n",
      "\n",
      "Test Confusion Matrix:\n"
     ]
    },
    {
     "data": {
      "image/png": "[encoded data removed]",
      "text/plain": [
       "<Figure size 640x480 with 2 Axes>"
      ]
     },
     "metadata": {},
     "output_type": "display_data"
    }
   ],
   "source": [
    "history.append(my_metrics(logit_pipe_lemma,X_train, X_test, y_train, y_test))"
   ]
  },
  {
   "cell_type": "code",
   "execution_count": 56,
   "id": "7fa212ef-bd14-48a6-8b1a-1df251e53254",
   "metadata": {},
   "outputs": [
    {
     "data": {
      "text/html": [
       "<div>\n",
       "<style scoped>\n",
       "    .dataframe tbody tr th:only-of-type {\n",
       "        vertical-align: middle;\n",
       "    }\n",
       "\n",
       "    .dataframe tbody tr th {\n",
       "        vertical-align: top;\n",
       "    }\n",
       "\n",
       "    .dataframe thead th {\n",
       "        text-align: right;\n",
       "    }\n",
       "</style>\n",
       "<table border=\"1\" class=\"dataframe\">\n",
       "  <thead>\n",
       "    <tr style=\"text-align: right;\">\n",
       "      <th></th>\n",
       "      <th>accuracy</th>\n",
       "      <th>recall</th>\n",
       "      <th>precision</th>\n",
       "    </tr>\n",
       "  </thead>\n",
       "  <tbody>\n",
       "    <tr>\n",
       "      <th>cv_logit</th>\n",
       "      <td>0.828602</td>\n",
       "      <td>0.349817</td>\n",
       "      <td>0.646362</td>\n",
       "    </tr>\n",
       "    <tr>\n",
       "      <th>cv_lemma_logit</th>\n",
       "      <td>0.830094</td>\n",
       "      <td>0.342857</td>\n",
       "      <td>0.659387</td>\n",
       "    </tr>\n",
       "  </tbody>\n",
       "</table>\n",
       "</div>"
      ],
      "text/plain": [
       "                accuracy    recall  precision\n",
       "cv_logit        0.828602  0.349817   0.646362\n",
       "cv_lemma_logit  0.830094  0.342857   0.659387"
      ]
     },
     "execution_count": 56,
     "metadata": {},
     "output_type": "execute_result"
    }
   ],
   "source": [
    "pd.DataFrame(history, index = ['cv_logit', 'cv_lemma_logit'])"
   ]
  },
  {
   "cell_type": "markdown",
   "id": "969fa161-1b54-4281-be1d-e98e90e21282",
   "metadata": {},
   "source": [
    "Lemmatizing did not improve the model significantly. Although, the precision improved and the rcall became worse."
   ]
  },
  {
   "cell_type": "markdown",
   "id": "fa4424eb-8f4b-401d-b02e-c76df636273f",
   "metadata": {},
   "source": [
    "# Porter Stem title CV with Logit\n",
    "**Strategy:**\n",
    "Second model will be kept simple:\n",
    "\n",
    "    -Porter Stemming titles before word count vectorizing\n",
    "    -CountVectorize title\n",
    "    -OneHotEncode categorical variables\n",
    "    -Logistic Regression\n",
    "    \n",
    "Stemming is like lemmatizing but more extreme. Words like computational or compute or computes become comput."
   ]
  },
  {
   "cell_type": "code",
   "execution_count": 57,
   "id": "f2166f96-c655-4c8b-9b2a-a384cf777be5",
   "metadata": {},
   "outputs": [],
   "source": [
    "#Making column for the Titles stemmed\n",
    "ps = PorterStemmer()\n",
    "df['stemmed_title'] = df['title'].map(lambda x:' '.join([ps.stem(word) for word in word_tokenize(x)]))\n",
    "\n",
    "word_feature = 'stemmed_title'"
   ]
  },
  {
   "cell_type": "code",
   "execution_count": 58,
   "id": "5de02e65-7459-4e09-b5cc-f91177700583",
   "metadata": {},
   "outputs": [],
   "source": [
    "#Have to resplit as we are using a new colum. Same random state makes it the same sample for the train and test\n",
    "X = df[['stemmed_title', 'gov_party','senate_party','house_party','state_party_control','party_of_1st_chamber','party_of_2nd_chamber']]\n",
    "y = df['law_enacted']\n",
    "\n",
    "\n",
    "X_train, X_test, y_train, y_test = train_test_split(X,y,random_state = 42, stratify = y)"
   ]
  },
  {
   "cell_type": "code",
   "execution_count": 59,
   "id": "8d86a9e7-e0b0-4221-9d9b-c5f642caec4e",
   "metadata": {},
   "outputs": [],
   "source": [
    "#Pipeline for our title feature: Count Vectorize it\n",
    "word_pipe = Pipeline([\n",
    "    ('cv', CountVectorizer(stop_words='english'))\n",
    "])\n",
    "\n",
    "#Pipeline for the party features: One Hot encode them\n",
    "party_pipe = Pipeline([\n",
    "    ('ohe', OneHotEncoder())\n",
    "])\n",
    "\n",
    "#Column transformer that will transform our whole dataframe\n",
    "preprocess = ColumnTransformer([\n",
    "    ('cvec', word_pipe, word_feature),\n",
    "    ('party', party_pipe, party_features)\n",
    "])\n",
    "\n",
    "#Estimator pipeline with our preprocessing in there\n",
    "logit_pipe_stemmed = Pipeline([\n",
    "    ('pre', preprocess),\n",
    "    ('logit', LogisticRegression(max_iter=1000))\n",
    "])\n",
    "\n",
    "logit_pipe_stemmed.fit(X_train, y_train);"
   ]
  },
  {
   "cell_type": "code",
   "execution_count": 60,
   "id": "621e8027-e15b-4e34-a388-a6cae4abe9dd",
   "metadata": {},
   "outputs": [
    {
     "name": "stdout",
     "output_type": "stream",
     "text": [
      "Train Accuracy: 0.8564980602805132\n",
      "Train Recall: 0.3833709785727367\n",
      "Test Accuracy: 0.8275952105636167\n",
      "Test Recall: 0.3194139194139194\n",
      "Test Precision: 0.6581132075471698\n",
      "\n",
      "Test Confusion Matrix:\n"
     ]
    },
    {
     "data": {
      "image/png": "[encoded data removed]",
      "text/plain": [
       "<Figure size 640x480 with 2 Axes>"
      ]
     },
     "metadata": {},
     "output_type": "display_data"
    }
   ],
   "source": [
    "history.append(my_metrics(logit_pipe_stemmed,X_train, X_test, y_train, y_test))"
   ]
  },
  {
   "cell_type": "code",
   "execution_count": 61,
   "id": "1fd5c12d-acd3-4a9c-bbc0-0adebb9c322c",
   "metadata": {},
   "outputs": [
    {
     "data": {
      "text/html": [
       "<div>\n",
       "<style scoped>\n",
       "    .dataframe tbody tr th:only-of-type {\n",
       "        vertical-align: middle;\n",
       "    }\n",
       "\n",
       "    .dataframe tbody tr th {\n",
       "        vertical-align: top;\n",
       "    }\n",
       "\n",
       "    .dataframe thead th {\n",
       "        text-align: right;\n",
       "    }\n",
       "</style>\n",
       "<table border=\"1\" class=\"dataframe\">\n",
       "  <thead>\n",
       "    <tr style=\"text-align: right;\">\n",
       "      <th></th>\n",
       "      <th>accuracy</th>\n",
       "      <th>recall</th>\n",
       "      <th>precision</th>\n",
       "    </tr>\n",
       "  </thead>\n",
       "  <tbody>\n",
       "    <tr>\n",
       "      <th>cv_logit</th>\n",
       "      <td>0.828602</td>\n",
       "      <td>0.349817</td>\n",
       "      <td>0.646362</td>\n",
       "    </tr>\n",
       "    <tr>\n",
       "      <th>cv_lemma_logit</th>\n",
       "      <td>0.830094</td>\n",
       "      <td>0.342857</td>\n",
       "      <td>0.659387</td>\n",
       "    </tr>\n",
       "    <tr>\n",
       "      <th>cv_stem_logit</th>\n",
       "      <td>0.827595</td>\n",
       "      <td>0.319414</td>\n",
       "      <td>0.658113</td>\n",
       "    </tr>\n",
       "  </tbody>\n",
       "</table>\n",
       "</div>"
      ],
      "text/plain": [
       "                accuracy    recall  precision\n",
       "cv_logit        0.828602  0.349817   0.646362\n",
       "cv_lemma_logit  0.830094  0.342857   0.659387\n",
       "cv_stem_logit   0.827595  0.319414   0.658113"
      ]
     },
     "execution_count": 61,
     "metadata": {},
     "output_type": "execute_result"
    }
   ],
   "source": [
    "pd.DataFrame(history, index = ['cv_logit', 'cv_lemma_logit', 'cv_stem_logit'])"
   ]
  },
  {
   "cell_type": "markdown",
   "id": "9ab2c35b-aeee-4837-9935-ce6302a77ca9",
   "metadata": {},
   "source": [
    "Stemming did not help the model."
   ]
  },
  {
   "cell_type": "markdown",
   "id": "232a5068-6df8-4131-967e-f4fd5a062992",
   "metadata": {},
   "source": [
    "# TFIDF with Logit\n",
    "**Strategy:**\n",
    "Second model will be kept simple:\n",
    "\n",
    "    -TFIDF title\n",
    "    -OneHotEncode categorical variables\n",
    "    -Logistic Regression\n",
    "    \n",
    "Stemming is like lemmatizing but more extreme. Words like computational or compute or computes become comput."
   ]
  },
  {
   "cell_type": "code",
   "execution_count": 62,
   "id": "6ca580f2-f559-44f6-9e3d-27a2c7b482fc",
   "metadata": {},
   "outputs": [],
   "source": [
    "X = df[['title', 'gov_party','senate_party','house_party','state_party_control','party_of_1st_chamber','party_of_2nd_chamber']]\n",
    "y = df['law_enacted']\n",
    "\n",
    "\n",
    "X_train, X_test, y_train, y_test = train_test_split(X,y,random_state = 42, stratify = y)\n",
    "\n",
    "word_feature = 'title'"
   ]
  },
  {
   "cell_type": "code",
   "execution_count": 63,
   "id": "0d0117d3-399f-4a5b-b0fe-b49045326927",
   "metadata": {},
   "outputs": [
    {
     "name": "stdout",
     "output_type": "stream",
     "text": [
      "Train Accuracy: 0.846165323783945\n",
      "Train Recall: 0.3229351077467798\n",
      "Test Accuracy: 0.8347569845947257\n",
      "Test Recall: 0.29816849816849816\n",
      "Test Precision: 0.7313566936208445\n",
      "\n",
      "Test Confusion Matrix:\n"
     ]
    },
    {
     "data": {
      "image/png": "[encoded data removed]",
      "text/plain": [
       "<Figure size 640x480 with 2 Axes>"
      ]
     },
     "metadata": {},
     "output_type": "display_data"
    }
   ],
   "source": [
    "#Pipeline for our title feature: Count Vectorize it\n",
    "word_pipe = Pipeline([\n",
    "    ('tfidf', TfidfVectorizer(stop_words='english'))\n",
    "])\n",
    "\n",
    "#Pipeline for the party features: One Hot encode them\n",
    "party_pipe = Pipeline([\n",
    "    ('ohe', OneHotEncoder())\n",
    "])\n",
    "\n",
    "#Column transformer that will transform our whole dataframe\n",
    "preprocess = ColumnTransformer([\n",
    "    ('tfidf', word_pipe, word_feature),\n",
    "    ('party', party_pipe, party_features)\n",
    "])\n",
    "\n",
    "#Estimator pipeline with our preprocessing in there\n",
    "logit_pipe_tfidf = Pipeline([\n",
    "    ('pre', preprocess),\n",
    "    ('logit', LogisticRegression(max_iter=1000))\n",
    "])\n",
    "\n",
    "logit_pipe_tfidf.fit(X_train, y_train)\n",
    "\n",
    "history.append(my_metrics(logit_pipe_tfidf,X_train, X_test, y_train, y_test));"
   ]
  },
  {
   "cell_type": "code",
   "execution_count": 64,
   "id": "b97739ff-3857-465e-8557-5b3c40d69c95",
   "metadata": {},
   "outputs": [
    {
     "data": {
      "text/html": [
       "<div>\n",
       "<style scoped>\n",
       "    .dataframe tbody tr th:only-of-type {\n",
       "        vertical-align: middle;\n",
       "    }\n",
       "\n",
       "    .dataframe tbody tr th {\n",
       "        vertical-align: top;\n",
       "    }\n",
       "\n",
       "    .dataframe thead th {\n",
       "        text-align: right;\n",
       "    }\n",
       "</style>\n",
       "<table border=\"1\" class=\"dataframe\">\n",
       "  <thead>\n",
       "    <tr style=\"text-align: right;\">\n",
       "      <th></th>\n",
       "      <th>accuracy</th>\n",
       "      <th>recall</th>\n",
       "      <th>precision</th>\n",
       "    </tr>\n",
       "  </thead>\n",
       "  <tbody>\n",
       "    <tr>\n",
       "      <th>cv_logit</th>\n",
       "      <td>0.828602</td>\n",
       "      <td>0.349817</td>\n",
       "      <td>0.646362</td>\n",
       "    </tr>\n",
       "    <tr>\n",
       "      <th>cv_lemma_logit</th>\n",
       "      <td>0.830094</td>\n",
       "      <td>0.342857</td>\n",
       "      <td>0.659387</td>\n",
       "    </tr>\n",
       "    <tr>\n",
       "      <th>cv_stem_logit</th>\n",
       "      <td>0.827595</td>\n",
       "      <td>0.319414</td>\n",
       "      <td>0.658113</td>\n",
       "    </tr>\n",
       "    <tr>\n",
       "      <th>tfidif_logit</th>\n",
       "      <td>0.834757</td>\n",
       "      <td>0.298168</td>\n",
       "      <td>0.731357</td>\n",
       "    </tr>\n",
       "  </tbody>\n",
       "</table>\n",
       "</div>"
      ],
      "text/plain": [
       "                accuracy    recall  precision\n",
       "cv_logit        0.828602  0.349817   0.646362\n",
       "cv_lemma_logit  0.830094  0.342857   0.659387\n",
       "cv_stem_logit   0.827595  0.319414   0.658113\n",
       "tfidif_logit    0.834757  0.298168   0.731357"
      ]
     },
     "execution_count": 64,
     "metadata": {},
     "output_type": "execute_result"
    }
   ],
   "source": [
    "pd.DataFrame(history, index = ['cv_logit', 'cv_lemma_logit', 'cv_stem_logit', 'tfidif_logit'])"
   ]
  },
  {
   "cell_type": "markdown",
   "id": "af6dd7ec-6d23-41e3-a00a-6b923e0a84f4",
   "metadata": {},
   "source": [
    "Worst recall but best accuracy. Also pretty high prcision. The recall is just so darn low."
   ]
  },
  {
   "cell_type": "markdown",
   "id": "a303217d-19c0-4693-8b30-a830c0733025",
   "metadata": {},
   "source": [
    "# CV with Logit and SMOTE oversampling\n",
    "**Strategy:**\n",
    "Second model will be kept simple:\n",
    "\n",
    "    -Cvec title\n",
    "    -OneHotEncode categorical variables\n",
    "    -SMOTE oversampling\n",
    "    -Logistic Regression\n",
    "    \n",
    "SMOTE: Synthetic Minority Over-sampling Technique (SMOTE)"
   ]
  },
  {
   "cell_type": "code",
   "execution_count": 65,
   "id": "c8f0375a-4a93-4e85-908f-c550a9e95496",
   "metadata": {},
   "outputs": [
    {
     "name": "stdout",
     "output_type": "stream",
     "text": [
      "Train Accuracy: 0.8223415895752512\n",
      "Train Recall: 0.78694829375496\n",
      "Test Accuracy: 0.7522473796113246\n",
      "Test Recall: 0.634981684981685\n",
      "Test Precision: 0.427180877279448\n",
      "\n",
      "Test Confusion Matrix:\n"
     ]
    },
    {
     "data": {
      "image/png": "[encoded data removed]",
      "text/plain": [
       "<Figure size 640x480 with 2 Axes>"
      ]
     },
     "metadata": {},
     "output_type": "display_data"
    }
   ],
   "source": [
    "#Pipeline for our title feature: Count Vectorize it\n",
    "word_pipe = Pipeline([\n",
    "    ('cv', CountVectorizer(stop_words='english'))\n",
    "])\n",
    "\n",
    "#Pipeline for the party features: One Hot encode them\n",
    "party_pipe = Pipeline([\n",
    "    ('ohe', OneHotEncoder(drop= 'first'))\n",
    "])\n",
    "\n",
    "#Column transformer that will transform our whole dataframe\n",
    "preprocess = ColumnTransformer([\n",
    "    ('cvec', word_pipe, word_feature),\n",
    "    ('party', party_pipe, party_features)\n",
    "])\n",
    "\n",
    "#Estimator pipeline with our preprocessing in there\n",
    "logit_pipe_smote = make_pipeline(preprocess, SMOTE(random_state = 42), LogisticRegression(max_iter=1000))\n",
    "\n",
    "logit_pipe_smote.fit(X_train, y_train)\n",
    "\n",
    "history.append(my_metrics(logit_pipe_smote,X_train, X_test, y_train, y_test));"
   ]
  },
  {
   "cell_type": "code",
   "execution_count": 66,
   "id": "5e2f0385-7752-4c71-b8c8-17e7735c868d",
   "metadata": {},
   "outputs": [
    {
     "data": {
      "text/html": [
       "<div>\n",
       "<style scoped>\n",
       "    .dataframe tbody tr th:only-of-type {\n",
       "        vertical-align: middle;\n",
       "    }\n",
       "\n",
       "    .dataframe tbody tr th {\n",
       "        vertical-align: top;\n",
       "    }\n",
       "\n",
       "    .dataframe thead th {\n",
       "        text-align: right;\n",
       "    }\n",
       "</style>\n",
       "<table border=\"1\" class=\"dataframe\">\n",
       "  <thead>\n",
       "    <tr style=\"text-align: right;\">\n",
       "      <th></th>\n",
       "      <th>accuracy</th>\n",
       "      <th>recall</th>\n",
       "      <th>precision</th>\n",
       "    </tr>\n",
       "  </thead>\n",
       "  <tbody>\n",
       "    <tr>\n",
       "      <th>cv_logit</th>\n",
       "      <td>0.828602</td>\n",
       "      <td>0.349817</td>\n",
       "      <td>0.646362</td>\n",
       "    </tr>\n",
       "    <tr>\n",
       "      <th>cv_lemma_logit</th>\n",
       "      <td>0.830094</td>\n",
       "      <td>0.342857</td>\n",
       "      <td>0.659387</td>\n",
       "    </tr>\n",
       "    <tr>\n",
       "      <th>cv_stem_logit</th>\n",
       "      <td>0.827595</td>\n",
       "      <td>0.319414</td>\n",
       "      <td>0.658113</td>\n",
       "    </tr>\n",
       "    <tr>\n",
       "      <th>tfidif_logit</th>\n",
       "      <td>0.834757</td>\n",
       "      <td>0.298168</td>\n",
       "      <td>0.731357</td>\n",
       "    </tr>\n",
       "    <tr>\n",
       "      <th>cv_SMOTE_logit</th>\n",
       "      <td>0.752247</td>\n",
       "      <td>0.634982</td>\n",
       "      <td>0.427181</td>\n",
       "    </tr>\n",
       "  </tbody>\n",
       "</table>\n",
       "</div>"
      ],
      "text/plain": [
       "                accuracy    recall  precision\n",
       "cv_logit        0.828602  0.349817   0.646362\n",
       "cv_lemma_logit  0.830094  0.342857   0.659387\n",
       "cv_stem_logit   0.827595  0.319414   0.658113\n",
       "tfidif_logit    0.834757  0.298168   0.731357\n",
       "cv_SMOTE_logit  0.752247  0.634982   0.427181"
      ]
     },
     "execution_count": 66,
     "metadata": {},
     "output_type": "execute_result"
    }
   ],
   "source": [
    "pd.DataFrame(history, index = ['cv_logit', 'cv_lemma_logit', 'cv_stem_logit', 'tfidif_logit', 'cv_SMOTE_logit'])"
   ]
  },
  {
   "cell_type": "markdown",
   "id": "4510b24b-0886-4279-aeef-1608ed669d22",
   "metadata": {},
   "source": [
    "Worst accuracy yet, but not significantly worse compared to the increase in recall! Although the accuracy is loweer than the baseline, I would say this is the beest model yet."
   ]
  },
  {
   "cell_type": "markdown",
   "id": "9e524f57-27e4-4d43-aec0-547c36edb10e",
   "metadata": {},
   "source": [
    "# CV with Logit and random oversampling\n",
    "**Strategy:**\n",
    "Second model will be kept simple:\n",
    "\n",
    "    -Cvec title\n",
    "    -OneHotEncode categorical variables\n",
    "    -Random oversampling\n",
    "    -Logistic Regression\n",
    "    "
   ]
  },
  {
   "cell_type": "code",
   "execution_count": 68,
   "id": "89c3c7cc-f107-4b7a-a000-0efbf18373fb",
   "metadata": {},
   "outputs": [
    {
     "name": "stdout",
     "output_type": "stream",
     "text": [
      "Train Accuracy: 0.8219188301999403\n",
      "Train Recall: 0.8263231792930834\n",
      "Test Accuracy: 0.7469879518072289\n",
      "Test Recall: 0.6490842490842491\n",
      "Test Precision: 0.42135299013197003\n",
      "\n",
      "Test Confusion Matrix:\n"
     ]
    },
    {
     "data": {
      "image/png": "[encoded data removed]",
      "text/plain": [
       "<Figure size 640x480 with 2 Axes>"
      ]
     },
     "metadata": {},
     "output_type": "display_data"
    }
   ],
   "source": [
    "#Pipeline for our title feature: Count Vectorize it\n",
    "word_pipe = Pipeline([\n",
    "    ('cv', CountVectorizer(stop_words='english'))\n",
    "])\n",
    "\n",
    "#Pipeline for the party features: One Hot encode them\n",
    "party_pipe = Pipeline([\n",
    "    ('ohe', OneHotEncoder(drop= 'first'))\n",
    "])\n",
    "\n",
    "#Column transformer that will transform our whole dataframe\n",
    "preprocess = ColumnTransformer([\n",
    "    ('cvec', word_pipe, word_feature),\n",
    "    ('party', party_pipe, party_features)\n",
    "])\n",
    "\n",
    "#Estimator pipeline with our preprocessing in there\n",
    "logit_pipe_ROS = make_pipeline(preprocess, RandomOverSampler(random_state = 42), LogisticRegression(max_iter=1000))\n",
    "\n",
    "logit_pipe_ROS.fit(X_train, y_train)\n",
    "\n",
    "history.append(my_metrics(logit_pipe_ROS,X_train, X_test, y_train, y_test));"
   ]
  },
  {
   "cell_type": "code",
   "execution_count": 69,
   "id": "6365ca62-3708-47ca-938f-4e91ecbe223c",
   "metadata": {},
   "outputs": [
    {
     "data": {
      "text/html": [
       "<div>\n",
       "<style scoped>\n",
       "    .dataframe tbody tr th:only-of-type {\n",
       "        vertical-align: middle;\n",
       "    }\n",
       "\n",
       "    .dataframe tbody tr th {\n",
       "        vertical-align: top;\n",
       "    }\n",
       "\n",
       "    .dataframe thead th {\n",
       "        text-align: right;\n",
       "    }\n",
       "</style>\n",
       "<table border=\"1\" class=\"dataframe\">\n",
       "  <thead>\n",
       "    <tr style=\"text-align: right;\">\n",
       "      <th></th>\n",
       "      <th>accuracy</th>\n",
       "      <th>recall</th>\n",
       "      <th>precision</th>\n",
       "    </tr>\n",
       "  </thead>\n",
       "  <tbody>\n",
       "    <tr>\n",
       "      <th>cv_logit</th>\n",
       "      <td>0.828602</td>\n",
       "      <td>0.349817</td>\n",
       "      <td>0.646362</td>\n",
       "    </tr>\n",
       "    <tr>\n",
       "      <th>cv_lemma_logit</th>\n",
       "      <td>0.830094</td>\n",
       "      <td>0.342857</td>\n",
       "      <td>0.659387</td>\n",
       "    </tr>\n",
       "    <tr>\n",
       "      <th>cv_stem_logit</th>\n",
       "      <td>0.827595</td>\n",
       "      <td>0.319414</td>\n",
       "      <td>0.658113</td>\n",
       "    </tr>\n",
       "    <tr>\n",
       "      <th>tfidif_logit</th>\n",
       "      <td>0.834757</td>\n",
       "      <td>0.298168</td>\n",
       "      <td>0.731357</td>\n",
       "    </tr>\n",
       "    <tr>\n",
       "      <th>cv_SMOTE_logit</th>\n",
       "      <td>0.752247</td>\n",
       "      <td>0.634982</td>\n",
       "      <td>0.427181</td>\n",
       "    </tr>\n",
       "    <tr>\n",
       "      <th>cv_OverSample_logit</th>\n",
       "      <td>0.746988</td>\n",
       "      <td>0.649084</td>\n",
       "      <td>0.421353</td>\n",
       "    </tr>\n",
       "  </tbody>\n",
       "</table>\n",
       "</div>"
      ],
      "text/plain": [
       "                     accuracy    recall  precision\n",
       "cv_logit             0.828602  0.349817   0.646362\n",
       "cv_lemma_logit       0.830094  0.342857   0.659387\n",
       "cv_stem_logit        0.827595  0.319414   0.658113\n",
       "tfidif_logit         0.834757  0.298168   0.731357\n",
       "cv_SMOTE_logit       0.752247  0.634982   0.427181\n",
       "cv_OverSample_logit  0.746988  0.649084   0.421353"
      ]
     },
     "execution_count": 69,
     "metadata": {},
     "output_type": "execute_result"
    }
   ],
   "source": [
    "pd.DataFrame(history, index = ['cv_logit', 'cv_lemma_logit', 'cv_stem_logit', 'tfidif_logit', 'cv_SMOTE_logit', 'cv_OverSample_logit'])"
   ]
  },
  {
   "cell_type": "markdown",
   "id": "f5a34682-d3ad-4145-a2ec-6d7469ef7b85",
   "metadata": {},
   "source": [
    "# TFIDF with Logit and random oversampling\n",
    "**Strategy:**\n",
    "Second model will be kept simple:\n",
    "\n",
    "    -TFIDF title\n",
    "    -OneHotEncode categorical variables\n",
    "    -Random oversampling\n",
    "    -Logistic Regression\n",
    "    "
   ]
  },
  {
   "cell_type": "code",
   "execution_count": 70,
   "id": "339cb695-0c94-46e8-bfd3-2e94c779f5e9",
   "metadata": {},
   "outputs": [
    {
     "name": "stdout",
     "output_type": "stream",
     "text": [
      "Train Accuracy: 0.7994752810106436\n",
      "Train Recall: 0.7775471582931445\n",
      "Test Accuracy: 0.7479204744675295\n",
      "Test Recall: 0.6584249084249084\n",
      "Test Precision: 0.4235391140433553\n",
      "\n",
      "Test Confusion Matrix:\n"
     ]
    },
    {
     "data": {
      "image/png": "[encoded data removed]",
      "text/plain": [
       "<Figure size 640x480 with 2 Axes>"
      ]
     },
     "metadata": {},
     "output_type": "display_data"
    }
   ],
   "source": [
    "#Pipeline for our title feature: Count Vectorize it\n",
    "word_pipe = Pipeline([\n",
    "    ('tfidf', TfidfVectorizer(stop_words='english'))\n",
    "])\n",
    "\n",
    "#Pipeline for the party features: One Hot encode them\n",
    "party_pipe = Pipeline([\n",
    "    ('ohe', OneHotEncoder(drop= 'first'))\n",
    "])\n",
    "\n",
    "#Column transformer that will transform our whole dataframe\n",
    "preprocess = ColumnTransformer([\n",
    "    ('cvec', word_pipe, word_feature),\n",
    "    ('party', party_pipe, party_features)\n",
    "])\n",
    "\n",
    "#Estimator pipeline with our preprocessing in there\n",
    "logit_pipe_tfidf_smote = make_pipeline(preprocess, SMOTE(random_state = 42), LogisticRegression(max_iter=1000))\n",
    "\n",
    "logit_pipe_tfidf_smote.fit(X_train, y_train)\n",
    "\n",
    "history.append(my_metrics(logit_pipe_tfidf_smote,X_train, X_test, y_train, y_test));"
   ]
  },
  {
   "cell_type": "code",
   "execution_count": 71,
   "id": "97f259e7-d190-42d5-9cab-1f0af73315d2",
   "metadata": {},
   "outputs": [
    {
     "data": {
      "text/html": [
       "<div>\n",
       "<style scoped>\n",
       "    .dataframe tbody tr th:only-of-type {\n",
       "        vertical-align: middle;\n",
       "    }\n",
       "\n",
       "    .dataframe tbody tr th {\n",
       "        vertical-align: top;\n",
       "    }\n",
       "\n",
       "    .dataframe thead th {\n",
       "        text-align: right;\n",
       "    }\n",
       "</style>\n",
       "<table border=\"1\" class=\"dataframe\">\n",
       "  <thead>\n",
       "    <tr style=\"text-align: right;\">\n",
       "      <th></th>\n",
       "      <th>accuracy</th>\n",
       "      <th>recall</th>\n",
       "      <th>precision</th>\n",
       "    </tr>\n",
       "  </thead>\n",
       "  <tbody>\n",
       "    <tr>\n",
       "      <th>cv_logit</th>\n",
       "      <td>0.828602</td>\n",
       "      <td>0.349817</td>\n",
       "      <td>0.646362</td>\n",
       "    </tr>\n",
       "    <tr>\n",
       "      <th>cv_lemma_logit</th>\n",
       "      <td>0.830094</td>\n",
       "      <td>0.342857</td>\n",
       "      <td>0.659387</td>\n",
       "    </tr>\n",
       "    <tr>\n",
       "      <th>cv_stem_logit</th>\n",
       "      <td>0.827595</td>\n",
       "      <td>0.319414</td>\n",
       "      <td>0.658113</td>\n",
       "    </tr>\n",
       "    <tr>\n",
       "      <th>tfidif_logit</th>\n",
       "      <td>0.834757</td>\n",
       "      <td>0.298168</td>\n",
       "      <td>0.731357</td>\n",
       "    </tr>\n",
       "    <tr>\n",
       "      <th>cv_SMOTE_logit</th>\n",
       "      <td>0.752247</td>\n",
       "      <td>0.634982</td>\n",
       "      <td>0.427181</td>\n",
       "    </tr>\n",
       "    <tr>\n",
       "      <th>cv_OverSample_logit</th>\n",
       "      <td>0.746988</td>\n",
       "      <td>0.649084</td>\n",
       "      <td>0.421353</td>\n",
       "    </tr>\n",
       "    <tr>\n",
       "      <th>tfidf_SMOTE_logit</th>\n",
       "      <td>0.747920</td>\n",
       "      <td>0.658425</td>\n",
       "      <td>0.423539</td>\n",
       "    </tr>\n",
       "  </tbody>\n",
       "</table>\n",
       "</div>"
      ],
      "text/plain": [
       "                     accuracy    recall  precision\n",
       "cv_logit             0.828602  0.349817   0.646362\n",
       "cv_lemma_logit       0.830094  0.342857   0.659387\n",
       "cv_stem_logit        0.827595  0.319414   0.658113\n",
       "tfidif_logit         0.834757  0.298168   0.731357\n",
       "cv_SMOTE_logit       0.752247  0.634982   0.427181\n",
       "cv_OverSample_logit  0.746988  0.649084   0.421353\n",
       "tfidf_SMOTE_logit    0.747920  0.658425   0.423539"
      ]
     },
     "execution_count": 71,
     "metadata": {},
     "output_type": "execute_result"
    }
   ],
   "source": [
    "pd.DataFrame(history, index = ['cv_logit', 'cv_lemma_logit', 'cv_stem_logit', 'tfidif_logit', 'cv_SMOTE_logit', 'cv_OverSample_logit', 'tfidf_SMOTE_logit'])"
   ]
  },
  {
   "cell_type": "code",
   "execution_count": null,
   "id": "b31fc256-e69d-45b7-9d41-c8bf97c61917",
   "metadata": {},
   "outputs": [],
   "source": []
  },
  {
   "cell_type": "code",
   "execution_count": null,
   "id": "527072fd-29de-481d-9105-8f6a3ada64a9",
   "metadata": {},
   "outputs": [],
   "source": []
  },
  {
   "cell_type": "code",
   "execution_count": null,
   "id": "797146a2-1914-45b4-baa6-1293c34e14d0",
   "metadata": {},
   "outputs": [],
   "source": []
  },
  {
   "cell_type": "code",
   "execution_count": null,
   "id": "3c0fdc05-2931-475b-b06c-b27d4772c28e",
   "metadata": {},
   "outputs": [],
   "source": []
  },
  {
   "cell_type": "code",
   "execution_count": null,
   "id": "b0575ca6-39e0-4dc5-949b-29beac5aac94",
   "metadata": {},
   "outputs": [],
   "source": []
  },
  {
   "cell_type": "code",
   "execution_count": null,
   "id": "107d8e0e-3db0-4462-9c0e-feaab2606095",
   "metadata": {},
   "outputs": [],
   "source": []
  },
  {
   "cell_type": "code",
   "execution_count": null,
   "id": "efa78162-f564-4512-b55c-b5e0b97cb0dc",
   "metadata": {},
   "outputs": [],
   "source": []
  },
  {
   "cell_type": "code",
   "execution_count": null,
   "id": "249949aa-8279-4e59-b18f-6d72f94b03ae",
   "metadata": {},
   "outputs": [],
   "source": []
  },
  {
   "cell_type": "code",
   "execution_count": null,
   "id": "5b6027bd-37ba-400e-ab7d-6a59a555666e",
   "metadata": {},
   "outputs": [],
   "source": []
  },
  {
   "cell_type": "code",
   "execution_count": null,
   "id": "48f000cd-cfcc-43a2-9914-308eb469f145",
   "metadata": {},
   "outputs": [],
   "source": []
  },
  {
   "cell_type": "code",
   "execution_count": null,
   "id": "7de5fff6-af1a-4e76-83db-010e5ffa59b7",
   "metadata": {},
   "outputs": [],
   "source": []
  },
  {
   "cell_type": "code",
   "execution_count": null,
   "id": "0b7a7bd2-461c-457c-9acd-b28de095f9c2",
   "metadata": {},
   "outputs": [],
   "source": []
  },
  {
   "cell_type": "code",
   "execution_count": null,
   "id": "e81ed658-c2ef-4408-ba14-68634bea655b",
   "metadata": {},
   "outputs": [],
   "source": []
  },
  {
   "cell_type": "code",
   "execution_count": null,
   "id": "a8618e63-7093-4bf2-b3ac-83f06d4da950",
   "metadata": {},
   "outputs": [],
   "source": []
  },
  {
   "cell_type": "code",
   "execution_count": 50,
   "id": "8d3cf4b1-efa9-4216-bdde-5658ba388d4e",
   "metadata": {},
   "outputs": [],
   "source": [
    "subjects_df = df[df['subject'].isnull() == False]"
   ]
  },
  {
   "cell_type": "code",
   "execution_count": 51,
   "id": "92f3d39e-6f47-4072-9d10-33d445b6970e",
   "metadata": {},
   "outputs": [],
   "source": [
    "X = subjects_df[['subject', 'gov_party','senate_party','house_party','state_party_control','party_of_1st_chamber','party_of_2nd_chamber']]\n",
    "y = subjects_df['law_enacted']\n",
    "\n",
    "\n",
    "X_train, X_test, y_train, y_test = train_test_split(X,y,random_state = 42, stratify = y)\n",
    "\n",
    "word_feature = 'subject'"
   ]
  },
  {
   "cell_type": "code",
   "execution_count": 52,
   "id": "98e5a6d6-9b18-4ded-8479-8e76dd6b9e98",
   "metadata": {},
   "outputs": [
    {
     "data": {
      "text/plain": [
       "0    0.797436\n",
       "1    0.202564\n",
       "Name: law_enacted, dtype: float64"
      ]
     },
     "execution_count": 52,
     "metadata": {},
     "output_type": "execute_result"
    }
   ],
   "source": [
    "subjects_df['law_enacted'].value_counts(normalize=True)"
   ]
  },
  {
   "cell_type": "code",
   "execution_count": 53,
   "id": "5dc4a1a0-d36d-477b-be5d-9ccfafa2085b",
   "metadata": {},
   "outputs": [],
   "source": [
    "#Pipeline for our title feature: Count Vectorize it\n",
    "word_pipe = Pipeline([\n",
    "    ('cv', CountVectorizer(stop_words='english'))\n",
    "])\n",
    "\n",
    "#Pipeline for the party features: One Hot encode them\n",
    "party_pipe = Pipeline([\n",
    "    ('ohe', OneHotEncoder(drop= 'first'))\n",
    "])\n",
    "\n",
    "#Column transformer that will transform our whole dataframe\n",
    "preprocess = ColumnTransformer([\n",
    "    ('cvec', word_pipe, word_feature),\n",
    "    ('party', party_pipe, party_features)\n",
    "])\n",
    "\n",
    "#Estimator pipeline with our preprocessing in there\n",
    "logit_pipe = Pipeline([\n",
    "    ('pre', preprocess),\n",
    "    ('logit', LogisticRegression(max_iter=1000))\n",
    "])\n",
    "\n",
    "logit_pipe.fit(X_train, y_train);"
   ]
  },
  {
   "cell_type": "code",
   "execution_count": 54,
   "id": "31ed4531-be97-43c1-bb39-9794b2fe76c5",
   "metadata": {},
   "outputs": [
    {
     "name": "stdout",
     "output_type": "stream",
     "text": [
      "Train Accuracy: 0.8473894099401816\n",
      "Test Recall: 0.3212723295661684\n",
      "Test Accuracy: 0.8101910828025478\n",
      "Balanced Accuracy: 0.5835670310603935\n",
      "Recall: 0.2026251025430681\n",
      "\n",
      "Test Confusion Matrix:\n"
     ]
    },
    {
     "data": {
      "text/plain": [
       "{'balanced_accuracy': 0.5835670310603935,\n",
       " 'recall': 0.2026251025430681,\n",
       " 'precision': 0.59185303514377,\n",
       " 'f1_score': 0.3018944795273986}"
      ]
     },
     "execution_count": 54,
     "metadata": {},
     "output_type": "execute_result"
    },
    {
     "data": {
      "image/png": "[encoded data removed]",
      "text/plain": [
       "<Figure size 640x480 with 2 Axes>"
      ]
     },
     "metadata": {},
     "output_type": "display_data"
    }
   ],
   "source": [
    "my_metrics(logit_pipe,X_train, X_test, y_train, y_test)"
   ]
  },
  {
   "cell_type": "code",
   "execution_count": 55,
   "id": "8d10e927-8f28-4844-bc48-12b1eaf39835",
   "metadata": {},
   "outputs": [
    {
     "name": "stdout",
     "output_type": "stream",
     "text": [
      "Train Accuracy: 0.7871095192378702\n",
      "Test Recall: 0.8246445497630331\n",
      "Test Accuracy: 0.7210744945998339\n",
      "Balanced Accuracy: 0.690070511190845\n",
      "Recall: 0.6379546076018594\n",
      "\n",
      "Test Confusion Matrix:\n"
     ]
    },
    {
     "data": {
      "image/png": "[encoded data removed]",
      "text/plain": [
       "<Figure size 640x480 with 2 Axes>"
      ]
     },
     "metadata": {},
     "output_type": "display_data"
    }
   ],
   "source": [
    "#Pipeline for our title feature: Count Vectorize it\n",
    "word_pipe = Pipeline([\n",
    "    ('cv', CountVectorizer(stop_words='english'))\n",
    "])\n",
    "\n",
    "#Pipeline for the party features: One Hot encode them\n",
    "party_pipe = Pipeline([\n",
    "    ('ohe', OneHotEncoder(drop= 'first'))\n",
    "])\n",
    "\n",
    "#Column transformer that will transform our whole dataframe\n",
    "preprocess = ColumnTransformer([\n",
    "    ('cvec', word_pipe, word_feature),\n",
    "    ('party', party_pipe, party_features)\n",
    "])\n",
    "\n",
    "#Estimator pipeline with our preprocessing in there\n",
    "logit_pipe_smote = make_pipeline(preprocess, SMOTE(random_state = 42), LogisticRegression(max_iter=1000))\n",
    "\n",
    "logit_pipe_smote.fit(X_train, y_train)\n",
    "\n",
    "my_metrics(logit_pipe_smote,X_train, X_test, y_train, y_test);"
   ]
  },
  {
   "cell_type": "code",
   "execution_count": null,
   "id": "1fa0f9fc-63b0-41fd-b8c8-104a9e7dc17b",
   "metadata": {},
   "outputs": [],
   "source": []
  },
  {
   "cell_type": "code",
   "execution_count": null,
   "id": "c28ea184-d8b3-44b1-9746-61ab34072dab",
   "metadata": {},
   "outputs": [],
   "source": []
  },
  {
   "cell_type": "code",
   "execution_count": null,
   "id": "d6b95796-fce8-49f2-af69-1eee27ae1d0d",
   "metadata": {},
   "outputs": [],
   "source": []
  }
 ],
 "metadata": {
  "kernelspec": {
   "display_name": "Python 3 (ipykernel)",
   "language": "python",
   "name": "python3"
  },
  "language_info": {
   "codemirror_mode": {
    "name": "ipython",
    "version": 3
   },
   "file_extension": ".py",
   "mimetype": "text/x-python",
   "name": "python",
   "nbconvert_exporter": "python",
   "pygments_lexer": "ipython3",
   "version": "3.9.13"
  }
 },
 "nbformat": 4,
 "nbformat_minor": 5
}
