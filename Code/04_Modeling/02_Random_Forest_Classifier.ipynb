{
 "cells": [
  {
   "cell_type": "code",
   "execution_count": 3,
   "id": "fb5e2533-1ff8-4542-9624-872564db9a6c",
   "metadata": {},
   "outputs": [],
   "source": [
    "import pandas as pd\n",
    "\n",
    "from sklearn.ensemble import RandomForestClassifier\n",
    "from sklearn.compose import ColumnTransformer\n",
    "from sklearn.feature_extraction.text import CountVectorizer, TfidfVectorizer\n",
    "from sklearn.model_selection import train_test_split\n",
    "from sklearn.pipeline import Pipeline\n",
    "from sklearn.metrics import confusion_matrix, ConfusionMatrixDisplay, accuracy_score, recall_score, balanced_accuracy_score, f1_score, precision_score\n",
    "from sklearn.preprocessing import OneHotEncoder, PolynomialFeatures"
   ]
  },
  {
   "cell_type": "code",
   "execution_count": 4,
   "id": "3d749539-dc8d-407c-8d80-8341224ae6ad",
   "metadata": {},
   "outputs": [],
   "source": [
    "df = pd.read_csv('../../Data/Merged_Data/final_data.csv.zip')\n",
    "df_with_sponsors = pd.read_csv('../../Data/Merged_Data/final_data_with_sponsors.csv.zip')"
   ]
  },
  {
   "cell_type": "markdown",
   "id": "1d9e9687-3d9b-467f-9b2e-7af3f6b2bee9",
   "metadata": {},
   "source": [
    "# Splitting Data into Train and Test "
   ]
  },
  {
   "cell_type": "code",
   "execution_count": 5,
   "id": "3df04a34-cc18-4306-a86b-afb9b78929dc",
   "metadata": {},
   "outputs": [],
   "source": [
    "X = df[['title', 'gov_party','senate_party','house_party','state_party_control','party_of_1st_chamber','party_of_2nd_chamber']]\n",
    "y = df['law_enacted']\n",
    "\n",
    "\n",
    "X_train, X_test, y_train, y_test = train_test_split(X,y,random_state = 42, stratify = y)"
   ]
  },
  {
   "cell_type": "markdown",
   "id": "a41a4097-0e52-4209-9347-1018d1afafde",
   "metadata": {},
   "source": [
    "# Metrics Function"
   ]
  },
  {
   "cell_type": "code",
   "execution_count": 6,
   "id": "50a587ef-fb4a-4c7b-9b57-c901f0d1796d",
   "metadata": {},
   "outputs": [],
   "source": [
    "def my_metrics(estimator, X_train = X_train, X_test = X_test, y_train = y_train, y_test = y_test):\n",
    "    \n",
    "    train_preds = estimator.predict(X_train)\n",
    "    preds = estimator.predict(X_test)\n",
    "    \n",
    "    train_acc = accuracy_score(y_train, train_preds)\n",
    "    train_recall = recall_score(y_train, train_preds)\n",
    "    test_acc = accuracy_score(y_test, preds)\n",
    "    recall = recall_score(y_test, preds)\n",
    "    balanced = balanced_accuracy_score(y_test, preds)\n",
    "    f1 = f1_score(y_test, preds)\n",
    "    precision = precision_score(y_test, preds)\n",
    "    \n",
    "    print(f'Train Accuracy: {train_acc}')\n",
    "    print(f'Test Recall: {train_recall}')\n",
    "    print(f'Test Accuracy: {test_acc}')\n",
    "    print(f'Balanced Accuracy: {balanced}')\n",
    "    print(f'Recall: {recall}')\n",
    "    print()\n",
    "    print(f'Test Confusion Matrix:')\n",
    "    \n",
    "    ConfusionMatrixDisplay.from_estimator(estimator, X_test, y_test)\n",
    "    \n",
    "    return {\n",
    "        'balanced_accuracy': balanced,\n",
    "        'recall': recall,\n",
    "        'precision': precision,\n",
    "        'f1_score': f1\n",
    "    }"
   ]
  },
  {
   "cell_type": "code",
   "execution_count": 7,
   "id": "b14c1986-3107-4a74-83a6-3c198d6c2248",
   "metadata": {},
   "outputs": [],
   "source": [
    "#List that will keep track of metrics\n",
    "history = []"
   ]
  },
  {
   "cell_type": "code",
   "execution_count": 8,
   "id": "89076af6-f8dd-41a7-a493-fc48ff50c7b7",
   "metadata": {},
   "outputs": [],
   "source": [
    "#For column transformers later\n",
    "word_feature = 'title'\n",
    "party_features = ['gov_party','senate_party','house_party','state_party_control','party_of_1st_chamber','party_of_2nd_chamber']"
   ]
  },
  {
   "cell_type": "markdown",
   "id": "f6ee92b1-2ac4-46aa-80ed-230cba8fcbef",
   "metadata": {},
   "source": [
    "# Baseline Model\n",
    "\n",
    "This model is one that guesses that the bill will not pass for every bill."
   ]
  },
  {
   "cell_type": "code",
   "execution_count": 9,
   "id": "8e2c5680-9e0b-486b-9b54-d46add7fb96e",
   "metadata": {},
   "outputs": [
    {
     "data": {
      "text/plain": [
       "0    0.796322\n",
       "1    0.203678\n",
       "Name: law_enacted, dtype: float64"
      ]
     },
     "execution_count": 9,
     "metadata": {},
     "output_type": "execute_result"
    }
   ],
   "source": [
    "df['law_enacted'].value_counts(normalize = True)"
   ]
  },
  {
   "cell_type": "markdown",
   "id": "114d5c41-a2d2-46c0-9c0d-1ad4a7a7a5ae",
   "metadata": {},
   "source": [
    "This model has 79.6% accuracy"
   ]
  },
  {
   "cell_type": "code",
   "execution_count": null,
   "id": "b0a18ab8-401c-4d41-b2c7-84708d21f30e",
   "metadata": {},
   "outputs": [],
   "source": []
  },
  {
   "cell_type": "code",
   "execution_count": 10,
   "id": "75716be3-1f6d-4de1-a27c-6a30fe7a62f6",
   "metadata": {},
   "outputs": [
    {
     "name": "stdout",
     "output_type": "stream",
     "text": [
      "Train Accuracy: 0.9747339102755397\n",
      "Test Recall: 0.8972590195958733\n",
      "Test Accuracy: 0.8332276474318326\n",
      "Balanced Accuracy: 0.6644475588583041\n",
      "Recall: 0.37967032967032965\n",
      "\n",
      "Test Confusion Matrix:\n"
     ]
    },
    {
     "data": {
      "image/png": "[encoded data removed]",
      "text/plain": [
       "<Figure size 640x480 with 2 Axes>"
      ]
     },
     "metadata": {},
     "output_type": "display_data"
    }
   ],
   "source": [
    "#Pipeline for our title feature: Count Vectorize it\n",
    "word_pipe = Pipeline([\n",
    "    ('cv', CountVectorizer(stop_words='english'))\n",
    "])\n",
    "\n",
    "#Pipeline for the party features: One Hot encode them\n",
    "party_pipe = Pipeline([\n",
    "    ('ohe', OneHotEncoder(drop= 'first'))\n",
    "])\n",
    "\n",
    "#Column transformer that will transform our whole dataframe\n",
    "preprocess = ColumnTransformer([\n",
    "    ('cvec', word_pipe, word_feature),\n",
    "    ('party', party_pipe, party_features)\n",
    "])\n",
    "\n",
    "#Estimator pipeline with our preprocessing in there\n",
    "rf_pipe = Pipeline([\n",
    "    ('pre', preprocess),\n",
    "    ('rf', RandomForestClassifier(random_state = 42))\n",
    "])\n",
    "\n",
    "rf_pipe.fit(X_train, y_train)\n",
    "\n",
    "history.append(my_metrics(rf_pipe));"
   ]
  },
  {
   "cell_type": "code",
   "execution_count": null,
   "id": "dc23f935-4cc5-4274-8939-7f797c202340",
   "metadata": {},
   "outputs": [],
   "source": []
  },
  {
   "cell_type": "code",
   "execution_count": null,
   "id": "50c8e0ec-a7f6-4194-9abb-b1cb7cbc784a",
   "metadata": {},
   "outputs": [],
   "source": []
  },
  {
   "cell_type": "code",
   "execution_count": null,
   "id": "6f988711-91be-4f58-abf8-da1c61d1f9a1",
   "metadata": {},
   "outputs": [],
   "source": []
  },
  {
   "cell_type": "code",
   "execution_count": null,
   "id": "4354cd84-0ac7-4ccf-9b16-b2e8149ffe6e",
   "metadata": {},
   "outputs": [],
   "source": []
  },
  {
   "cell_type": "code",
   "execution_count": null,
   "id": "e717ddde-b996-4699-a890-1a059adcee81",
   "metadata": {},
   "outputs": [],
   "source": []
  },
  {
   "cell_type": "code",
   "execution_count": null,
   "id": "eb8a410d-fdbf-4dfe-8416-ff7146bf757f",
   "metadata": {},
   "outputs": [],
   "source": []
  },
  {
   "cell_type": "code",
   "execution_count": null,
   "id": "8696008e-bd1f-4e0c-b47b-39216146e419",
   "metadata": {},
   "outputs": [],
   "source": []
  },
  {
   "cell_type": "code",
   "execution_count": null,
   "id": "c34c8da1-f859-4791-93f1-a2cc29e017ac",
   "metadata": {},
   "outputs": [],
   "source": []
  },
  {
   "cell_type": "code",
   "execution_count": null,
   "id": "21c89b5f-5792-4119-8481-a23495364e1f",
   "metadata": {},
   "outputs": [],
   "source": []
  },
  {
   "cell_type": "code",
   "execution_count": null,
   "id": "6e98f411-9466-4c5a-b121-9257f166dd2f",
   "metadata": {},
   "outputs": [],
   "source": []
  },
  {
   "cell_type": "code",
   "execution_count": null,
   "id": "6be3399d-8a53-4451-9028-b528da382c0c",
   "metadata": {},
   "outputs": [],
   "source": []
  },
  {
   "cell_type": "code",
   "execution_count": null,
   "id": "bc604a78-09cf-4746-8079-f61d50adf4fc",
   "metadata": {},
   "outputs": [],
   "source": []
  },
  {
   "cell_type": "code",
   "execution_count": null,
   "id": "1c4feffc-505e-4f31-aedb-08f5aa9d104f",
   "metadata": {},
   "outputs": [],
   "source": []
  }
 ],
 "metadata": {
  "kernelspec": {
   "display_name": "Python 3 (ipykernel)",
   "language": "python",
   "name": "python3"
  },
  "language_info": {
   "codemirror_mode": {
    "name": "ipython",
    "version": 3
   },
   "file_extension": ".py",
   "mimetype": "text/x-python",
   "name": "python",
   "nbconvert_exporter": "python",
   "pygments_lexer": "ipython3",
   "version": "3.9.13"
  }
 },
 "nbformat": 4,
 "nbformat_minor": 5
}
