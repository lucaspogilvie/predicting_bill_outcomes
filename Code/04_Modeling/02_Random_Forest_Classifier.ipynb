{
 "cells": [
  {
   "cell_type": "code",
   "execution_count": 185,
   "id": "fb5e2533-1ff8-4542-9624-872564db9a6c",
   "metadata": {},
   "outputs": [],
   "source": [
    "import pandas as pd\n",
    "import seaborn as sns\n",
    "import numpy as np\n",
    "import matplotlib.pyplot as plt\n",
    "\n",
    "import pickle\n",
    "\n",
    "from sklearn.ensemble import RandomForestClassifier, BaggingClassifier, StackingClassifier\n",
    "from sklearn.linear_model import LogisticRegression\n",
    "from sklearn.compose import ColumnTransformer\n",
    "from sklearn.feature_extraction.text import CountVectorizer, TfidfVectorizer\n",
    "from sklearn.model_selection import train_test_split\n",
    "from sklearn.pipeline import Pipeline\n",
    "from sklearn.metrics import confusion_matrix, ConfusionMatrixDisplay, accuracy_score, recall_score, balanced_accuracy_score, f1_score, precision_score\n",
    "from sklearn.preprocessing import OneHotEncoder, PolynomialFeatures\n",
    "\n",
    "from imblearn.over_sampling import SMOTE,RandomOverSampler\n",
    "from imblearn.pipeline import make_pipeline"
   ]
  },
  {
   "cell_type": "markdown",
   "id": "1f369dcd-2da4-4702-b3df-03ecf091e6f9",
   "metadata": {},
   "source": [
    "# About the Model\n",
    "\n",
    "Random Forest Classifier is a complicated model than the Logistic Regression. It is an ensemble learning algorithm that combines multiple decision trees to make predictions. It operates by constructing a multitude of decision trees during training and outputs the class that is the mode of the classes predicted by individual trees. The features used in this model are similar to the logistic regression. We have categorical features such as the party of the governor and of the chambers. These columns will be one hot encoded. We also have text data as well. For this, we will need to use Count Vectorizer and Tfidf Vectorizer in order to plug them into the Logistic model.\n",
    "\n",
    "CountVectorizer is a feature extraction technique used in natural language processing to convert text documents into numerical representations. It creates a matrix where each row corresponds to a document, and each column represents the frequency of a specific word in that document. TF-IDF Vectorizer stands for Term Frequency-Inverse Document Frequency Vectorizer. It is another feature extraction method used in NLP that assigns weights to each word in a document based on its frequency within the document and its rarity across all documents. The resulting matrix reflects the importance of each word in a document relative to the entire corpus. Both of these techniques are used in order to extract information through our modeling.\n",
    "\n",
    "As our target variable is very imbalanced, oversampling techniques will be used to help our model recognize the unbalanced class. As with our last model, we will again use SMOTE, but we will find better results by changing a hyperparameter in the Random Forest Classifier called class weight. Changing this hyper parameter to 'balanced_subsample' will boost the importance of the smaller class making it easier for the model to recognize the bills passing class.\n",
    "\n",
    "We used many combinations of mdoels and tuned the hyperarameters. Here is a summery of the results:\n",
    "\n",
    "|Model|accuracy|recall|precision|\n",
    "|---|---|---|---|\n",
    "|rf|0.827260|0.427473|0.607971\n",
    "|rf_hyperparams_overfit|0.836063|0.354762|0.689569\n",
    "|rf_hyperparams_better|0.837778|0.293407|0.765409\n",
    "|rf_hyperparams_sample_leaf|0.829460|0.212088|0.810924\n",
    "|**rf_hyperparams_balanced_subsamples**|**0.725391**|**0.740293**|**0.404767**\n",
    "|rf_SMOTE|0.759223|0.612637|0.435264\n",
    "|smaller_df|0.765522|0.669839|0.483469\n",
    "\n",
    "The best model was one with the balanced subsamples and other hyperparameters tuned. It is able to identify 75% of the passed bills in the test set and when it gets predicts it is going to be enacted, it is correct 40% of the time. This isn't the most impressive result but could be of some use to people interested in having a better idea wheter a bill will pass or not. \n",
    "\n",
    "|Model|accuracy|recall|precision|\n",
    "|---|---|---|---|\n",
    "abstracts|0.74913|0.752146|0.473809\n",
    "\n",
    "This model using the abstracts does very well compared to the titles. This may be because there is more information in the abstracts. It is outside the scope of our problem statement though but shows promise for further study."
   ]
  },
  {
   "cell_type": "markdown",
   "id": "6de77be1-2d99-4a98-b4c5-9a9e8d9922aa",
   "metadata": {},
   "source": [
    "# Read In Data"
   ]
  },
  {
   "cell_type": "code",
   "execution_count": 64,
   "id": "3d749539-dc8d-407c-8d80-8341224ae6ad",
   "metadata": {},
   "outputs": [],
   "source": [
    "df = pd.read_csv('../../Data/Merged_Data/final_data.csv.zip')\n",
    "df_with_sponsors = pd.read_csv('../../Data/Merged_Data/final_data_with_sponsors.csv.zip')"
   ]
  },
  {
   "cell_type": "markdown",
   "id": "1d9e9687-3d9b-467f-9b2e-7af3f6b2bee9",
   "metadata": {},
   "source": [
    "# Splitting Data into Train and Test "
   ]
  },
  {
   "cell_type": "code",
   "execution_count": 65,
   "id": "3df04a34-cc18-4306-a86b-afb9b78929dc",
   "metadata": {},
   "outputs": [],
   "source": [
    "X = df[['title', 'gov_party','senate_party','house_party','state_party_control','party_of_1st_chamber','party_of_2nd_chamber']]\n",
    "y = df['law_enacted']\n",
    "\n",
    "\n",
    "X_train, X_test, y_train, y_test = train_test_split(X,y,random_state = 42, stratify = y)"
   ]
  },
  {
   "cell_type": "markdown",
   "id": "a41a4097-0e52-4209-9347-1018d1afafde",
   "metadata": {},
   "source": [
    "# Metrics Function"
   ]
  },
  {
   "cell_type": "code",
   "execution_count": 66,
   "id": "50a587ef-fb4a-4c7b-9b57-c901f0d1796d",
   "metadata": {},
   "outputs": [],
   "source": [
    "def my_metrics(estimator, X_train = X_train, X_test = X_test, y_train = y_train, y_test = y_test):\n",
    "    \n",
    "    train_preds = estimator.predict(X_train)\n",
    "    preds = estimator.predict(X_test)\n",
    "    \n",
    "    train_acc = accuracy_score(y_train, train_preds)\n",
    "    train_recall = recall_score(y_train, train_preds)\n",
    "    test_acc = accuracy_score(y_test, preds)\n",
    "    recall = recall_score(y_test, preds)\n",
    "    precision = precision_score(y_test, preds)\n",
    "    \n",
    "    print(f'Train Accuracy: {train_acc}')\n",
    "    print(f'Train Recall: {train_recall}')\n",
    "    print(f'Test Accuracy: {test_acc}')\n",
    "    print(f'Test Recall: {recall}')\n",
    "    print(f'Test Precision: {precision}')\n",
    "    print()\n",
    "    print(f'Test Confusion Matrix:')\n",
    "    \n",
    "    ConfusionMatrixDisplay.from_estimator(estimator, X_test, y_test)\n",
    "    \n",
    "    return {\n",
    "        'accuracy': test_acc,\n",
    "        'recall': recall,\n",
    "        'precision': precision\n",
    "    }\n"
   ]
  },
  {
   "cell_type": "code",
   "execution_count": 67,
   "id": "b14c1986-3107-4a74-83a6-3c198d6c2248",
   "metadata": {},
   "outputs": [],
   "source": [
    "#List that will keep track of metrics\n",
    "history = []"
   ]
  },
  {
   "cell_type": "code",
   "execution_count": 68,
   "id": "89076af6-f8dd-41a7-a493-fc48ff50c7b7",
   "metadata": {},
   "outputs": [],
   "source": [
    "#For column transformers later\n",
    "word_feature = 'title'\n",
    "party_features = ['gov_party','senate_party','house_party','state_party_control','party_of_1st_chamber','party_of_2nd_chamber']"
   ]
  },
  {
   "cell_type": "markdown",
   "id": "f6ee92b1-2ac4-46aa-80ed-230cba8fcbef",
   "metadata": {},
   "source": [
    "# Baseline Model\n",
    "\n",
    "This model is one that guesses that the bill will not pass for every bill."
   ]
  },
  {
   "cell_type": "code",
   "execution_count": 69,
   "id": "8e2c5680-9e0b-486b-9b54-d46add7fb96e",
   "metadata": {},
   "outputs": [
    {
     "data": {
      "text/plain": [
       "0    0.796322\n",
       "1    0.203678\n",
       "Name: law_enacted, dtype: float64"
      ]
     },
     "execution_count": 69,
     "metadata": {},
     "output_type": "execute_result"
    }
   ],
   "source": [
    "df['law_enacted'].value_counts(normalize = True)"
   ]
  },
  {
   "cell_type": "markdown",
   "id": "114d5c41-a2d2-46c0-9c0d-1ad4a7a7a5ae",
   "metadata": {},
   "source": [
    "This model has 79.6% accuracy"
   ]
  },
  {
   "cell_type": "markdown",
   "id": "e1f7fc23-aa5e-4e50-8349-2e9115a0be9e",
   "metadata": {},
   "source": [
    "# CV with Simple with Default Random Forest\n",
    "Strategy: First model will be kept simple:\n",
    "\n",
    "    -CountVectorize title but only keep 200 features\n",
    "    -OneHotEncode categorical variables\n",
    "    -Random Forest"
   ]
  },
  {
   "cell_type": "code",
   "execution_count": 70,
   "id": "75716be3-1f6d-4de1-a27c-6a30fe7a62f6",
   "metadata": {},
   "outputs": [
    {
     "name": "stdout",
     "output_type": "stream",
     "text": [
      "Train Accuracy: 0.9698970456580125\n",
      "Train Recall: 0.8829131310664795\n",
      "Test Accuracy: 0.8272595024059085\n",
      "Test Recall: 0.42747252747252745\n",
      "Test Precision: 0.6079708257358687\n",
      "\n",
      "Test Confusion Matrix:\n"
     ]
    },
    {
     "data": {
      "image/png": "[encoded data removed]",
      "text/plain": [
       "<Figure size 640x480 with 2 Axes>"
      ]
     },
     "metadata": {},
     "output_type": "display_data"
    }
   ],
   "source": [
    "#Pipeline for our title feature: Count Vectorize it\n",
    "word_pipe = Pipeline([\n",
    "    ('cv', CountVectorizer(stop_words='english', max_features=2000))\n",
    "])\n",
    "\n",
    "#Pipeline for the party features: One Hot encode them\n",
    "party_pipe = Pipeline([\n",
    "    ('ohe', OneHotEncoder(drop= 'first'))\n",
    "])\n",
    "\n",
    "#Column transformer that will transform our whole dataframe\n",
    "preprocess = ColumnTransformer([\n",
    "    ('cvec', word_pipe, word_feature),\n",
    "    ('party', party_pipe, party_features)\n",
    "])\n",
    "\n",
    "#Estimator pipeline with our preprocessing in there\n",
    "rf_pipe = Pipeline([\n",
    "    ('pre', preprocess),\n",
    "    ('rf', RandomForestClassifier(random_state = 42))\n",
    "])\n",
    "\n",
    "rf_pipe.fit(X_train, y_train)\n",
    "\n",
    "history.append(my_metrics(rf_pipe));"
   ]
  },
  {
   "cell_type": "markdown",
   "id": "2fbfd731-96b6-4cf9-827d-88526b73c650",
   "metadata": {},
   "source": [
    "This model is definetly overfit. But shows much better promise than the Logistic Regression. The accuracy, recall and precision are all fairly high! Let's see if we can correct the overfitness with some hyperparameter tuning."
   ]
  },
  {
   "cell_type": "markdown",
   "id": "6157b3b0-4688-4c11-97d4-0580e7a13497",
   "metadata": {},
   "source": [
    "# CV with Random Forest and different hyperparameters\n",
    "\n",
    "It would be better to just gridsearch cv over many hyper parameter combinations. But this will be too computationally expensive and thus I am manually going trhough the hyperparam combos.\n",
    "\n",
    "## Max_Depth = 150 & n_estimator = 20\n",
    "Strategy:\n",
    "\n",
    "    -CountVectorize title and only keep the 2000 most used words\n",
    "    -OneHotEncode categorical variables\n",
    "    -Random Forest Classifier with some tuned parameters\n",
    "        -Max_Depth = 150 & n_estimator = 20 :\n",
    "            - the maximum depth of the tree and the amount of decision trees used in the forest\n",
    "            - Hopefully these help with the overfitting seen above"
   ]
  },
  {
   "cell_type": "code",
   "execution_count": 71,
   "id": "6f988711-91be-4f58-abf8-da1c61d1f9a1",
   "metadata": {},
   "outputs": [
    {
     "name": "stdout",
     "output_type": "stream",
     "text": [
      "Train Accuracy: 0.9316621903909281\n",
      "Train Recall: 0.6824980159941395\n",
      "Test Accuracy: 0.8360625163191465\n",
      "Test Recall: 0.3547619047619048\n",
      "Test Precision: 0.6895692417230331\n",
      "\n",
      "Test Confusion Matrix:\n"
     ]
    },
    {
     "data": {
      "image/png": "[encoded data removed]",
      "text/plain": [
       "<Figure size 640x480 with 2 Axes>"
      ]
     },
     "metadata": {},
     "output_type": "display_data"
    }
   ],
   "source": [
    "#Pipeline for our title feature: Count Vectorize it\n",
    "word_pipe = Pipeline([\n",
    "    ('cv', CountVectorizer(stop_words='english', max_features=2000))\n",
    "])\n",
    "\n",
    "#Pipeline for the party features: One Hot encode them\n",
    "party_pipe = Pipeline([\n",
    "    ('ohe', OneHotEncoder(drop= 'first'))\n",
    "])\n",
    "\n",
    "#Column transformer that will transform our whole dataframe\n",
    "preprocess = ColumnTransformer([\n",
    "    ('cvec', word_pipe, word_feature),\n",
    "    ('party', party_pipe, party_features)\n",
    "])\n",
    "\n",
    "#Estimator pipeline with our preprocessing in there\n",
    "rf_pipe_params1 = Pipeline([\n",
    "    ('pre', preprocess),\n",
    "    ('rf', RandomForestClassifier(random_state = 42, max_depth = 150,n_estimators = 20))\n",
    "])\n",
    "\n",
    "rf_pipe_params1.fit(X_train, y_train)\n",
    "\n",
    "history.append(my_metrics(rf_pipe_params1));"
   ]
  },
  {
   "cell_type": "code",
   "execution_count": 72,
   "id": "4354cd84-0ac7-4ccf-9b16-b2e8149ffe6e",
   "metadata": {},
   "outputs": [
    {
     "data": {
      "text/html": [
       "<div>\n",
       "<style scoped>\n",
       "    .dataframe tbody tr th:only-of-type {\n",
       "        vertical-align: middle;\n",
       "    }\n",
       "\n",
       "    .dataframe tbody tr th {\n",
       "        vertical-align: top;\n",
       "    }\n",
       "\n",
       "    .dataframe thead th {\n",
       "        text-align: right;\n",
       "    }\n",
       "</style>\n",
       "<table border=\"1\" class=\"dataframe\">\n",
       "  <thead>\n",
       "    <tr style=\"text-align: right;\">\n",
       "      <th></th>\n",
       "      <th>accuracy</th>\n",
       "      <th>recall</th>\n",
       "      <th>precision</th>\n",
       "    </tr>\n",
       "  </thead>\n",
       "  <tbody>\n",
       "    <tr>\n",
       "      <th>rf</th>\n",
       "      <td>0.827260</td>\n",
       "      <td>0.427473</td>\n",
       "      <td>0.607971</td>\n",
       "    </tr>\n",
       "    <tr>\n",
       "      <th>rf_hyperparams_tuned</th>\n",
       "      <td>0.836063</td>\n",
       "      <td>0.354762</td>\n",
       "      <td>0.689569</td>\n",
       "    </tr>\n",
       "  </tbody>\n",
       "</table>\n",
       "</div>"
      ],
      "text/plain": [
       "                      accuracy    recall  precision\n",
       "rf                    0.827260  0.427473   0.607971\n",
       "rf_hyperparams_tuned  0.836063  0.354762   0.689569"
      ]
     },
     "execution_count": 72,
     "metadata": {},
     "output_type": "execute_result"
    }
   ],
   "source": [
    "pd.DataFrame(history, index = ['rf', 'rf_hyperparams_tuned'])"
   ]
  },
  {
   "cell_type": "markdown",
   "id": "7d492ce4-8da4-46b0-b83a-5ce11187bb2d",
   "metadata": {},
   "source": [
    "Better test accuracy, worse recall. Still overfit, more tuning needed."
   ]
  },
  {
   "cell_type": "markdown",
   "id": "d12b5da4-e8e0-4b10-afcc-cde6887fb8db",
   "metadata": {},
   "source": [
    "## Max_Depth = 70 & n_estimator = 30\n",
    "Strategy:\n",
    "\n",
    "    -CountVectorize title and only keep the 2000 most used words\n",
    "    -OneHotEncode categorical variables\n",
    "    -Random Forest Classifier with some tuned parameters\n",
    "        -Max_Depth = 70 & n_estimator = 30 :\n",
    "            - Hopefully these help with the overfitting seen above"
   ]
  },
  {
   "cell_type": "code",
   "execution_count": 73,
   "id": "eb8a410d-fdbf-4dfe-8416-ff7146bf757f",
   "metadata": {},
   "outputs": [
    {
     "name": "stdout",
     "output_type": "stream",
     "text": [
      "Train Accuracy: 0.8807072515666965\n",
      "Train Recall: 0.42659178316342106\n",
      "Test Accuracy: 0.8377783580140997\n",
      "Test Recall: 0.2934065934065934\n",
      "Test Precision: 0.7654085045389393\n",
      "\n",
      "Test Confusion Matrix:\n"
     ]
    },
    {
     "data": {
      "image/png": "[encoded data removed]",
      "text/plain": [
       "<Figure size 640x480 with 2 Axes>"
      ]
     },
     "metadata": {},
     "output_type": "display_data"
    }
   ],
   "source": [
    "#Pipeline for our title feature: Count Vectorize it\n",
    "word_pipe = Pipeline([\n",
    "    ('cv', CountVectorizer(stop_words='english', max_features=2000))\n",
    "])\n",
    "\n",
    "#Pipeline for the party features: One Hot encode them\n",
    "party_pipe = Pipeline([\n",
    "    ('ohe', OneHotEncoder(drop= 'first'))\n",
    "])\n",
    "\n",
    "#Column transformer that will transform our whole dataframe\n",
    "preprocess = ColumnTransformer([\n",
    "    ('cvec', word_pipe, word_feature),\n",
    "    ('party', party_pipe, party_features)\n",
    "])\n",
    "\n",
    "#Estimator pipeline with our preprocessing in there\n",
    "rf_pipe_params2 = Pipeline([\n",
    "    ('pre', preprocess),\n",
    "    ('rf', RandomForestClassifier(random_state = 42, max_depth = 70,n_estimators = 30))\n",
    "])\n",
    "\n",
    "rf_pipe_params2.fit(X_train, y_train)\n",
    "\n",
    "history.append(my_metrics(rf_pipe_params2));"
   ]
  },
  {
   "cell_type": "code",
   "execution_count": 74,
   "id": "3ba3a198-0068-4335-9f96-73bb1a4b8543",
   "metadata": {},
   "outputs": [
    {
     "data": {
      "text/html": [
       "<div>\n",
       "<style scoped>\n",
       "    .dataframe tbody tr th:only-of-type {\n",
       "        vertical-align: middle;\n",
       "    }\n",
       "\n",
       "    .dataframe tbody tr th {\n",
       "        vertical-align: top;\n",
       "    }\n",
       "\n",
       "    .dataframe thead th {\n",
       "        text-align: right;\n",
       "    }\n",
       "</style>\n",
       "<table border=\"1\" class=\"dataframe\">\n",
       "  <thead>\n",
       "    <tr style=\"text-align: right;\">\n",
       "      <th></th>\n",
       "      <th>accuracy</th>\n",
       "      <th>recall</th>\n",
       "      <th>precision</th>\n",
       "    </tr>\n",
       "  </thead>\n",
       "  <tbody>\n",
       "    <tr>\n",
       "      <th>rf</th>\n",
       "      <td>0.827260</td>\n",
       "      <td>0.427473</td>\n",
       "      <td>0.607971</td>\n",
       "    </tr>\n",
       "    <tr>\n",
       "      <th>rf_hyperparams_overfit</th>\n",
       "      <td>0.836063</td>\n",
       "      <td>0.354762</td>\n",
       "      <td>0.689569</td>\n",
       "    </tr>\n",
       "    <tr>\n",
       "      <th>rf_hyperparams_better</th>\n",
       "      <td>0.837778</td>\n",
       "      <td>0.293407</td>\n",
       "      <td>0.765409</td>\n",
       "    </tr>\n",
       "  </tbody>\n",
       "</table>\n",
       "</div>"
      ],
      "text/plain": [
       "                        accuracy    recall  precision\n",
       "rf                      0.827260  0.427473   0.607971\n",
       "rf_hyperparams_overfit  0.836063  0.354762   0.689569\n",
       "rf_hyperparams_better   0.837778  0.293407   0.765409"
      ]
     },
     "execution_count": 74,
     "metadata": {},
     "output_type": "execute_result"
    }
   ],
   "source": [
    "pd.DataFrame(history, index = ['rf', 'rf_hyperparams_overfit', 'rf_hyperparams_better'])"
   ]
  },
  {
   "cell_type": "markdown",
   "id": "73596fec-b1f9-4730-aabd-e718ee4d6073",
   "metadata": {},
   "source": [
    "Less overfit now, best accuracy yet, lowest recall though. Great precision. Very hard to predict the imbalance classes though."
   ]
  },
  {
   "cell_type": "markdown",
   "id": "b83b4692-6f05-46fb-a463-927d6c2f4109",
   "metadata": {},
   "source": [
    "## Max_Depth = 70 & n_estimator = 30 & min_samples_leaf = 7:\n",
    "Strategy:\n",
    "\n",
    "    -CountVectorize title and only keep the 2000 most used words\n",
    "    -OneHotEncode categorical variables\n",
    "    -Random Forest Classifier with some tuned parameters\n",
    "        -Max_Depth = 70 & n_estimator = 30 & min_samples_leaf = 7:\n",
    "            - min sample leaf refers to the minimum amount of samples required to be in a leaf node"
   ]
  },
  {
   "cell_type": "code",
   "execution_count": 75,
   "id": "71e1709c-c312-4366-8484-f58d1f0b91dc",
   "metadata": {},
   "outputs": [
    {
     "name": "stdout",
     "output_type": "stream",
     "text": [
      "Train Accuracy: 0.8306724360887298\n",
      "Train Recall: 0.2066418411574385\n",
      "Test Accuracy: 0.829460255884218\n",
      "Test Recall: 0.21208791208791208\n",
      "Test Precision: 0.8109243697478992\n",
      "\n",
      "Test Confusion Matrix:\n"
     ]
    },
    {
     "data": {
      "image/png": "[encoded data removed]",
      "text/plain": [
       "<Figure size 640x480 with 2 Axes>"
      ]
     },
     "metadata": {},
     "output_type": "display_data"
    }
   ],
   "source": [
    "#Pipeline for our title feature: Count Vectorize it\n",
    "word_pipe = Pipeline([\n",
    "    ('cv', CountVectorizer(stop_words='english', max_features=2000))\n",
    "])\n",
    "\n",
    "#Pipeline for the party features: One Hot encode them\n",
    "party_pipe = Pipeline([\n",
    "    ('ohe', OneHotEncoder(drop= 'first'))\n",
    "])\n",
    "\n",
    "#Column transformer that will transform our whole dataframe\n",
    "preprocess = ColumnTransformer([\n",
    "    ('cvec', word_pipe, word_feature),\n",
    "    ('party', party_pipe, party_features)\n",
    "])\n",
    "\n",
    "#Estimator pipeline with our preprocessing in there\n",
    "rf_pipe_min_leaf = Pipeline([\n",
    "    ('pre', preprocess),\n",
    "    ('rf', RandomForestClassifier(random_state = 42, max_depth = 70,n_estimators = 30, min_samples_leaf = 7))\n",
    "])\n",
    "\n",
    "rf_pipe_min_leaf.fit(X_train, y_train)\n",
    "\n",
    "history.append(my_metrics(rf_pipe_min_leaf));"
   ]
  },
  {
   "cell_type": "code",
   "execution_count": 76,
   "id": "895db6c6-2081-4e25-85ce-4a0d1f6dad0a",
   "metadata": {},
   "outputs": [
    {
     "data": {
      "text/html": [
       "<div>\n",
       "<style scoped>\n",
       "    .dataframe tbody tr th:only-of-type {\n",
       "        vertical-align: middle;\n",
       "    }\n",
       "\n",
       "    .dataframe tbody tr th {\n",
       "        vertical-align: top;\n",
       "    }\n",
       "\n",
       "    .dataframe thead th {\n",
       "        text-align: right;\n",
       "    }\n",
       "</style>\n",
       "<table border=\"1\" class=\"dataframe\">\n",
       "  <thead>\n",
       "    <tr style=\"text-align: right;\">\n",
       "      <th></th>\n",
       "      <th>accuracy</th>\n",
       "      <th>recall</th>\n",
       "      <th>precision</th>\n",
       "    </tr>\n",
       "  </thead>\n",
       "  <tbody>\n",
       "    <tr>\n",
       "      <th>rf</th>\n",
       "      <td>0.827260</td>\n",
       "      <td>0.427473</td>\n",
       "      <td>0.607971</td>\n",
       "    </tr>\n",
       "    <tr>\n",
       "      <th>rf_hyperparams_overfit</th>\n",
       "      <td>0.836063</td>\n",
       "      <td>0.354762</td>\n",
       "      <td>0.689569</td>\n",
       "    </tr>\n",
       "    <tr>\n",
       "      <th>rf_hyperparams_better</th>\n",
       "      <td>0.837778</td>\n",
       "      <td>0.293407</td>\n",
       "      <td>0.765409</td>\n",
       "    </tr>\n",
       "    <tr>\n",
       "      <th>rf_hyperparams_sample_leaf</th>\n",
       "      <td>0.829460</td>\n",
       "      <td>0.212088</td>\n",
       "      <td>0.810924</td>\n",
       "    </tr>\n",
       "  </tbody>\n",
       "</table>\n",
       "</div>"
      ],
      "text/plain": [
       "                            accuracy    recall  precision\n",
       "rf                          0.827260  0.427473   0.607971\n",
       "rf_hyperparams_overfit      0.836063  0.354762   0.689569\n",
       "rf_hyperparams_better       0.837778  0.293407   0.765409\n",
       "rf_hyperparams_sample_leaf  0.829460  0.212088   0.810924"
      ]
     },
     "execution_count": 76,
     "metadata": {},
     "output_type": "execute_result"
    }
   ],
   "source": [
    "pd.DataFrame(history, index = ['rf', 'rf_hyperparams_overfit', 'rf_hyperparams_better', 'rf_hyperparams_sample_leaf'])"
   ]
  },
  {
   "cell_type": "markdown",
   "id": "c7ef8cdc-3f5b-4be3-8cab-22c1cc8fca52",
   "metadata": {},
   "source": [
    "Sample leafs did not help."
   ]
  },
  {
   "cell_type": "markdown",
   "id": "ec133055-8752-4604-ae72-5d60bc52abc0",
   "metadata": {},
   "source": [
    "## class_weight = 'balanced_subsample'\n",
    "Strategy:\n",
    "\n",
    "    -CountVectorize title and only keep the 1000 most used words\n",
    "    -OneHotEncode categorical variables\n",
    "    -Random Forest Classifier with some tuned parameters\n",
    "        -Max_Depth = 70 & n_estimator = 30 & min_samples_leaf = 7, class_weight = 'balanced_subsample':\n",
    "            - class_weight = 'balanced_subsample' gives a higher weight to the undersampled calss\n",
    "            - hopefully will help with the imbalanced classes"
   ]
  },
  {
   "cell_type": "code",
   "execution_count": 77,
   "id": "bc604a78-09cf-4746-8079-f61d50adf4fc",
   "metadata": {},
   "outputs": [
    {
     "name": "stdout",
     "output_type": "stream",
     "text": [
      "Train Accuracy: 0.7443922212274943\n",
      "Train Recall: 0.7859105060741103\n",
      "Test Accuracy: 0.725390726994666\n",
      "Test Recall: 0.7402930402930403\n",
      "Test Precision: 0.40476667334267974\n",
      "\n",
      "Test Confusion Matrix:\n"
     ]
    },
    {
     "data": {
      "image/png": "[encoded data removed]",
      "text/plain": [
       "<Figure size 640x480 with 2 Axes>"
      ]
     },
     "metadata": {},
     "output_type": "display_data"
    }
   ],
   "source": [
    "#Pipeline for our title feature: Count Vectorize it\n",
    "word_pipe = Pipeline([\n",
    "    ('cv', CountVectorizer(stop_words='english', max_features=1000))\n",
    "])\n",
    "\n",
    "#Pipeline for the party features: One Hot encode them\n",
    "party_pipe = Pipeline([\n",
    "    ('ohe', OneHotEncoder())\n",
    "])\n",
    "\n",
    "#Column transformer that will transform our whole dataframe\n",
    "preprocess = ColumnTransformer([\n",
    "    ('cvec', word_pipe, word_feature),\n",
    "    ('party', party_pipe, party_features)\n",
    "])\n",
    "\n",
    "#Estimator pipeline with our preprocessing in there\n",
    "rf_pipe_class_weight = Pipeline([\n",
    "    ('pre', preprocess),\n",
    "    ('rf', RandomForestClassifier(random_state = 42, max_depth = 70,n_estimators = 30, min_samples_leaf = 7, class_weight = 'balanced_subsample'))\n",
    "])\n",
    "\n",
    "rf_pipe_class_weight.fit(X_train, y_train)\n",
    "\n",
    "history.append(my_metrics(rf_pipe_class_weight));"
   ]
  },
  {
   "cell_type": "code",
   "execution_count": 78,
   "id": "1c4feffc-505e-4f31-aedb-08f5aa9d104f",
   "metadata": {},
   "outputs": [
    {
     "data": {
      "text/html": [
       "<div>\n",
       "<style scoped>\n",
       "    .dataframe tbody tr th:only-of-type {\n",
       "        vertical-align: middle;\n",
       "    }\n",
       "\n",
       "    .dataframe tbody tr th {\n",
       "        vertical-align: top;\n",
       "    }\n",
       "\n",
       "    .dataframe thead th {\n",
       "        text-align: right;\n",
       "    }\n",
       "</style>\n",
       "<table border=\"1\" class=\"dataframe\">\n",
       "  <thead>\n",
       "    <tr style=\"text-align: right;\">\n",
       "      <th></th>\n",
       "      <th>accuracy</th>\n",
       "      <th>recall</th>\n",
       "      <th>precision</th>\n",
       "    </tr>\n",
       "  </thead>\n",
       "  <tbody>\n",
       "    <tr>\n",
       "      <th>rf</th>\n",
       "      <td>0.827260</td>\n",
       "      <td>0.427473</td>\n",
       "      <td>0.607971</td>\n",
       "    </tr>\n",
       "    <tr>\n",
       "      <th>rf_hyperparams_overfit</th>\n",
       "      <td>0.836063</td>\n",
       "      <td>0.354762</td>\n",
       "      <td>0.689569</td>\n",
       "    </tr>\n",
       "    <tr>\n",
       "      <th>rf_hyperparams_better</th>\n",
       "      <td>0.837778</td>\n",
       "      <td>0.293407</td>\n",
       "      <td>0.765409</td>\n",
       "    </tr>\n",
       "    <tr>\n",
       "      <th>rf_hyperparams_sample_leaf</th>\n",
       "      <td>0.829460</td>\n",
       "      <td>0.212088</td>\n",
       "      <td>0.810924</td>\n",
       "    </tr>\n",
       "    <tr>\n",
       "      <th>rf_hyperparams_balanced_subsamples</th>\n",
       "      <td>0.725391</td>\n",
       "      <td>0.740293</td>\n",
       "      <td>0.404767</td>\n",
       "    </tr>\n",
       "  </tbody>\n",
       "</table>\n",
       "</div>"
      ],
      "text/plain": [
       "                                    accuracy    recall  precision\n",
       "rf                                  0.827260  0.427473   0.607971\n",
       "rf_hyperparams_overfit              0.836063  0.354762   0.689569\n",
       "rf_hyperparams_better               0.837778  0.293407   0.765409\n",
       "rf_hyperparams_sample_leaf          0.829460  0.212088   0.810924\n",
       "rf_hyperparams_balanced_subsamples  0.725391  0.740293   0.404767"
      ]
     },
     "execution_count": 78,
     "metadata": {},
     "output_type": "execute_result"
    }
   ],
   "source": [
    "pd.DataFrame(history, index = ['rf', 'rf_hyperparams_overfit', 'rf_hyperparams_better', 'rf_hyperparams_sample_leaf', 'rf_hyperparams_balanced_subsamples'])"
   ]
  },
  {
   "cell_type": "markdown",
   "id": "dba83df9-ee75-4c15-ae87-7cd3eaf65138",
   "metadata": {},
   "source": [
    "Great! Recall is through the roof! Accuracy is worse than our base model but we are able to identify 73% of the bills that pass. Only 40% of the ones we predict will pass actually do, but that is not too shaby."
   ]
  },
  {
   "cell_type": "markdown",
   "id": "5796634a-a1fb-493e-9d43-126f7f122b2a",
   "metadata": {},
   "source": [
    "# CV Random Forest with SMOTE"
   ]
  },
  {
   "cell_type": "code",
   "execution_count": 79,
   "id": "fb3813d0-6027-4476-ab5d-5a58009362d2",
   "metadata": {},
   "outputs": [
    {
     "name": "stdout",
     "output_type": "stream",
     "text": [
      "Train Accuracy: 0.7730403859544415\n",
      "Train Recall: 0.6450155668152128\n",
      "Test Accuracy: 0.7592226491103734\n",
      "Test Recall: 0.6126373626373627\n",
      "Test Precision: 0.435263500325309\n",
      "\n",
      "Test Confusion Matrix:\n"
     ]
    },
    {
     "data": {
      "image/png": "[encoded data removed]",
      "text/plain": [
       "<Figure size 640x480 with 2 Axes>"
      ]
     },
     "metadata": {},
     "output_type": "display_data"
    }
   ],
   "source": [
    "#Pipeline for our title feature: Count Vectorize it\n",
    "word_pipe = Pipeline([\n",
    "    ('cv', CountVectorizer(stop_words='english', max_features=2000))\n",
    "])\n",
    "\n",
    "#Pipeline for the party features: One Hot encode them\n",
    "party_pipe = Pipeline([\n",
    "    ('ohe', OneHotEncoder(drop= 'first'))\n",
    "])\n",
    "\n",
    "#Column transformer that will transform our whole dataframe\n",
    "preprocess = ColumnTransformer([\n",
    "    ('cvec', word_pipe, word_feature),\n",
    "    ('party', party_pipe, party_features)\n",
    "])\n",
    "\n",
    "#Estimator pipeline with our preprocessing in there\n",
    "rf_pipe_smote = make_pipeline(\n",
    "    preprocess, \n",
    "    SMOTE(random_state = 42),\n",
    "    RandomForestClassifier(random_state = 42, max_depth = 70,n_estimators = 40, min_samples_leaf = 7)\n",
    ")\n",
    "\n",
    "rf_pipe_smote.fit(X_train, y_train)\n",
    "\n",
    "history.append(my_metrics(rf_pipe_smote));"
   ]
  },
  {
   "cell_type": "code",
   "execution_count": 80,
   "id": "a0983302-94c5-4b62-9880-5ddc8c526383",
   "metadata": {},
   "outputs": [
    {
     "data": {
      "text/html": [
       "<div>\n",
       "<style scoped>\n",
       "    .dataframe tbody tr th:only-of-type {\n",
       "        vertical-align: middle;\n",
       "    }\n",
       "\n",
       "    .dataframe tbody tr th {\n",
       "        vertical-align: top;\n",
       "    }\n",
       "\n",
       "    .dataframe thead th {\n",
       "        text-align: right;\n",
       "    }\n",
       "</style>\n",
       "<table border=\"1\" class=\"dataframe\">\n",
       "  <thead>\n",
       "    <tr style=\"text-align: right;\">\n",
       "      <th></th>\n",
       "      <th>accuracy</th>\n",
       "      <th>recall</th>\n",
       "      <th>precision</th>\n",
       "    </tr>\n",
       "  </thead>\n",
       "  <tbody>\n",
       "    <tr>\n",
       "      <th>rf</th>\n",
       "      <td>0.827260</td>\n",
       "      <td>0.427473</td>\n",
       "      <td>0.607971</td>\n",
       "    </tr>\n",
       "    <tr>\n",
       "      <th>rf_hyperparams_overfit</th>\n",
       "      <td>0.836063</td>\n",
       "      <td>0.354762</td>\n",
       "      <td>0.689569</td>\n",
       "    </tr>\n",
       "    <tr>\n",
       "      <th>rf_hyperparams_better</th>\n",
       "      <td>0.837778</td>\n",
       "      <td>0.293407</td>\n",
       "      <td>0.765409</td>\n",
       "    </tr>\n",
       "    <tr>\n",
       "      <th>rf_hyperparams_sample_leaf</th>\n",
       "      <td>0.829460</td>\n",
       "      <td>0.212088</td>\n",
       "      <td>0.810924</td>\n",
       "    </tr>\n",
       "    <tr>\n",
       "      <th>rf_hyperparams_balanced_subsamples</th>\n",
       "      <td>0.725391</td>\n",
       "      <td>0.740293</td>\n",
       "      <td>0.404767</td>\n",
       "    </tr>\n",
       "    <tr>\n",
       "      <th>rf_SMOTE</th>\n",
       "      <td>0.759223</td>\n",
       "      <td>0.612637</td>\n",
       "      <td>0.435264</td>\n",
       "    </tr>\n",
       "  </tbody>\n",
       "</table>\n",
       "</div>"
      ],
      "text/plain": [
       "                                    accuracy    recall  precision\n",
       "rf                                  0.827260  0.427473   0.607971\n",
       "rf_hyperparams_overfit              0.836063  0.354762   0.689569\n",
       "rf_hyperparams_better               0.837778  0.293407   0.765409\n",
       "rf_hyperparams_sample_leaf          0.829460  0.212088   0.810924\n",
       "rf_hyperparams_balanced_subsamples  0.725391  0.740293   0.404767\n",
       "rf_SMOTE                            0.759223  0.612637   0.435264"
      ]
     },
     "execution_count": 80,
     "metadata": {},
     "output_type": "execute_result"
    }
   ],
   "source": [
    "pd.DataFrame(history, index = ['rf', 'rf_hyperparams_overfit', 'rf_hyperparams_better', \n",
    "                               'rf_hyperparams_sample_leaf', 'rf_hyperparams_balanced_subsamples',\n",
    "                              'rf_SMOTE'])"
   ]
  },
  {
   "cell_type": "markdown",
   "id": "2f8a8ac3-0216-47ae-ba91-77ae65fea595",
   "metadata": {},
   "source": [
    "SMOTE did not improve on our best model."
   ]
  },
  {
   "cell_type": "markdown",
   "id": "e84ee36d-8a7f-4275-b258-1041c2d54644",
   "metadata": {},
   "source": [
    "# Model on smaller data with extra column"
   ]
  },
  {
   "cell_type": "code",
   "execution_count": 81,
   "id": "ff1f4a3e-b1d6-44df-a206-c73d11d577e4",
   "metadata": {},
   "outputs": [],
   "source": [
    "X = df_with_sponsors[['title', 'gov_party','senate_party','house_party','state_party_control','party_of_1st_chamber','party_of_2nd_chamber', 'majority_sponsor_party']]\n",
    "y = df_with_sponsors['law_enacted']\n",
    "\n",
    "\n",
    "X_train, X_test, y_train, y_test = train_test_split(X,y,random_state = 42, stratify = y)\n",
    "#For column transformers later\n",
    "word_feature = 'title'\n",
    "party_features = ['gov_party','senate_party','house_party','state_party_control','party_of_1st_chamber','party_of_2nd_chamber',  'majority_sponsor_party']"
   ]
  },
  {
   "cell_type": "code",
   "execution_count": 82,
   "id": "9664f46e-3609-4e68-9389-88d92234c49a",
   "metadata": {},
   "outputs": [
    {
     "name": "stdout",
     "output_type": "stream",
     "text": [
      "Train Accuracy: 0.7889963321107035\n",
      "Train Recall: 0.7351512146752602\n",
      "Test Accuracy: 0.7655218406135379\n",
      "Test Recall: 0.6698393813206425\n",
      "Test Precision: 0.4834693001288107\n",
      "\n",
      "Test Confusion Matrix:\n"
     ]
    },
    {
     "data": {
      "image/png": "[encoded data removed]",
      "text/plain": [
       "<Figure size 640x480 with 2 Axes>"
      ]
     },
     "metadata": {},
     "output_type": "display_data"
    }
   ],
   "source": [
    "#Pipeline for our title feature: Count Vectorize it\n",
    "word_pipe = Pipeline([\n",
    "    ('cv', CountVectorizer(stop_words='english', max_features=2000))\n",
    "])\n",
    "\n",
    "#Pipeline for the party features: One Hot encode them\n",
    "party_pipe = Pipeline([\n",
    "    ('ohe', OneHotEncoder(drop= 'first')),\n",
    "    ('poly', PolynomialFeatures())\n",
    "])\n",
    "\n",
    "#Column transformer that will transform our whole dataframe\n",
    "preprocess = ColumnTransformer([\n",
    "    ('cvec', word_pipe, word_feature),\n",
    "    ('party', party_pipe, party_features)\n",
    "])\n",
    "\n",
    "#Estimator pipeline with our preprocessing in there\n",
    "rf_pipe_smaller_df = Pipeline([\n",
    "    ('pre', preprocess),\n",
    "    ('rf', RandomForestClassifier(random_state = 42, max_depth = 70,n_estimators = 40, min_samples_leaf = 7, class_weight = 'balanced_subsample'))\n",
    "])\n",
    "\n",
    "rf_pipe_smaller_df.fit(X_train, y_train)\n",
    "\n",
    "history.append(my_metrics(rf_pipe_smaller_df, X_train, X_test, y_train, y_test));"
   ]
  },
  {
   "cell_type": "code",
   "execution_count": 83,
   "id": "b09a3e77-7aa2-49a7-9345-c63ed7848a41",
   "metadata": {},
   "outputs": [
    {
     "data": {
      "text/html": [
       "<div>\n",
       "<style scoped>\n",
       "    .dataframe tbody tr th:only-of-type {\n",
       "        vertical-align: middle;\n",
       "    }\n",
       "\n",
       "    .dataframe tbody tr th {\n",
       "        vertical-align: top;\n",
       "    }\n",
       "\n",
       "    .dataframe thead th {\n",
       "        text-align: right;\n",
       "    }\n",
       "</style>\n",
       "<table border=\"1\" class=\"dataframe\">\n",
       "  <thead>\n",
       "    <tr style=\"text-align: right;\">\n",
       "      <th></th>\n",
       "      <th>accuracy</th>\n",
       "      <th>recall</th>\n",
       "      <th>precision</th>\n",
       "    </tr>\n",
       "  </thead>\n",
       "  <tbody>\n",
       "    <tr>\n",
       "      <th>rf</th>\n",
       "      <td>0.827260</td>\n",
       "      <td>0.427473</td>\n",
       "      <td>0.607971</td>\n",
       "    </tr>\n",
       "    <tr>\n",
       "      <th>rf_hyperparams_overfit</th>\n",
       "      <td>0.836063</td>\n",
       "      <td>0.354762</td>\n",
       "      <td>0.689569</td>\n",
       "    </tr>\n",
       "    <tr>\n",
       "      <th>rf_hyperparams_better</th>\n",
       "      <td>0.837778</td>\n",
       "      <td>0.293407</td>\n",
       "      <td>0.765409</td>\n",
       "    </tr>\n",
       "    <tr>\n",
       "      <th>rf_hyperparams_sample_leaf</th>\n",
       "      <td>0.829460</td>\n",
       "      <td>0.212088</td>\n",
       "      <td>0.810924</td>\n",
       "    </tr>\n",
       "    <tr>\n",
       "      <th>rf_hyperparams_balanced_subsamples</th>\n",
       "      <td>0.725391</td>\n",
       "      <td>0.740293</td>\n",
       "      <td>0.404767</td>\n",
       "    </tr>\n",
       "    <tr>\n",
       "      <th>rf_SMOTE</th>\n",
       "      <td>0.759223</td>\n",
       "      <td>0.612637</td>\n",
       "      <td>0.435264</td>\n",
       "    </tr>\n",
       "    <tr>\n",
       "      <th>smaller_df</th>\n",
       "      <td>0.765522</td>\n",
       "      <td>0.669839</td>\n",
       "      <td>0.483469</td>\n",
       "    </tr>\n",
       "  </tbody>\n",
       "</table>\n",
       "</div>"
      ],
      "text/plain": [
       "                                    accuracy    recall  precision\n",
       "rf                                  0.827260  0.427473   0.607971\n",
       "rf_hyperparams_overfit              0.836063  0.354762   0.689569\n",
       "rf_hyperparams_better               0.837778  0.293407   0.765409\n",
       "rf_hyperparams_sample_leaf          0.829460  0.212088   0.810924\n",
       "rf_hyperparams_balanced_subsamples  0.725391  0.740293   0.404767\n",
       "rf_SMOTE                            0.759223  0.612637   0.435264\n",
       "smaller_df                          0.765522  0.669839   0.483469"
      ]
     },
     "execution_count": 83,
     "metadata": {},
     "output_type": "execute_result"
    }
   ],
   "source": [
    "pd.DataFrame(history, index = ['rf', 'rf_hyperparams_overfit', 'rf_hyperparams_better', \n",
    "                               'rf_hyperparams_sample_leaf', 'rf_hyperparams_balanced_subsamples',\n",
    "                              'rf_SMOTE', 'smaller_df'])"
   ]
  },
  {
   "cell_type": "markdown",
   "id": "2b312861-647f-4781-920d-c797282feed8",
   "metadata": {},
   "source": [
    "Worse recall than our model with more data points. The extra column did not improve the desired results."
   ]
  },
  {
   "cell_type": "markdown",
   "id": "6ca530b2-4e9b-459b-abc6-c6e5b752fa7b",
   "metadata": {},
   "source": [
    "# Using the bill's abstracts instead of the title"
   ]
  },
  {
   "cell_type": "code",
   "execution_count": 84,
   "id": "15cce0a7-8d99-48c6-b69c-acd92391ee6d",
   "metadata": {},
   "outputs": [],
   "source": [
    "abstracts_df = df[df['abstract'].isnull() == False]"
   ]
  },
  {
   "cell_type": "code",
   "execution_count": 85,
   "id": "d927b3a0-9329-44a4-bbe0-3024f0ab7e7c",
   "metadata": {},
   "outputs": [],
   "source": [
    "X = abstracts_df[['abstract', 'gov_party','senate_party','house_party','state_party_control','party_of_1st_chamber','party_of_2nd_chamber']]\n",
    "y = abstracts_df['law_enacted']\n",
    "\n",
    "\n",
    "X_train, X_test, y_train, y_test = train_test_split(X,y,random_state = 42, stratify = y)\n",
    "\n",
    "word_feature = 'abstract'\n",
    "party_features = ['gov_party','senate_party','house_party','state_party_control','party_of_1st_chamber','party_of_2nd_chamber']"
   ]
  },
  {
   "cell_type": "code",
   "execution_count": 86,
   "id": "b3e05959-765f-4e60-bf3f-e286d21a7b61",
   "metadata": {},
   "outputs": [],
   "source": [
    "abst = []"
   ]
  },
  {
   "cell_type": "code",
   "execution_count": 87,
   "id": "7cebba58-736a-4aa7-9969-08a74acdd409",
   "metadata": {},
   "outputs": [
    {
     "data": {
      "text/plain": [
       "(24142, 7)"
      ]
     },
     "execution_count": 87,
     "metadata": {},
     "output_type": "execute_result"
    }
   ],
   "source": [
    "X_train.shape"
   ]
  },
  {
   "cell_type": "code",
   "execution_count": 88,
   "id": "bcce7fb3-6294-4aa8-a393-53c874cf6afa",
   "metadata": {},
   "outputs": [
    {
     "data": {
      "text/plain": [
       "(8048, 7)"
      ]
     },
     "execution_count": 88,
     "metadata": {},
     "output_type": "execute_result"
    }
   ],
   "source": [
    "X_test.shape"
   ]
  },
  {
   "cell_type": "code",
   "execution_count": 89,
   "id": "b038310f-6fdf-4928-8019-120ce1380e05",
   "metadata": {},
   "outputs": [
    {
     "data": {
      "text/plain": [
       "0    0.768437\n",
       "1    0.231563\n",
       "Name: law_enacted, dtype: float64"
      ]
     },
     "execution_count": 89,
     "metadata": {},
     "output_type": "execute_result"
    }
   ],
   "source": [
    "abstracts_df['law_enacted'].value_counts(normalize=True)"
   ]
  },
  {
   "cell_type": "code",
   "execution_count": 90,
   "id": "d62605ac-d885-4892-ae19-984c055cc1a9",
   "metadata": {},
   "outputs": [
    {
     "name": "stdout",
     "output_type": "stream",
     "text": [
      "Train Accuracy: 0.7759092038770607\n",
      "Train Recall: 0.809660107334526\n",
      "Test Accuracy: 0.7491302186878728\n",
      "Test Recall: 0.7521459227467812\n",
      "Test Precision: 0.473808719161879\n",
      "\n",
      "Test Confusion Matrix:\n"
     ]
    },
    {
     "data": {
      "image/png": "[encoded data removed]",
      "text/plain": [
       "<Figure size 640x480 with 2 Axes>"
      ]
     },
     "metadata": {},
     "output_type": "display_data"
    }
   ],
   "source": [
    "#Pipeline for our title feature: Count Vectorize it\n",
    "word_pipe = Pipeline([\n",
    "    ('cv', CountVectorizer(stop_words='english'))\n",
    "])\n",
    "\n",
    "#Pipeline for the party features: One Hot encode them\n",
    "party_pipe = Pipeline([\n",
    "    ('ohe', OneHotEncoder())\n",
    "])\n",
    "\n",
    "#Column transformer that will transform our whole dataframe\n",
    "preprocess = ColumnTransformer([\n",
    "    ('cvec', word_pipe, word_feature),\n",
    "    ('party', party_pipe, party_features)\n",
    "])\n",
    "\n",
    "#Estimator pipeline with our preprocessing in there\n",
    "rf_pipe_class_weight = Pipeline([\n",
    "    ('pre', preprocess),\n",
    "    ('rf', RandomForestClassifier(random_state = 42, max_depth = 70,n_estimators = 40, min_samples_leaf = 7, class_weight = 'balanced_subsample'))\n",
    "])\n",
    "\n",
    "rf_pipe_class_weight.fit(X_train, y_train)\n",
    "\n",
    "abst.append(my_metrics(rf_pipe_class_weight, X_train, X_test, y_train, y_test));"
   ]
  },
  {
   "cell_type": "code",
   "execution_count": 91,
   "id": "0f1b1a80-2f8e-4e21-81b1-2149e002422e",
   "metadata": {},
   "outputs": [
    {
     "data": {
      "text/html": [
       "<div>\n",
       "<style scoped>\n",
       "    .dataframe tbody tr th:only-of-type {\n",
       "        vertical-align: middle;\n",
       "    }\n",
       "\n",
       "    .dataframe tbody tr th {\n",
       "        vertical-align: top;\n",
       "    }\n",
       "\n",
       "    .dataframe thead th {\n",
       "        text-align: right;\n",
       "    }\n",
       "</style>\n",
       "<table border=\"1\" class=\"dataframe\">\n",
       "  <thead>\n",
       "    <tr style=\"text-align: right;\">\n",
       "      <th></th>\n",
       "      <th>accuracy</th>\n",
       "      <th>recall</th>\n",
       "      <th>precision</th>\n",
       "    </tr>\n",
       "  </thead>\n",
       "  <tbody>\n",
       "    <tr>\n",
       "      <th>0</th>\n",
       "      <td>0.74913</td>\n",
       "      <td>0.752146</td>\n",
       "      <td>0.473809</td>\n",
       "    </tr>\n",
       "  </tbody>\n",
       "</table>\n",
       "</div>"
      ],
      "text/plain": [
       "   accuracy    recall  precision\n",
       "0   0.74913  0.752146   0.473809"
      ]
     },
     "execution_count": 91,
     "metadata": {},
     "output_type": "execute_result"
    }
   ],
   "source": [
    "pd.DataFrame(abst)"
   ]
  },
  {
   "cell_type": "markdown",
   "id": "f82912b2-c1a9-429f-b36e-f8470edc0057",
   "metadata": {},
   "source": [
    "This is the best result yet! although this differes from our problem statement, using the bill abstracts yeilds the best results. Good to know for futer study."
   ]
  },
  {
   "cell_type": "code",
   "execution_count": null,
   "id": "0ed46d27-8abb-4dae-b7b6-c071ba8f2b2b",
   "metadata": {},
   "outputs": [],
   "source": []
  },
  {
   "cell_type": "markdown",
   "id": "3ed9be25-61e4-4eb7-9b3a-11a13dd33980",
   "metadata": {},
   "source": [
    "# Saving info about our best model\n",
    "\n",
    "## Saving Confusion Matrix"
   ]
  },
  {
   "cell_type": "code",
   "execution_count": 329,
   "id": "1678f2af-a203-427b-a6dc-03da26db6d48",
   "metadata": {},
   "outputs": [
    {
     "name": "stdout",
     "output_type": "stream",
     "text": [
      "Train Accuracy: 0.7416567193872476\n",
      "Train Recall: 0.7925035101642146\n",
      "Test Accuracy: 0.7213622291021672\n",
      "Test Recall: 0.7467032967032967\n",
      "Test Precision: 0.40112160566706023\n",
      "\n",
      "Test Confusion Matrix:\n"
     ]
    },
    {
     "data": {
      "image/png": "[encoded data removed]",
      "text/plain": [
       "<Figure size 640x480 with 2 Axes>"
      ]
     },
     "metadata": {},
     "output_type": "display_data"
    }
   ],
   "source": [
    "X = df[['title', 'gov_party','senate_party','house_party','state_party_control','party_of_1st_chamber','party_of_2nd_chamber']]\n",
    "y = df['law_enacted']\n",
    "\n",
    "\n",
    "X_train, X_test, y_train, y_test = train_test_split(X,y,random_state = 42, stratify = y)\n",
    "\n",
    "#For column transformers later\n",
    "word_feature = 'title'\n",
    "party_features = ['gov_party','senate_party','house_party','state_party_control']\n",
    "\n",
    "#Pipeline for our title feature: Count Vectorize it\n",
    "word_pipe = Pipeline([\n",
    "    ('cv', CountVectorizer(stop_words='english', max_features= 1000))\n",
    "])\n",
    "\n",
    "#Pipeline for the party features: One Hot encode them\n",
    "party_pipe = Pipeline([\n",
    "    ('ohe', OneHotEncoder())\n",
    "])\n",
    "\n",
    "#Column transformer that will transform our whole dataframe\n",
    "preprocess = ColumnTransformer([\n",
    "    ('cvec', word_pipe, 'title'),\n",
    "    ('party', party_pipe, ['gov_party','senate_party','house_party','state_party_control'])\n",
    "])\n",
    "\n",
    "#Estimator pipeline with our preprocessing in there\n",
    "rf_pipe_class_weight = Pipeline([\n",
    "    ('pre', preprocess),\n",
    "    ('rf', RandomForestClassifier(random_state = 42, max_depth = 70,n_estimators = 30, min_samples_leaf = 7, class_weight = 'balanced_subsample'))\n",
    "])\n",
    "\n",
    "rf_pipe_class_weight.fit(X_train, y_train)\n",
    "\n",
    "(my_metrics(rf_pipe_class_weight));"
   ]
  },
  {
   "cell_type": "code",
   "execution_count": 222,
   "id": "76c3e09e-48cd-4c76-842b-f5028b67f0b8",
   "metadata": {},
   "outputs": [
    {
     "data": {
      "text/plain": [
       "0.9169119855812556"
      ]
     },
     "execution_count": 222,
     "metadata": {},
     "output_type": "execute_result"
    }
   ],
   "source": [
    "15262/(15262+1383)"
   ]
  },
  {
   "cell_type": "code",
   "execution_count": 219,
   "id": "cf3a164a-a76e-4ab6-a8b5-05e96da2e5d9",
   "metadata": {},
   "outputs": [],
   "source": [
    "cm = pd.DataFrame([[15262, 6087], [1383, 4077]], index = ['Bill Actually Failed', 'Bill Actually Passed'], columns = ['Model Predicts Fail', 'Model Predict Enacted'])"
   ]
  },
  {
   "cell_type": "code",
   "execution_count": 220,
   "id": "e1dc0dfb-a0d7-4ecf-934c-8fa848ec1c29",
   "metadata": {},
   "outputs": [
    {
     "data": {
      "text/plain": [
       "26809"
      ]
     },
     "execution_count": 220,
     "metadata": {},
     "output_type": "execute_result"
    }
   ],
   "source": [
    "np.sum(np.sum(cm))"
   ]
  },
  {
   "cell_type": "code",
   "execution_count": 336,
   "id": "33def0c3-a45e-492e-a31e-358778648195",
   "metadata": {},
   "outputs": [
    {
     "data": {
      "image/png": "[encoded data removed]",
      "text/plain": [
       "<Figure size 900x1000 with 1 Axes>"
      ]
     },
     "metadata": {},
     "output_type": "display_data"
    }
   ],
   "source": [
    "plt.figure(figsize = (9,10))\n",
    "sns.heatmap(cm/np.sum(np.sum(cm)), \n",
    "            annot = True, \n",
    "            fmt='.2%', \n",
    "            cmap='Blues', \n",
    "            robust = True, \n",
    "            cbar = False,\n",
    "            linewidths = 1,\n",
    "            linecolor = 'black',\n",
    "           )\n",
    "\n",
    "plt.annotate('''1) Accuracy: 72.1%\n",
    "2) Recall: 74.7%\n",
    "3) Precision: 40.1%\n",
    "4) Negative Predictive Value: 91.7%''', \n",
    "             (0,0), (125, -30), xycoords='axes fraction', textcoords='offset points', va='top') \n",
    "plt.title('Confusion Matrix of Best Model')\n",
    "\n",
    "plt.savefig(f'confusion_matrix.png');"
   ]
  },
  {
   "cell_type": "markdown",
   "id": "2ca6b78d-e2ac-4961-8d8d-ede1f871cd6a",
   "metadata": {},
   "source": [
    "## Pickling model for streamlit app"
   ]
  },
  {
   "cell_type": "code",
   "execution_count": 331,
   "id": "16cca4dd-c476-46b2-96fc-51c4f43f647f",
   "metadata": {},
   "outputs": [
    {
     "data": {
      "text/plain": [
       "Pipeline(steps=[('pre',\n",
       "                 ColumnTransformer(transformers=[('cvec',\n",
       "                                                  Pipeline(steps=[('cv',\n",
       "                                                                   CountVectorizer(max_features=10000,\n",
       "                                                                                   stop_words='english'))]),\n",
       "                                                  'title'),\n",
       "                                                 ('party',\n",
       "                                                  Pipeline(steps=[('ohe',\n",
       "                                                                   OneHotEncoder())]),\n",
       "                                                  ['gov_party', 'senate_party',\n",
       "                                                   'house_party',\n",
       "                                                   'state_party_control'])])),\n",
       "                ('rf',\n",
       "                 RandomForestClassifier(class_weight='balanced_subsample',\n",
       "                                        max_depth=70, min_samples_leaf=7,\n",
       "                                        n_estimators=30, random_state=42))])"
      ]
     },
     "execution_count": 331,
     "metadata": {},
     "output_type": "execute_result"
    }
   ],
   "source": [
    "X = df[['title', 'gov_party','senate_party','house_party','state_party_control','party_of_1st_chamber','party_of_2nd_chamber']]\n",
    "y = df['law_enacted']\n",
    "\n",
    "\n",
    "X_train, X_test, y_train, y_test = train_test_split(X,y,random_state = 42, stratify = y)\n",
    "\n",
    "#For column transformers later\n",
    "word_feature = 'title'\n",
    "party_features = ['gov_party','senate_party','house_party','state_party_control']\n",
    "\n",
    "#Pipeline for our title feature: Count Vectorize it\n",
    "word_pipe = Pipeline([\n",
    "    ('cv', CountVectorizer(stop_words='english', max_features= 10000))\n",
    "])\n",
    "\n",
    "#Pipeline for the party features: One Hot encode them\n",
    "party_pipe = Pipeline([\n",
    "    ('ohe', OneHotEncoder())\n",
    "])\n",
    "\n",
    "#Column transformer that will transform our whole dataframe\n",
    "preprocess = ColumnTransformer([\n",
    "    ('cvec', word_pipe, 'title'),\n",
    "    ('party', party_pipe, ['gov_party','senate_party','house_party','state_party_control'])\n",
    "])\n",
    "\n",
    "#Estimator pipeline with our preprocessing in there\n",
    "rf_pipe_class_weight = Pipeline([\n",
    "    ('pre', preprocess),\n",
    "    ('rf', RandomForestClassifier(random_state = 42, max_depth = 70,n_estimators = 30, min_samples_leaf = 7, class_weight = 'balanced_subsample'))\n",
    "])\n",
    "\n",
    "rf_pipe_class_weight.fit(X_train, y_train)"
   ]
  },
  {
   "cell_type": "code",
   "execution_count": 332,
   "id": "e75fcbc3-950f-4242-b5f2-2223933730a5",
   "metadata": {},
   "outputs": [],
   "source": [
    "with open('random_forest.pkl', 'wb') as pickle_out:\n",
    "    pickle_out = pickle.dump(rf_pipe_class_weight, pickle_out)"
   ]
  }
 ],
 "metadata": {
  "kernelspec": {
   "display_name": "Python 3 (ipykernel)",
   "language": "python",
   "name": "python3"
  },
  "language_info": {
   "codemirror_mode": {
    "name": "ipython",
    "version": 3
   },
   "file_extension": ".py",
   "mimetype": "text/x-python",
   "name": "python",
   "nbconvert_exporter": "python",
   "pygments_lexer": "ipython3",
   "version": "3.9.13"
  }
 },
 "nbformat": 4,
 "nbformat_minor": 5
}
