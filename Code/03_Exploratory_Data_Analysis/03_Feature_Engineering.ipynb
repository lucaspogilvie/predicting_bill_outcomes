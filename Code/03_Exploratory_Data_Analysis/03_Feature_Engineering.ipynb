{
 "cells": [
  {
   "cell_type": "code",
   "execution_count": 4,
   "id": "58f45f2b-838c-46cf-8faa-8d160b44da9c",
   "metadata": {},
   "outputs": [],
   "source": [
    "import pandas as pd"
   ]
  },
  {
   "cell_type": "markdown",
   "id": "81a8ef75-9dc9-410f-92b5-2abf6d3c966a",
   "metadata": {},
   "source": [
    "# Feature Engineering\n",
    "\n",
    "From Our EDA, we found a few variables that would be helpful for our study. These included senate_party, house_party, state_party_control, party_of_1st_chamber, the party_of_2nd_chamber. Below is the code for the making of each of these variables. "
   ]
  },
  {
   "cell_type": "markdown",
   "id": "7a731763-5a8e-47d7-b124-f8e81d2ba376",
   "metadata": {},
   "source": [
    "# Read In Data"
   ]
  },
  {
   "cell_type": "code",
   "execution_count": 5,
   "id": "2946a6ce-9980-4009-b6c8-6a7e6633d22e",
   "metadata": {},
   "outputs": [],
   "source": [
    "df = pd.read_csv('../../Data/Merged_Data/cleaned_data.csv.zip')\n",
    "df_with_sponsors = pd.read_csv('../../Data/Merged_Data/cleaned_data_with_sponsors.csv.zip')"
   ]
  },
  {
   "cell_type": "markdown",
   "id": "8e790222-e965-4e9d-943a-a818c201c61b",
   "metadata": {},
   "source": [
    "# Senate and House Party"
   ]
  },
  {
   "cell_type": "code",
   "execution_count": 6,
   "id": "2964aa61-1cf5-4762-964f-e487d235d990",
   "metadata": {},
   "outputs": [],
   "source": [
    "#Make column showing difference between Democrats and Republicans. \n",
    "#This will then be used to show the party in control\n",
    "df['senate_party_diff'] = df['senate_dem'] - df['senate_rep']\n",
    "df['house_party_diff'] = df['house_dem'] - df['house_rep']\n",
    "#Do the same for our smaller dataset\n",
    "df_with_sponsors['senate_party_diff'] = df_with_sponsors['senate_dem'] - df_with_sponsors['senate_rep']\n",
    "df_with_sponsors['house_party_diff'] = df_with_sponsors['house_dem'] - df_with_sponsors['house_rep']\n",
    "\n",
    "\n",
    "#Make the column showing the majority party for the senat and house for each state on the given year\n",
    "df['senate_party'] = df['senate_party_diff'].map(lambda x: 'Rep' if x < 0 else 'Dem' if x > 0 else 'Split')\n",
    "df['house_party'] = df['house_party_diff'].map(lambda x: 'Rep' if x < 0 else 'Dem' if x > 0 else 'Split')\n",
    "#do same for smaller dataset\n",
    "df_with_sponsors['senate_party'] = df_with_sponsors['senate_party_diff'].map(lambda x: 'Rep' if x < 0 else 'Dem' if x > 0 else 'Split')\n",
    "df_with_sponsors['house_party'] = df_with_sponsors['house_party_diff'].map(lambda x: 'Rep' if x < 0 else 'Dem' if x > 0 else 'Split')"
   ]
  },
  {
   "cell_type": "markdown",
   "id": "585d4e94-209f-4188-b18a-79d7ee1d8baa",
   "metadata": {},
   "source": [
    "# Party that controls the state"
   ]
  },
  {
   "cell_type": "code",
   "execution_count": 7,
   "id": "82d86eb9-8479-43a7-b881-7757705ff7a5",
   "metadata": {},
   "outputs": [],
   "source": [
    "#Making column that is Dem if the house, Senate and Governor are all democrats. Same for republican. And if they differ, than they are \"split\"\n",
    "df['state_party_control'] = df.apply(lambda x: 'Dem' if (x.house_party == 'Dem' and x.senate_party == 'Dem' and x.gov_party == 'Dem') else \\\n",
    "         ('Rep' if (x.house_party == 'Rep' and x.senate_party == 'Rep' and x.gov_party == 'Rep') else 'Split'), axis = 1)\n",
    "#Do the same for smaller dataset\n",
    "df_with_sponsors['state_party_control'] = df_with_sponsors.apply(lambda x: 'Dem' if (x.house_party == 'Dem' and x.senate_party == 'Dem' and x.gov_party == 'Dem') else \\\n",
    "         ('Rep' if (x.house_party == 'Rep' and x.senate_party == 'Rep' and x.gov_party == 'Rep') else 'Split'), axis = 1)"
   ]
  },
  {
   "cell_type": "markdown",
   "id": "3da1c4b5-8ec7-43ec-acb0-2432cbee9b46",
   "metadata": {},
   "source": [
    "# Party of the chamber the bill is introduced in and second chamber party as well"
   ]
  },
  {
   "cell_type": "code",
   "execution_count": 8,
   "id": "ed531563-7577-4d8f-8261-3707d822db0f",
   "metadata": {},
   "outputs": [],
   "source": [
    "#Function that tells us the party of the first chamber the bill is introduced in and \n",
    "#then one that tells us the party of the second chamber it will go through if it gets there.\n",
    "df['party_of_1st_chamber'] = df.apply(lambda x: x.senate_party if x.organization_classification  == 'upper' else x.house_party, axis = 1)\n",
    "df['party_of_2nd_chamber'] = df.apply(lambda x: x.senate_party if x.organization_classification  == 'lower' else x.house_party, axis = 1)\n",
    "\n",
    "#Do the same for our smaller dataset\n",
    "df_with_sponsors['party_of_1st_chamber'] = df_with_sponsors.apply(lambda x: x.senate_party if x.organization_classification  == 'upper' else x.house_party, axis = 1)\n",
    "df_with_sponsors['party_of_2nd_chamber'] = df_with_sponsors.apply(lambda x: x.senate_party if x.organization_classification  == 'lower' else x.house_party, axis = 1)"
   ]
  },
  {
   "cell_type": "markdown",
   "id": "37cdf81c-9061-44a1-9d27-01332b696e50",
   "metadata": {},
   "source": [
    "# Save new variables"
   ]
  },
  {
   "cell_type": "code",
   "execution_count": 10,
   "id": "e2a52df8-e21b-400e-b665-0fcf76be6731",
   "metadata": {},
   "outputs": [],
   "source": [
    "df.to_csv('../../Data/Merged_Data/final_data.csv.zip', index = False)\n",
    "df_with_sponsors.to_csv('../../Data/Merged_Data/final_data_with_sponsors.csv.zip', index = False)"
   ]
  },
  {
   "cell_type": "code",
   "execution_count": null,
   "id": "0e98ae83-0407-4265-809a-90b3a1a5aefb",
   "metadata": {},
   "outputs": [],
   "source": []
  }
 ],
 "metadata": {
  "kernelspec": {
   "display_name": "Python 3 (ipykernel)",
   "language": "python",
   "name": "python3"
  },
  "language_info": {
   "codemirror_mode": {
    "name": "ipython",
    "version": 3
   },
   "file_extension": ".py",
   "mimetype": "text/x-python",
   "name": "python",
   "nbconvert_exporter": "python",
   "pygments_lexer": "ipython3",
   "version": "3.9.13"
  }
 },
 "nbformat": 4,
 "nbformat_minor": 5
}
