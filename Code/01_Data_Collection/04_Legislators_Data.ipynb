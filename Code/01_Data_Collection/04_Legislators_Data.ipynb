{
 "cells": [
  {
   "cell_type": "code",
   "execution_count": 392,
   "id": "3d8adfee-b560-4992-bf89-e3ee8991e9c8",
   "metadata": {},
   "outputs": [],
   "source": [
    "import pandas as pd\n",
    "import pyopenstates as ostate\n",
    "from time import sleep"
   ]
  },
  {
   "cell_type": "markdown",
   "id": "4fdca4d5-cebd-4325-bb10-001bda0ed8c7",
   "metadata": {},
   "source": [
    "# About the data we are collecting\n",
    "\n",
    "So far we have data on which party is controlling the senate, house and governorship for each state, data for each bill intorduced, data whether that bill was passed, and data on who sponsored the bill. The thing about the sponsorship data is that it gives us the name of the sponsor, but not the party they belong to. The goal of this codebook is to find that information. Knowing which party introduced a bill could be very helpful for creating a good model. The data on the legislatures party comes from Open Sates again. This time however, we will be using there python [API](https://openstates.github.io/pyopenstates/). The main benefit of using the Open States API is that we will be able to match the legislature ids from our sponsorship data very easily with the api as they both come from Open States. A limitation though, is that we are limited with the number of requests we can make per day. Because of this, we will need a few days to collect all of the data we need.\n",
    "\n",
    "To use the API you need to create an account and then get an API key from Open States."
   ]
  },
  {
   "cell_type": "markdown",
   "id": "160161fe-d5e5-40de-9d5e-7a7b6a88a2ca",
   "metadata": {},
   "source": [
    "# Read in sponsorship data"
   ]
  },
  {
   "cell_type": "code",
   "execution_count": 372,
   "id": "a1ffff28-737b-4973-a2f0-8d4473420610",
   "metadata": {},
   "outputs": [
    {
     "name": "stderr",
     "output_type": "stream",
     "text": [
      "/var/folders/2s/0cx_vgq111qdb9jklnsjxt5w0000gp/T/ipykernel_1137/1110122666.py:1: DtypeWarning: Columns (4) have mixed types. Specify dtype option on import or set low_memory=False.\n",
      "  sponsors = pd.read_csv('../../Data/Bills_Data/bill_sponsors_2017_2018.csv.zip')\n"
     ]
    }
   ],
   "source": [
    "sponsors = pd.read_csv('../../Data/Bills_Data/bill_sponsors_2017_2018.csv.zip')"
   ]
  },
  {
   "cell_type": "code",
   "execution_count": 373,
   "id": "2545957c-a3ce-4fe4-b32d-f49d383c2212",
   "metadata": {},
   "outputs": [
    {
     "data": {
      "text/html": [
       "<div>\n",
       "<style scoped>\n",
       "    .dataframe tbody tr th:only-of-type {\n",
       "        vertical-align: middle;\n",
       "    }\n",
       "\n",
       "    .dataframe tbody tr th {\n",
       "        vertical-align: top;\n",
       "    }\n",
       "\n",
       "    .dataframe thead th {\n",
       "        text-align: right;\n",
       "    }\n",
       "</style>\n",
       "<table border=\"1\" class=\"dataframe\">\n",
       "  <thead>\n",
       "    <tr style=\"text-align: right;\">\n",
       "      <th></th>\n",
       "      <th>id</th>\n",
       "      <th>name</th>\n",
       "      <th>entity_type</th>\n",
       "      <th>organization_id</th>\n",
       "      <th>person_id</th>\n",
       "      <th>bill_id</th>\n",
       "      <th>primary</th>\n",
       "      <th>classification</th>\n",
       "    </tr>\n",
       "  </thead>\n",
       "  <tbody>\n",
       "    <tr>\n",
       "      <th>0</th>\n",
       "      <td>91df26f8-d739-4e27-8a55-5aa541cdab95</td>\n",
       "      <td>Olson</td>\n",
       "      <td>person</td>\n",
       "      <td>NaN</td>\n",
       "      <td>NaN</td>\n",
       "      <td>ocd-bill/6db0cabc-e1ad-4257-8d64-8364ad37733f</td>\n",
       "      <td>False</td>\n",
       "      <td>cosponsor</td>\n",
       "    </tr>\n",
       "  </tbody>\n",
       "</table>\n",
       "</div>"
      ],
      "text/plain": [
       "                                     id   name entity_type  organization_id  \\\n",
       "0  91df26f8-d739-4e27-8a55-5aa541cdab95  Olson      person              NaN   \n",
       "\n",
       "  person_id                                        bill_id  primary  \\\n",
       "0       NaN  ocd-bill/6db0cabc-e1ad-4257-8d64-8364ad37733f    False   \n",
       "\n",
       "  classification  \n",
       "0      cosponsor  "
      ]
     },
     "execution_count": 373,
     "metadata": {},
     "output_type": "execute_result"
    }
   ],
   "source": [
    "sponsors.head(1)"
   ]
  },
  {
   "cell_type": "markdown",
   "id": "000ac317-c89d-4ab1-bbd5-434ffcfd00e8",
   "metadata": {},
   "source": [
    "# Clean up sponsorship data a little"
   ]
  },
  {
   "cell_type": "code",
   "execution_count": 374,
   "id": "1f61fd09-3d6f-4bf4-95c4-7ea987d67167",
   "metadata": {},
   "outputs": [],
   "source": [
    "#We only want primary sponsors that are people (rather than organizations)\n",
    "sponsors = sponsors[(sponsors['primary']) & (sponsors['entity_type'] == 'person')].copy()"
   ]
  },
  {
   "cell_type": "code",
   "execution_count": 375,
   "id": "f8207e7d-5063-426c-bac5-045937c1089d",
   "metadata": {},
   "outputs": [],
   "source": [
    "#We do not need the following columns, drop them\n",
    "sponsors.drop(columns = ['id', 'entity_type', 'organization_id', 'primary'], inplace = True)"
   ]
  },
  {
   "cell_type": "code",
   "execution_count": 377,
   "id": "e55fcdcc-c806-4a4a-b772-57d682dec464",
   "metadata": {},
   "outputs": [
    {
     "data": {
      "text/html": [
       "<div>\n",
       "<style scoped>\n",
       "    .dataframe tbody tr th:only-of-type {\n",
       "        vertical-align: middle;\n",
       "    }\n",
       "\n",
       "    .dataframe tbody tr th {\n",
       "        vertical-align: top;\n",
       "    }\n",
       "\n",
       "    .dataframe thead th {\n",
       "        text-align: right;\n",
       "    }\n",
       "</style>\n",
       "<table border=\"1\" class=\"dataframe\">\n",
       "  <thead>\n",
       "    <tr style=\"text-align: right;\">\n",
       "      <th></th>\n",
       "      <th>name</th>\n",
       "      <th>person_id</th>\n",
       "      <th>bill_id</th>\n",
       "      <th>classification</th>\n",
       "    </tr>\n",
       "  </thead>\n",
       "  <tbody>\n",
       "    <tr>\n",
       "      <th>1</th>\n",
       "      <td>EDGMON</td>\n",
       "      <td>NaN</td>\n",
       "      <td>ocd-bill/64283615-6347-4dbb-a5ea-b9243f752e17</td>\n",
       "      <td>primary</td>\n",
       "    </tr>\n",
       "    <tr>\n",
       "      <th>4</th>\n",
       "      <td>TUCK</td>\n",
       "      <td>NaN</td>\n",
       "      <td>ocd-bill/3c972d33-ba3a-4f49-bf7c-5ae69448c9f0</td>\n",
       "      <td>primary</td>\n",
       "    </tr>\n",
       "    <tr>\n",
       "      <th>8</th>\n",
       "      <td>JOHNSTON</td>\n",
       "      <td>NaN</td>\n",
       "      <td>ocd-bill/3c60ed80-6c5b-4d95-b6d0-e512b8a3af8d</td>\n",
       "      <td>primary</td>\n",
       "    </tr>\n",
       "    <tr>\n",
       "      <th>10</th>\n",
       "      <td>LEDOUX</td>\n",
       "      <td>NaN</td>\n",
       "      <td>ocd-bill/1b2853b2-7d19-4ff6-8a2c-73dac05e70a6</td>\n",
       "      <td>primary</td>\n",
       "    </tr>\n",
       "    <tr>\n",
       "      <th>11</th>\n",
       "      <td>WILSON</td>\n",
       "      <td>NaN</td>\n",
       "      <td>ocd-bill/2ff84009-11b2-4e57-9fe6-b0564116c4e8</td>\n",
       "      <td>primary</td>\n",
       "    </tr>\n",
       "  </tbody>\n",
       "</table>\n",
       "</div>"
      ],
      "text/plain": [
       "        name person_id                                        bill_id  \\\n",
       "1     EDGMON       NaN  ocd-bill/64283615-6347-4dbb-a5ea-b9243f752e17   \n",
       "4       TUCK       NaN  ocd-bill/3c972d33-ba3a-4f49-bf7c-5ae69448c9f0   \n",
       "8   JOHNSTON       NaN  ocd-bill/3c60ed80-6c5b-4d95-b6d0-e512b8a3af8d   \n",
       "10    LEDOUX       NaN  ocd-bill/1b2853b2-7d19-4ff6-8a2c-73dac05e70a6   \n",
       "11    WILSON       NaN  ocd-bill/2ff84009-11b2-4e57-9fe6-b0564116c4e8   \n",
       "\n",
       "   classification  \n",
       "1         primary  \n",
       "4         primary  \n",
       "8         primary  \n",
       "10        primary  \n",
       "11        primary  "
      ]
     },
     "execution_count": 377,
     "metadata": {},
     "output_type": "execute_result"
    }
   ],
   "source": [
    "sponsors.head()"
   ]
  },
  {
   "cell_type": "code",
   "execution_count": 378,
   "id": "c6fea468-d7bb-4594-a993-4c0e90e754f8",
   "metadata": {},
   "outputs": [
    {
     "name": "stdout",
     "output_type": "stream",
     "text": [
      "<class 'pandas.core.frame.DataFrame'>\n",
      "Int64Index: 486756 entries, 1 to 1067550\n",
      "Data columns (total 4 columns):\n",
      " #   Column          Non-Null Count   Dtype \n",
      "---  ------          --------------   ----- \n",
      " 0   name            486756 non-null  object\n",
      " 1   person_id       278989 non-null  object\n",
      " 2   bill_id         486756 non-null  object\n",
      " 3   classification  486756 non-null  object\n",
      "dtypes: object(4)\n",
      "memory usage: 18.6+ MB\n"
     ]
    }
   ],
   "source": [
    "sponsors.info()"
   ]
  },
  {
   "cell_type": "markdown",
   "id": "f7482d47-e021-435f-8e39-78a2a0010b56",
   "metadata": {},
   "source": [
    "Many values for the sponsor id are empty. The thing is there are names that show up multiple times, sometimes with an id and sometimes withought an id. I will try to impute some id values."
   ]
  },
  {
   "cell_type": "code",
   "execution_count": 379,
   "id": "8d4e6fd0-99b4-4de8-8820-a606fe736c19",
   "metadata": {},
   "outputs": [],
   "source": [
    "#Lowercase all names and get rid of spaces\n",
    "sponsors['name'] = sponsors['name'].map(lambda x: x.lower().replace(' ',''))"
   ]
  },
  {
   "cell_type": "markdown",
   "id": "72ae7bc9-60a0-47c4-aaf5-99a3d6de292d",
   "metadata": {},
   "source": [
    "This next block of code looks loops through every unique name. If every row for that name has an id with it, we are good and we leave it. If every row with that name has no id, there is no way for us to find an id for it. If there are some rows with an id and some without one, then we can fill the empy values with the id of the other ones as long as there is only one id associated with the name. If there are multiple ids for one name, then we leave the values empty.\n",
    "\n",
    "This imputation technique is susceptible to make an error. For example, if we have two legislatures of the name John Doe, but only one has and id associated with him. This code would impute both of them with one id, so we would only think there is one John Doe when in fact there are two. I don't think this is very likely to be a significant problem though, but good to keep in mind."
   ]
  },
  {
   "cell_type": "code",
   "execution_count": 380,
   "id": "c89a116f-4506-49bf-8402-b483f2be4f32",
   "metadata": {},
   "outputs": [
    {
     "name": "stdout",
     "output_type": "stream",
     "text": [
      "100.0%\r"
     ]
    }
   ],
   "source": [
    "length = len(sponsors['name'].unique()) #how many unique names there are, used to know how long thare is left in th function\n",
    "\n",
    "ids_filled = [] #where we will keep track of imputed ids\n",
    "\n",
    "#Loop through every unique name\n",
    "for i,name in enumerate(sponsors['name'].unique()):\n",
    "    print(f'{round((i+1)/ length * 100,2)}%', end = '\\r') #Let's us know how far into the runtime we are\n",
    "    \n",
    "    #ids for the specific name nulls and non nulls included\n",
    "    names_ids = sponsors[sponsors['name'] == name]['person_id']\n",
    "    \n",
    "    if len(names_ids.dropna().unique()) == 1: #if there is only one id for that name, it is probably the same person, \n",
    "        names_ids = names_ids.fillna(names_ids.dropna().unique()[0]) # fill nulls with that id\n",
    "    \n",
    "        \n",
    "    #Add imputed ids list to overall list\n",
    "    ids_filled = ids_filled + list(names_ids)"
   ]
  },
  {
   "cell_type": "code",
   "execution_count": 381,
   "id": "37ab9659-9286-456b-a036-68d9978d4ba7",
   "metadata": {},
   "outputs": [
    {
     "name": "stdout",
     "output_type": "stream",
     "text": [
      "486756\n",
      "486756\n"
     ]
    }
   ],
   "source": [
    "#Do the lengths match\n",
    "print(len(ids_filled))\n",
    "print(len(sponsors['name']))"
   ]
  },
  {
   "cell_type": "code",
   "execution_count": 382,
   "id": "654aa2a0-bded-4da1-a387-a0da7924be65",
   "metadata": {},
   "outputs": [],
   "source": [
    "#Make a new colum for imputed ids\n",
    "sponsors['imputed_ids'] = ids_filled"
   ]
  },
  {
   "cell_type": "code",
   "execution_count": 383,
   "id": "db088f57-7093-4846-8401-6fd74bb5c5a4",
   "metadata": {},
   "outputs": [
    {
     "data": {
      "text/plain": [
       "name                   0\n",
       "person_id         207767\n",
       "bill_id                0\n",
       "classification         0\n",
       "imputed_ids       173920\n",
       "dtype: int64"
      ]
     },
     "execution_count": 383,
     "metadata": {},
     "output_type": "execute_result"
    }
   ],
   "source": [
    "sponsors.isnull().sum()"
   ]
  },
  {
   "cell_type": "markdown",
   "id": "a52a455c-94aa-4081-a324-27b1615711ff",
   "metadata": {},
   "source": [
    "We filled up almost 30,000 nulls with our imputation."
   ]
  },
  {
   "cell_type": "markdown",
   "id": "d8f65a73-f8b9-419f-b54d-505bcb62f672",
   "metadata": {},
   "source": [
    "# Collect Legislature Data"
   ]
  },
  {
   "cell_type": "code",
   "execution_count": 387,
   "id": "bd0e0efd-abd7-416d-ae5d-71881c67fa8d",
   "metadata": {},
   "outputs": [
    {
     "name": "stdout",
     "output_type": "stream",
     "text": [
      "There are 4218 unique legislatures in our data.\n"
     ]
    }
   ],
   "source": [
    "length = len(sponsors['person_id'].unique())\n",
    "print(f'There are {length} unique legislatures in our data.')"
   ]
  },
  {
   "cell_type": "code",
   "execution_count": 388,
   "id": "dafd057b-128b-4e59-ae99-474d45e5b696",
   "metadata": {
    "scrolled": true,
    "tags": []
   },
   "outputs": [],
   "source": [
    "#Saving their ids\n",
    "legislature_ids = list(sponsors['person_id'].unique())"
   ]
  },
  {
   "cell_type": "markdown",
   "id": "b3858629-4310-4ed6-ad37-0e3182056dcc",
   "metadata": {},
   "source": [
    "As there is a limit 250 requests per day, we will not be able to get each legislature at once. This code retrieves our first block of legislature data."
   ]
  },
  {
   "cell_type": "code",
   "execution_count": 394,
   "id": "eb241d70-bef8-4cd1-9911-09aa8dfe7901",
   "metadata": {
    "tags": []
   },
   "outputs": [
    {
     "name": "stdout",
     "output_type": "stream",
     "text": [
      "Collecting 2491 through 2501\r"
     ]
    }
   ],
   "source": [
    "legislatures = [] #we will keep the data in this list\n",
    "\n",
    "for i in range(1,2501,10): #This will be the index of the legislative ids we pick\n",
    "    print(f'Collecting {i} through {i+10}', end = '\\r')\n",
    "    sleep(6) #We can only have 10 requests per minute. If we wait 6 seconds between each request, we should be good.\n",
    "    \n",
    "    #take only ten ids at a time because that is all the api function will give us at once\n",
    "    legislature_ids = list(sponsors['person_id'].unique()[i:i+10])\n",
    "    \n",
    "    #Get the legislators data from openstates\n",
    "    new_legislatures = ostate.search_legislators(id_ = legislature_ids) \n",
    "    \n",
    "    legislatures += new_legislatures #add our data to the legislatures list"
   ]
  },
  {
   "cell_type": "code",
   "execution_count": 396,
   "id": "b40419fc-7c89-4409-89ce-ae1b3c3b8765",
   "metadata": {},
   "outputs": [],
   "source": [
    "#Saving first round of data to dataframe\n",
    "leg_df = pd.DataFrame(legislatures)"
   ]
  },
  {
   "cell_type": "markdown",
   "id": "b277b689-f6b8-43c1-a45a-1ac8ae147d26",
   "metadata": {},
   "source": [
    "Round 2 of data collection should get all the legislatures we need."
   ]
  },
  {
   "cell_type": "code",
   "execution_count": 400,
   "id": "e919a0fb-6679-4170-be6e-f5f88e80cf55",
   "metadata": {},
   "outputs": [
    {
     "name": "stdout",
     "output_type": "stream",
     "text": [
      "Collecting 4211 through 4221\r"
     ]
    }
   ],
   "source": [
    "legislatures = [] #we will keep the data in this list\n",
    "\n",
    "for i in range(2501,4221,10): #This will be the index of the legislative ids we pick\n",
    "    print(f'Collecting {i} through {i+10}', end = '\\r')\n",
    "    sleep(6) #We can only have 10 requests per minute. If we wait 6 seconds between each request, we should be good.\n",
    "    \n",
    "    #take only ten ids at a time because that is all the api function will give us at once\n",
    "    legislature_ids = list(sponsors['person_id'].unique()[i:i+10])\n",
    "    \n",
    "    #Get the legislators data from openstates\n",
    "    new_legislatures = ostate.search_legislators(id_ = legislature_ids) \n",
    "    \n",
    "    legislatures += new_legislatures #add our data to the legislatures list"
   ]
  },
  {
   "cell_type": "code",
   "execution_count": 406,
   "id": "15a84695-fbd4-4899-a47a-521507458543",
   "metadata": {},
   "outputs": [],
   "source": [
    "leg_df = pd.concat([leg_df, pd.DataFrame(legislatures)])"
   ]
  },
  {
   "cell_type": "code",
   "execution_count": 407,
   "id": "268af983-af02-49db-bb2b-9d10019276c1",
   "metadata": {},
   "outputs": [
    {
     "data": {
      "text/plain": [
       "(4151, 16)"
      ]
     },
     "execution_count": 407,
     "metadata": {},
     "output_type": "execute_result"
    }
   ],
   "source": [
    "leg_df.shape"
   ]
  },
  {
   "cell_type": "markdown",
   "id": "68fc1e7b-db62-4838-ad02-3488ffd8e971",
   "metadata": {},
   "source": [
    "There are 4221 unique legislators but we only retrived 4151 of them. It seems like our code missed 70 legislators."
   ]
  },
  {
   "cell_type": "code",
   "execution_count": 412,
   "id": "02220bc8-6272-44e8-978b-8764b7c58867",
   "metadata": {
    "scrolled": true,
    "tags": []
   },
   "outputs": [],
   "source": [
    "missing_ids = [] #store the ids that we did not retrive data for\n",
    "\n",
    "for ids in list(sponsors['person_id'].dropna().unique()): #go thorugh all the legislature ids from prior data\n",
    "    if ids not in list(leg_df['id']): #check if we retrived data from api for it\n",
    "        missing_ids.append(ids) #if not, append to missing ids list"
   ]
  },
  {
   "cell_type": "markdown",
   "id": "b0294155-e9fd-4820-b761-0c7a6dbb8f14",
   "metadata": {},
   "source": [
    "Round 3: can we get data for the ids that did not work the first time through."
   ]
  },
  {
   "cell_type": "code",
   "execution_count": 414,
   "id": "22f3988e-4910-415e-9fca-088f93f2ddcb",
   "metadata": {},
   "outputs": [
    {
     "data": {
      "text/plain": [
       "[]"
      ]
     },
     "execution_count": 414,
     "metadata": {},
     "output_type": "execute_result"
    }
   ],
   "source": [
    "ostate.search_legislators(id_ = missing_ids) "
   ]
  },
  {
   "cell_type": "markdown",
   "id": "376cdb8b-d8da-4799-9b30-bebc243044cb",
   "metadata": {},
   "source": [
    "It seems like these ids don't exist in the Open States API."
   ]
  },
  {
   "cell_type": "code",
   "execution_count": 427,
   "id": "ebc649f7-dcf1-48e8-9330-0efde600c147",
   "metadata": {},
   "outputs": [
    {
     "data": {
      "text/html": [
       "<div>\n",
       "<style scoped>\n",
       "    .dataframe tbody tr th:only-of-type {\n",
       "        vertical-align: middle;\n",
       "    }\n",
       "\n",
       "    .dataframe tbody tr th {\n",
       "        vertical-align: top;\n",
       "    }\n",
       "\n",
       "    .dataframe thead th {\n",
       "        text-align: right;\n",
       "    }\n",
       "</style>\n",
       "<table border=\"1\" class=\"dataframe\">\n",
       "  <thead>\n",
       "    <tr style=\"text-align: right;\">\n",
       "      <th></th>\n",
       "      <th>id</th>\n",
       "      <th>name</th>\n",
       "      <th>party</th>\n",
       "    </tr>\n",
       "  </thead>\n",
       "  <tbody>\n",
       "    <tr>\n",
       "      <th>0</th>\n",
       "      <td>ocd-person/a08f605d-221f-4d26-8e13-4bcfa964cd8e</td>\n",
       "      <td>Becky Nordgren</td>\n",
       "      <td>Republican</td>\n",
       "    </tr>\n",
       "    <tr>\n",
       "      <th>1</th>\n",
       "      <td>ocd-person/6144ffa0-24f3-4594-87ab-938fd8fb1d68</td>\n",
       "      <td>Ed Henry</td>\n",
       "      <td>Republican</td>\n",
       "    </tr>\n",
       "    <tr>\n",
       "      <th>2</th>\n",
       "      <td>ocd-person/0d7f5989-df17-4c90-8267-4914f5598712</td>\n",
       "      <td>Jim Carns</td>\n",
       "      <td>Republican</td>\n",
       "    </tr>\n",
       "    <tr>\n",
       "      <th>3</th>\n",
       "      <td>ocd-person/cbef3e56-a05d-4dca-8b0c-200e4bff9ad5</td>\n",
       "      <td>Kyle South</td>\n",
       "      <td>Republican</td>\n",
       "    </tr>\n",
       "    <tr>\n",
       "      <th>4</th>\n",
       "      <td>ocd-person/378065a9-1a28-4511-8b40-cdefe30a66a7</td>\n",
       "      <td>Lee Pittman</td>\n",
       "      <td>Republican</td>\n",
       "    </tr>\n",
       "    <tr>\n",
       "      <th>...</th>\n",
       "      <td>...</td>\n",
       "      <td>...</td>\n",
       "      <td>...</td>\n",
       "    </tr>\n",
       "    <tr>\n",
       "      <th>4146</th>\n",
       "      <td>ocd-person/eb9af80b-b2e8-4b32-9598-b9e12bb470ef</td>\n",
       "      <td>Clark Stith</td>\n",
       "      <td>Republican</td>\n",
       "    </tr>\n",
       "    <tr>\n",
       "      <th>4147</th>\n",
       "      <td>ocd-person/b9d3820d-6368-41c3-8730-b287ff78f49e</td>\n",
       "      <td>Dan Furphy</td>\n",
       "      <td>Republican</td>\n",
       "    </tr>\n",
       "    <tr>\n",
       "      <th>4148</th>\n",
       "      <td>ocd-person/f6e46a8f-6a6f-4c91-9ee8-d0c55e826c48</td>\n",
       "      <td>Danny Eyre</td>\n",
       "      <td>Republican</td>\n",
       "    </tr>\n",
       "    <tr>\n",
       "      <th>4149</th>\n",
       "      <td>ocd-person/e8bbc8c8-4c0d-4567-bb4c-e3ac635ba178</td>\n",
       "      <td>Evan Simpson</td>\n",
       "      <td>Republican</td>\n",
       "    </tr>\n",
       "    <tr>\n",
       "      <th>4150</th>\n",
       "      <td>ocd-person/f5b26545-4dbc-4d9d-bf8d-f3d16bcebc2d</td>\n",
       "      <td>Joe MacGuire</td>\n",
       "      <td>Republican</td>\n",
       "    </tr>\n",
       "  </tbody>\n",
       "</table>\n",
       "<p>4151 rows × 3 columns</p>\n",
       "</div>"
      ],
      "text/plain": [
       "                                                   id            name  \\\n",
       "0     ocd-person/a08f605d-221f-4d26-8e13-4bcfa964cd8e  Becky Nordgren   \n",
       "1     ocd-person/6144ffa0-24f3-4594-87ab-938fd8fb1d68        Ed Henry   \n",
       "2     ocd-person/0d7f5989-df17-4c90-8267-4914f5598712       Jim Carns   \n",
       "3     ocd-person/cbef3e56-a05d-4dca-8b0c-200e4bff9ad5      Kyle South   \n",
       "4     ocd-person/378065a9-1a28-4511-8b40-cdefe30a66a7     Lee Pittman   \n",
       "...                                               ...             ...   \n",
       "4146  ocd-person/eb9af80b-b2e8-4b32-9598-b9e12bb470ef     Clark Stith   \n",
       "4147  ocd-person/b9d3820d-6368-41c3-8730-b287ff78f49e      Dan Furphy   \n",
       "4148  ocd-person/f6e46a8f-6a6f-4c91-9ee8-d0c55e826c48      Danny Eyre   \n",
       "4149  ocd-person/e8bbc8c8-4c0d-4567-bb4c-e3ac635ba178    Evan Simpson   \n",
       "4150  ocd-person/f5b26545-4dbc-4d9d-bf8d-f3d16bcebc2d    Joe MacGuire   \n",
       "\n",
       "           party  \n",
       "0     Republican  \n",
       "1     Republican  \n",
       "2     Republican  \n",
       "3     Republican  \n",
       "4     Republican  \n",
       "...          ...  \n",
       "4146  Republican  \n",
       "4147  Republican  \n",
       "4148  Republican  \n",
       "4149  Republican  \n",
       "4150  Republican  \n",
       "\n",
       "[4151 rows x 3 columns]"
      ]
     },
     "execution_count": 427,
     "metadata": {},
     "output_type": "execute_result"
    }
   ],
   "source": [
    "leg_df "
   ]
  },
  {
   "cell_type": "markdown",
   "id": "c154687d-6c9f-409a-bf56-dd9ffd224fae",
   "metadata": {},
   "source": [
    "# Merging\n",
    "\n",
    "We now have all the data to merge our sponsorship data and party of the sponsor. The end product after this section will be a dataframe of each bill with a column for the bill id and some columns showing the primary party behind the bill."
   ]
  },
  {
   "cell_type": "code",
   "execution_count": 432,
   "id": "cdf0ea0b-ec7d-44c4-9bdf-5d40cd60a76a",
   "metadata": {},
   "outputs": [],
   "source": [
    "#Data Frame of the legislatures with only the needed columns\n",
    "leg_df = leg_df[['id','name','party']].copy()\n",
    "leg_df.reset_index(inplace = True, drop = True)"
   ]
  },
  {
   "cell_type": "code",
   "execution_count": 434,
   "id": "5d259d52-a4cb-4ee1-9e63-4fa1775192c1",
   "metadata": {},
   "outputs": [],
   "source": [
    "#Merge the data frames by the legislatures id. One with the imputed ids that we made and one normal.\n",
    "df = leg_df.merge(sponsors, how = 'inner', left_on = 'id', right_on = 'person_id')\n",
    "df_imputed = leg_df.merge(sponsors, how = 'inner', left_on = 'id', right_on = 'imputed_ids')"
   ]
  },
  {
   "cell_type": "code",
   "execution_count": 435,
   "id": "d80cee73-4d7d-4fbe-abd0-634104b58ab0",
   "metadata": {},
   "outputs": [
    {
     "name": "stdout",
     "output_type": "stream",
     "text": [
      "Normal:\n",
      "There are only 98169 out of 277737\n",
      "\n",
      "Imputed:\n",
      "There are only 96707 out of 311468\n"
     ]
    }
   ],
   "source": [
    "length = len(df.bill_id.unique())\n",
    "length_imp = len(df_imputed.bill_id.unique())\n",
    "print('Normal:')\n",
    "print(f'There are only {length} out of {df.shape[0]}')\n",
    "print('\\nImputed:')\n",
    "print(f'There are only {length_imp} out of {df_imputed.shape[0]}')"
   ]
  },
  {
   "cell_type": "markdown",
   "id": "4f10e746-d2f3-42c2-91e5-a6f0a9d74b02",
   "metadata": {},
   "source": [
    "Confusing result. The dataframe matched with the non imputed ids (meaning there are more missing values) had more unique bills than the dataframed merge on th imputed ids. Something seems to have gone wrong in that code and I will table the imputation effort. We will move forward with the normal df."
   ]
  },
  {
   "cell_type": "code",
   "execution_count": 437,
   "id": "45883df8-ce9c-4b8c-86df-46293d1cc274",
   "metadata": {},
   "outputs": [],
   "source": [
    "#save the unique bills to an array\n",
    "unique_bills = df.bill_id.unique()"
   ]
  },
  {
   "cell_type": "markdown",
   "id": "1bb0cc72-81e3-463f-bd3f-28ba43d14ca1",
   "metadata": {},
   "source": [
    "The following code makes a list deciding if a bill was sponsored by democrats or republicans or neither. This is necessary because there are many bills with multiple sponsors. \n",
    "\n",
    "If more republicans sponsored a bill, it is a republican bill. If more democrats sponsored a bill, it is a democratic bill. If an independant or an equal amount of republicans and democrats sponsored the bill, it is neither republican or democrat. "
   ]
  },
  {
   "cell_type": "code",
   "execution_count": 440,
   "id": "bbb555be-7aa8-4217-a9c3-52bfee5709c8",
   "metadata": {},
   "outputs": [
    {
     "name": "stdout",
     "output_type": "stream",
     "text": [
      "100.0%\r"
     ]
    }
   ],
   "source": [
    "length = len(unique_bills) #helps for the runtime function in the loop\n",
    "sponsor_party_list = [] #where we will store the party sponsor\n",
    "\n",
    "for i, bill_id in enumerate(unique_bills): #Loop through every unique bill\n",
    "    \n",
    "    print(f'{round(((i+1)/ length) * 100,2)}%', end = '\\r') #Let's us know how far into the runtime we are\n",
    "    \n",
    "    parties = merged[merged.bill_id == bill_id]['party'] #List of the parties of people sponsoring the bill\n",
    "\n",
    "    n_dems = list(parties).count('Democratic') #Count Democrats sponsoring bill\n",
    "    n_reps = list(parties).count('Republican') #Count Republicans sponsoring bill\n",
    "\n",
    "    if n_dems > n_reps: #If there are more democrats, it is a democrat bill\n",
    "        sponsor_party_list.append('Dem')\n",
    "    elif n_dems < n_reps: #If there are more republican, it is a republican bill\n",
    "        sponsor_party_list.append('Rep')\n",
    "    else:\n",
    "        sponsor_party_list.append('Neither')"
   ]
  },
  {
   "cell_type": "code",
   "execution_count": 441,
   "id": "5f5b293d-17c6-4741-8c9d-da8a3591f8f6",
   "metadata": {},
   "outputs": [
    {
     "name": "stdout",
     "output_type": "stream",
     "text": [
      "98169\n",
      "98169\n"
     ]
    }
   ],
   "source": [
    "#Checking that they are the same length\n",
    "print(len(unique_bills))\n",
    "print(len(sponsor_party_list))"
   ]
  },
  {
   "cell_type": "code",
   "execution_count": 442,
   "id": "76c6128c-7577-4439-ac1b-fb872dd3ced2",
   "metadata": {},
   "outputs": [],
   "source": [
    "bills_sponsor_party = pd.DataFrame() #Dataframe to hold our final product\n",
    "\n",
    "bills_sponsor_party['bill_id'] = unique_bills #column for the bill ids\n",
    "bills_sponsor_party['majority_sponsor_party'] = sponsor_party_list #column for the majority sponsor party calculated above"
   ]
  },
  {
   "cell_type": "markdown",
   "id": "94b90574-3450-450c-9314-15eb6cf972fa",
   "metadata": {},
   "source": [
    "The following code makes a list deciding if a bill was sponsored similar to the code above but adds some groups. Now if a bill is sponsored by both republicans and democrats, it is a bipartisan bill. If it is only democrats, it is a democratic bill and same for republicans. And if it is none of these options, for example, an independent bill, it is labeld as other."
   ]
  },
  {
   "cell_type": "markdown",
   "id": "57ef8d7c-9a64-476e-b0c3-2968f3fbcf28",
   "metadata": {},
   "source": [
    "# Saving the data"
   ]
  },
  {
   "cell_type": "code",
   "execution_count": 465,
   "id": "25674951-5a55-432a-860e-b607b190bd14",
   "metadata": {},
   "outputs": [],
   "source": [
    "bills_sponsor_party.to_csv('../../Data/Bills_Data/bills_sponsor_party.csv.zip', index = False)"
   ]
  },
  {
   "cell_type": "code",
   "execution_count": null,
   "id": "f6061bc7-bfcc-497c-a972-45b0ea09b145",
   "metadata": {},
   "outputs": [],
   "source": []
  }
 ],
 "metadata": {
  "kernelspec": {
   "display_name": "Python 3 (ipykernel)",
   "language": "python",
   "name": "python3"
  },
  "language_info": {
   "codemirror_mode": {
    "name": "ipython",
    "version": 3
   },
   "file_extension": ".py",
   "mimetype": "text/x-python",
   "name": "python",
   "nbconvert_exporter": "python",
   "pygments_lexer": "ipython3",
   "version": "3.9.13"
  }
 },
 "nbformat": 4,
 "nbformat_minor": 5
}
