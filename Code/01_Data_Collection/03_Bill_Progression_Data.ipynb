{
 "cells": [
  {
   "cell_type": "code",
   "execution_count": 2,
   "id": "407b1386-d89b-4acb-8084-611b00e3454b",
   "metadata": {},
   "outputs": [],
   "source": [
    "import pandas as pd\n",
    "import zipfile\n",
    "import os\n",
    "import shutil"
   ]
  },
  {
   "cell_type": "markdown",
   "id": "8b393160-f722-44be-8247-727e4a5da809",
   "metadata": {},
   "source": [
    "# About original data\n",
    "\n",
    "The Legislative Bills Progression data comes from the Harvard Dataverse and was published by Dr. Garlick in April, 2023 ([link to data](https://dataverse.harvard.edu/dataset.xhtml?persistentId=doi:10.7910/DVN/8PTHXT)). The dataset contains over a million bills for all states from the years of 2011 to 2019. It includes the 23 step progression of each bill showing where it failed or if it was enacted. Dr. Garlick and his team used Open Sates to create this data set which will work well for us because we will be able to connect it to the bill data we gathered. In this codebook, we will just filter the dataset to only include bills from the years of 2017 and 2018."
   ]
  },
  {
   "cell_type": "markdown",
   "id": "b884901e-6d8c-4443-99da-e29371a10fcc",
   "metadata": {},
   "source": [
    "# Read in data"
   ]
  },
  {
   "cell_type": "code",
   "execution_count": 3,
   "id": "a9724126-54fe-4c0c-9003-9861fe108b0c",
   "metadata": {},
   "outputs": [
    {
     "name": "stderr",
     "output_type": "stream",
     "text": [
      "/var/folders/2s/0cx_vgq111qdb9jklnsjxt5w0000gp/T/ipykernel_825/1821039965.py:9: DtypeWarning: Columns (5,9,38,39) have mixed types. Specify dtype option on import or set low_memory=False.\n",
      "  bill_progression = pd.read_csv('../../Data/Legislative_Progression/unzipped/ajo_lpcode_v0.1.csv')\n"
     ]
    }
   ],
   "source": [
    "#Instantiate zip object\n",
    "zip_object = zipfile.ZipFile('../../Data/Legislative_Progression/dataverse_files.zip') \n",
    "#Extract all files in zip file\n",
    "zip_object.extractall('../../Data/Legislative_Progression/unzipped')\n",
    "\n",
    "#Save the codebook\n",
    "codebook = pd.read_csv('../../Data/Legislative_Progression/unzipped/ajo_lpcode_codebook_v0.1.csv')\n",
    "#Save the actual data\n",
    "bill_progression = pd.read_csv('../../Data/Legislative_Progression/unzipped/ajo_lpcode_v0.1.csv')\n",
    "\n",
    "#Delete our extracted data so we don't waste memory\n",
    "shutil.rmtree('../../Data/Legislative_Progression/unzipped')"
   ]
  },
  {
   "cell_type": "markdown",
   "id": "2908cdf3-ee2c-4460-a673-12f879c2134d",
   "metadata": {},
   "source": [
    "The warning let's us know that some columns have mixed data types. We will deal with this problem in the data cleaning phase."
   ]
  },
  {
   "cell_type": "markdown",
   "id": "aa4a93cd-5eec-44cd-9602-c44f6d3eb8a6",
   "metadata": {},
   "source": [
    "# Filter data and save"
   ]
  },
  {
   "cell_type": "code",
   "execution_count": 9,
   "id": "6faae999-e69e-41de-ab7a-7292ad09f040",
   "metadata": {},
   "outputs": [],
   "source": [
    "#We only need bills made after 2017\n",
    "bill_progression_filtered = bill_progression[bill_progression['year1'] >= 2017]"
   ]
  },
  {
   "cell_type": "code",
   "execution_count": 10,
   "id": "1011c8bf-e67f-476a-a462-73fb748d64fc",
   "metadata": {},
   "outputs": [],
   "source": [
    "#Save data to compressed file\n",
    "bill_progression_filtered.to_csv('../../Data/Legislative_Progression/bill_progression_2017_2018.csv.zip', index = False)"
   ]
  },
  {
   "cell_type": "code",
   "execution_count": 11,
   "id": "c3a13ba0-8390-4208-807b-b4741c219b01",
   "metadata": {},
   "outputs": [],
   "source": [
    "codebook.to_csv('../../Data/Legislative_Progression/codebook.csv.zip', index = False)"
   ]
  },
  {
   "cell_type": "code",
   "execution_count": null,
   "id": "d9c07ca3-60b5-4905-97b9-4d6bc932af50",
   "metadata": {},
   "outputs": [],
   "source": []
  }
 ],
 "metadata": {
  "kernelspec": {
   "display_name": "Python 3 (ipykernel)",
   "language": "python",
   "name": "python3"
  },
  "language_info": {
   "codemirror_mode": {
    "name": "ipython",
    "version": 3
   },
   "file_extension": ".py",
   "mimetype": "text/x-python",
   "name": "python",
   "nbconvert_exporter": "python",
   "pygments_lexer": "ipython3",
   "version": "3.9.13"
  }
 },
 "nbformat": 4,
 "nbformat_minor": 5
}
