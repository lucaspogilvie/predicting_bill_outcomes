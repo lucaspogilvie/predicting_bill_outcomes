{
 "cells": [
  {
   "cell_type": "code",
   "execution_count": 51,
   "id": "a9377082-ede3-41c2-8891-b7e4d0f6ec37",
   "metadata": {},
   "outputs": [],
   "source": [
    "import pandas as pd\n",
    "from nltk.tokenize import word_tokenize\n",
    "from nltk.stem import WordNetLemmatizer"
   ]
  },
  {
   "cell_type": "markdown",
   "id": "33daedf0-bdff-424e-a59c-1fb74aab20a5",
   "metadata": {},
   "source": [
    "# Data Cleaning\n",
    "\n",
    "We now have all of the datasets merged. After merging, we ended up with two datasets; one with almost 160,000 bills and the other with around 85,000 bills. The smaller dataset is a subset of the larger one but has more information with it. It includes a column of which party sponsored the bill. As we have two datasets, we will clean both of them seperately. They will both have a very similar process.\n",
    "\n",
    "First thing will be to get rid of some columns. They will be removed because either because they have too many missing values, or because they will not be useful for this particular study. Secondly, we will clean up some columns. For example, the subject column has a list of subjects that the bill relates to, it would be more useful if it was in just a normal string format rather than a list so we can use count vectorizer on it in our modeling phase. Lastly, we will have to get rid of a big chunk of our data because we are only interested in types of Legislation that can infact become laws. Our column statute will help with this phase."
   ]
  },
  {
   "cell_type": "markdown",
   "id": "98b48de7-bd38-4b8a-b4bc-54ebb9b10988",
   "metadata": {},
   "source": [
    "# Read in Data\n",
    "\n",
    "And take a look at it."
   ]
  },
  {
   "cell_type": "code",
   "execution_count": 3,
   "id": "72efa652-ba66-4def-a1c1-63d169b06262",
   "metadata": {},
   "outputs": [
    {
     "name": "stderr",
     "output_type": "stream",
     "text": [
      "/var/folders/2s/0cx_vgq111qdb9jklnsjxt5w0000gp/T/ipykernel_2062/2292387765.py:1: DtypeWarning: Columns (6,19,52,53,62,63,64,65) have mixed types. Specify dtype option on import or set low_memory=False.\n",
      "  df = pd.read_csv('../Data/Merged_Data/merged_data.csv.zip')\n",
      "/var/folders/2s/0cx_vgq111qdb9jklnsjxt5w0000gp/T/ipykernel_2062/2292387765.py:4: DtypeWarning: Columns (52,53,62,63,64,65) have mixed types. Specify dtype option on import or set low_memory=False.\n",
      "  df_with_sponsors = pd.read_csv('../Data/Merged_Data/merged_data_with_sponsorship.csv.zip')\n"
     ]
    }
   ],
   "source": [
    "df = pd.read_csv('../Data/Merged_Data/merged_data.csv.zip')\n",
    "df.drop(columns = ['Unnamed: 0'], inplace = True)\n",
    "\n",
    "df_with_sponsors = pd.read_csv('../Data/Merged_Data/merged_data_with_sponsorship.csv.zip')\n",
    "df_with_sponsors.drop(columns = 'Unnamed: 0', inplace = True)\n",
    "\n",
    "#codebook = pd.read_csv('../Data/Legislative_Progression/codebook.csv.zip')"
   ]
  },
  {
   "cell_type": "code",
   "execution_count": 161,
   "id": "8840a75c-8310-4cac-9f01-6b809174ba9e",
   "metadata": {},
   "outputs": [
    {
     "data": {
      "text/html": [
       "<div>\n",
       "<style scoped>\n",
       "    .dataframe tbody tr th:only-of-type {\n",
       "        vertical-align: middle;\n",
       "    }\n",
       "\n",
       "    .dataframe tbody tr th {\n",
       "        vertical-align: top;\n",
       "    }\n",
       "\n",
       "    .dataframe thead th {\n",
       "        text-align: right;\n",
       "    }\n",
       "</style>\n",
       "<table border=\"1\" class=\"dataframe\">\n",
       "  <thead>\n",
       "    <tr style=\"text-align: right;\">\n",
       "      <th></th>\n",
       "      <th>id_x</th>\n",
       "      <th>identifier</th>\n",
       "      <th>title</th>\n",
       "      <th>classification</th>\n",
       "      <th>subject</th>\n",
       "      <th>session_identifier</th>\n",
       "      <th>jurisdiction</th>\n",
       "      <th>organization_classification</th>\n",
       "      <th>bill_id_x</th>\n",
       "      <th>related_bill_id</th>\n",
       "      <th>...</th>\n",
       "      <th>house_dem</th>\n",
       "      <th>house_rep</th>\n",
       "      <th>gov_party</th>\n",
       "      <th>year</th>\n",
       "      <th>id_y</th>\n",
       "      <th>bill_id_x.1</th>\n",
       "      <th>abstract</th>\n",
       "      <th>note</th>\n",
       "      <th>bill_id_y.1</th>\n",
       "      <th>majority_sponsor_party</th>\n",
       "    </tr>\n",
       "  </thead>\n",
       "  <tbody>\n",
       "    <tr>\n",
       "      <th>0</th>\n",
       "      <td>ocd-bill/1c7dc860-88ed-4c66-ac15-07d506b73921</td>\n",
       "      <td>HR 66</td>\n",
       "      <td>Stroup, William Earl, death mourned</td>\n",
       "      <td>['resolution']</td>\n",
       "      <td>['Resolutions, Condolence']</td>\n",
       "      <td>2018rs</td>\n",
       "      <td>al</td>\n",
       "      <td>lower</td>\n",
       "      <td>NaN</td>\n",
       "      <td>NaN</td>\n",
       "      <td>...</td>\n",
       "      <td>33</td>\n",
       "      <td>70</td>\n",
       "      <td>Rep</td>\n",
       "      <td>2018</td>\n",
       "      <td>NaN</td>\n",
       "      <td>NaN</td>\n",
       "      <td>NaN</td>\n",
       "      <td>NaN</td>\n",
       "      <td>ocd-bill/1c7dc860-88ed-4c66-ac15-07d506b73921</td>\n",
       "      <td>Dem</td>\n",
       "    </tr>\n",
       "  </tbody>\n",
       "</table>\n",
       "<p>1 rows × 67 columns</p>\n",
       "</div>"
      ],
      "text/plain": [
       "                                            id_x identifier  \\\n",
       "0  ocd-bill/1c7dc860-88ed-4c66-ac15-07d506b73921      HR 66   \n",
       "\n",
       "                                 title  classification  \\\n",
       "0  Stroup, William Earl, death mourned  ['resolution']   \n",
       "\n",
       "                       subject session_identifier jurisdiction  \\\n",
       "0  ['Resolutions, Condolence']             2018rs           al   \n",
       "\n",
       "  organization_classification  bill_id_x  related_bill_id  ...  house_dem  \\\n",
       "0                       lower        NaN              NaN  ...         33   \n",
       "\n",
       "   house_rep gov_party  year id_y  bill_id_x.1  abstract  note  \\\n",
       "0         70       Rep  2018  NaN          NaN       NaN   NaN   \n",
       "\n",
       "                                     bill_id_y.1 majority_sponsor_party  \n",
       "0  ocd-bill/1c7dc860-88ed-4c66-ac15-07d506b73921                    Dem  \n",
       "\n",
       "[1 rows x 67 columns]"
      ]
     },
     "execution_count": 161,
     "metadata": {},
     "output_type": "execute_result"
    }
   ],
   "source": [
    "df_with_sponsors.head(1)"
   ]
  },
  {
   "cell_type": "code",
   "execution_count": 162,
   "id": "493eb869-606f-40b3-92d0-7e65227075fb",
   "metadata": {},
   "outputs": [
    {
     "data": {
      "text/html": [
       "<div>\n",
       "<style scoped>\n",
       "    .dataframe tbody tr th:only-of-type {\n",
       "        vertical-align: middle;\n",
       "    }\n",
       "\n",
       "    .dataframe tbody tr th {\n",
       "        vertical-align: top;\n",
       "    }\n",
       "\n",
       "    .dataframe thead th {\n",
       "        text-align: right;\n",
       "    }\n",
       "</style>\n",
       "<table border=\"1\" class=\"dataframe\">\n",
       "  <thead>\n",
       "    <tr style=\"text-align: right;\">\n",
       "      <th></th>\n",
       "      <th>id_x</th>\n",
       "      <th>identifier</th>\n",
       "      <th>title</th>\n",
       "      <th>classification</th>\n",
       "      <th>subject</th>\n",
       "      <th>session_identifier</th>\n",
       "      <th>jurisdiction</th>\n",
       "      <th>organization_classification</th>\n",
       "      <th>bill_id_x</th>\n",
       "      <th>related_bill_id</th>\n",
       "      <th>...</th>\n",
       "      <th>senate_dem</th>\n",
       "      <th>senate_rep</th>\n",
       "      <th>house_dem</th>\n",
       "      <th>house_rep</th>\n",
       "      <th>gov_party</th>\n",
       "      <th>year</th>\n",
       "      <th>id_y</th>\n",
       "      <th>bill_id</th>\n",
       "      <th>abstract</th>\n",
       "      <th>note</th>\n",
       "    </tr>\n",
       "  </thead>\n",
       "  <tbody>\n",
       "    <tr>\n",
       "      <th>0</th>\n",
       "      <td>ocd-bill/f1741c6f-c9fc-4811-8a5f-aca07d1ae90c</td>\n",
       "      <td>SB 53</td>\n",
       "      <td>An Act relating to insurance coverage for cont...</td>\n",
       "      <td>['bill']</td>\n",
       "      <td>['BOARDS &amp; COMMISSIONS', 'DRUGS', 'HEALTH &amp; SO...</td>\n",
       "      <td>30</td>\n",
       "      <td>ak</td>\n",
       "      <td>upper</td>\n",
       "      <td>NaN</td>\n",
       "      <td>NaN</td>\n",
       "      <td>...</td>\n",
       "      <td>6</td>\n",
       "      <td>14</td>\n",
       "      <td>17</td>\n",
       "      <td>21</td>\n",
       "      <td>Ind</td>\n",
       "      <td>2017</td>\n",
       "      <td>NaN</td>\n",
       "      <td>NaN</td>\n",
       "      <td>NaN</td>\n",
       "      <td>NaN</td>\n",
       "    </tr>\n",
       "  </tbody>\n",
       "</table>\n",
       "<p>1 rows × 65 columns</p>\n",
       "</div>"
      ],
      "text/plain": [
       "                                            id_x identifier  \\\n",
       "0  ocd-bill/f1741c6f-c9fc-4811-8a5f-aca07d1ae90c      SB 53   \n",
       "\n",
       "                                               title classification  \\\n",
       "0  An Act relating to insurance coverage for cont...       ['bill']   \n",
       "\n",
       "                                             subject session_identifier  \\\n",
       "0  ['BOARDS & COMMISSIONS', 'DRUGS', 'HEALTH & SO...                 30   \n",
       "\n",
       "  jurisdiction organization_classification  bill_id_x  related_bill_id  ...  \\\n",
       "0           ak                       upper        NaN              NaN  ...   \n",
       "\n",
       "   senate_dem  senate_rep house_dem house_rep gov_party  year  id_y  bill_id  \\\n",
       "0           6          14        17        21       Ind  2017   NaN      NaN   \n",
       "\n",
       "  abstract note  \n",
       "0      NaN  NaN  \n",
       "\n",
       "[1 rows x 65 columns]"
      ]
     },
     "execution_count": 162,
     "metadata": {},
     "output_type": "execute_result"
    }
   ],
   "source": [
    "df.head(1)"
   ]
  },
  {
   "cell_type": "code",
   "execution_count": 163,
   "id": "acd36b5e-303b-489d-a9f2-b58fe8305a2c",
   "metadata": {
    "scrolled": true,
    "tags": []
   },
   "outputs": [
    {
     "data": {
      "text/html": [
       "<div>\n",
       "<style scoped>\n",
       "    .dataframe tbody tr th:only-of-type {\n",
       "        vertical-align: middle;\n",
       "    }\n",
       "\n",
       "    .dataframe tbody tr th {\n",
       "        vertical-align: top;\n",
       "    }\n",
       "\n",
       "    .dataframe thead th {\n",
       "        text-align: right;\n",
       "    }\n",
       "</style>\n",
       "<table border=\"1\" class=\"dataframe\">\n",
       "  <thead>\n",
       "    <tr style=\"text-align: right;\">\n",
       "      <th></th>\n",
       "      <th>variable name</th>\n",
       "      <th>Description</th>\n",
       "      <th>type</th>\n",
       "    </tr>\n",
       "  </thead>\n",
       "  <tbody>\n",
       "    <tr>\n",
       "      <th>0</th>\n",
       "      <td>ajo_id</td>\n",
       "      <td>Unique identifier</td>\n",
       "      <td>string</td>\n",
       "    </tr>\n",
       "    <tr>\n",
       "      <th>1</th>\n",
       "      <td>state</td>\n",
       "      <td>State (abbreviation)</td>\n",
       "      <td>string</td>\n",
       "    </tr>\n",
       "    <tr>\n",
       "      <th>2</th>\n",
       "      <td>fips</td>\n",
       "      <td>State FIPS code (numeric)</td>\n",
       "      <td>float</td>\n",
       "    </tr>\n",
       "    <tr>\n",
       "      <th>3</th>\n",
       "      <td>year2</td>\n",
       "      <td>Biennium (first year of odd-even sessions, sec...</td>\n",
       "      <td>float</td>\n",
       "    </tr>\n",
       "    <tr>\n",
       "      <th>4</th>\n",
       "      <td>year1</td>\n",
       "      <td>Year of activity</td>\n",
       "      <td>float</td>\n",
       "    </tr>\n",
       "    <tr>\n",
       "      <th>5</th>\n",
       "      <td>sess_str</td>\n",
       "      <td>Session name (string)</td>\n",
       "      <td>string</td>\n",
       "    </tr>\n",
       "    <tr>\n",
       "      <th>6</th>\n",
       "      <td>special</td>\n",
       "      <td>Special Session?</td>\n",
       "      <td>string</td>\n",
       "    </tr>\n",
       "    <tr>\n",
       "      <th>7</th>\n",
       "      <td>sessrank</td>\n",
       "      <td>Session number within biennium</td>\n",
       "      <td>string</td>\n",
       "    </tr>\n",
       "    <tr>\n",
       "      <th>8</th>\n",
       "      <td>bill_id</td>\n",
       "      <td>Bill id</td>\n",
       "      <td>string</td>\n",
       "    </tr>\n",
       "    <tr>\n",
       "      <th>9</th>\n",
       "      <td>bill_pre</td>\n",
       "      <td>Bill prefix</td>\n",
       "      <td>string</td>\n",
       "    </tr>\n",
       "    <tr>\n",
       "      <th>10</th>\n",
       "      <td>statute</td>\n",
       "      <td>Is bill statutory? If yes (1), no (0), unobser...</td>\n",
       "      <td>float</td>\n",
       "    </tr>\n",
       "    <tr>\n",
       "      <th>11</th>\n",
       "      <td>insamp</td>\n",
       "      <td>In the Brown Garlick LSQ Sample (46 states, ~2...</td>\n",
       "      <td>float</td>\n",
       "    </tr>\n",
       "    <tr>\n",
       "      <th>12</th>\n",
       "      <td>date_start</td>\n",
       "      <td>Date of first action</td>\n",
       "      <td>float</td>\n",
       "    </tr>\n",
       "    <tr>\n",
       "      <th>13</th>\n",
       "      <td>date_end</td>\n",
       "      <td>Date of last action</td>\n",
       "      <td>float</td>\n",
       "    </tr>\n",
       "    <tr>\n",
       "      <th>14</th>\n",
       "      <td>lpcode</td>\n",
       "      <td>Legislative Progression Code</td>\n",
       "      <td>float</td>\n",
       "    </tr>\n",
       "    <tr>\n",
       "      <th>15</th>\n",
       "      <td>dum_10_1rd</td>\n",
       "      <td>First Reading (first chamber)</td>\n",
       "      <td>float</td>\n",
       "    </tr>\n",
       "    <tr>\n",
       "      <th>16</th>\n",
       "      <td>dum_12_ref</td>\n",
       "      <td>Referred to committee (first chamber)</td>\n",
       "      <td>float</td>\n",
       "    </tr>\n",
       "    <tr>\n",
       "      <th>17</th>\n",
       "      <td>dum_16_cfail</td>\n",
       "      <td>Failed in committee (first chamber)</td>\n",
       "      <td>float</td>\n",
       "    </tr>\n",
       "    <tr>\n",
       "      <th>18</th>\n",
       "      <td>dum_20_2rd</td>\n",
       "      <td>Second Reading (first chamber)</td>\n",
       "      <td>float</td>\n",
       "    </tr>\n",
       "    <tr>\n",
       "      <th>19</th>\n",
       "      <td>dum_30_3rd</td>\n",
       "      <td>Third Reading (first chamber)</td>\n",
       "      <td>float</td>\n",
       "    </tr>\n",
       "    <tr>\n",
       "      <th>20</th>\n",
       "      <td>dum_38_pass</td>\n",
       "      <td>Passage (first chamber)</td>\n",
       "      <td>float</td>\n",
       "    </tr>\n",
       "    <tr>\n",
       "      <th>21</th>\n",
       "      <td>dum_40_1rd</td>\n",
       "      <td>First Reading (second chamber)</td>\n",
       "      <td>float</td>\n",
       "    </tr>\n",
       "    <tr>\n",
       "      <th>22</th>\n",
       "      <td>dum_42_ref</td>\n",
       "      <td>Referred to committee (second chamber)</td>\n",
       "      <td>float</td>\n",
       "    </tr>\n",
       "    <tr>\n",
       "      <th>23</th>\n",
       "      <td>dum_46_cfail</td>\n",
       "      <td>Failed in committee (second chamber)</td>\n",
       "      <td>float</td>\n",
       "    </tr>\n",
       "    <tr>\n",
       "      <th>24</th>\n",
       "      <td>dum_50_2rd</td>\n",
       "      <td>Second Reading (second chamber)</td>\n",
       "      <td>float</td>\n",
       "    </tr>\n",
       "    <tr>\n",
       "      <th>25</th>\n",
       "      <td>dum_60_3rd</td>\n",
       "      <td>Third Reading (second chamber)</td>\n",
       "      <td>float</td>\n",
       "    </tr>\n",
       "    <tr>\n",
       "      <th>26</th>\n",
       "      <td>dum_68_pass</td>\n",
       "      <td>Passage (second chamber)</td>\n",
       "      <td>float</td>\n",
       "    </tr>\n",
       "    <tr>\n",
       "      <th>27</th>\n",
       "      <td>dum_70_intch</td>\n",
       "      <td>Post-passage activity (first chamber)</td>\n",
       "      <td>float</td>\n",
       "    </tr>\n",
       "    <tr>\n",
       "      <th>28</th>\n",
       "      <td>dum_72_conf</td>\n",
       "      <td>Conference committee appointed</td>\n",
       "      <td>float</td>\n",
       "    </tr>\n",
       "    <tr>\n",
       "      <th>29</th>\n",
       "      <td>dum_74_confp</td>\n",
       "      <td>Passed conference committee</td>\n",
       "      <td>float</td>\n",
       "    </tr>\n",
       "    <tr>\n",
       "      <th>30</th>\n",
       "      <td>dum_76_concur</td>\n",
       "      <td>One chamber concurs</td>\n",
       "      <td>float</td>\n",
       "    </tr>\n",
       "    <tr>\n",
       "      <th>31</th>\n",
       "      <td>dum_78_intpass</td>\n",
       "      <td>Both chambers Concur</td>\n",
       "      <td>float</td>\n",
       "    </tr>\n",
       "    <tr>\n",
       "      <th>32</th>\n",
       "      <td>dum_80_intbr</td>\n",
       "      <td>Interbranch activity (sent to governor)</td>\n",
       "      <td>float</td>\n",
       "    </tr>\n",
       "    <tr>\n",
       "      <th>33</th>\n",
       "      <td>dum_82_veto</td>\n",
       "      <td>Veto</td>\n",
       "      <td>float</td>\n",
       "    </tr>\n",
       "    <tr>\n",
       "      <th>34</th>\n",
       "      <td>dum_83_vetoline</td>\n",
       "      <td>Line-item veto</td>\n",
       "      <td>float</td>\n",
       "    </tr>\n",
       "    <tr>\n",
       "      <th>35</th>\n",
       "      <td>dum_86_vetoover</td>\n",
       "      <td>Veto override</td>\n",
       "      <td>float</td>\n",
       "    </tr>\n",
       "    <tr>\n",
       "      <th>36</th>\n",
       "      <td>dum_88_sign</td>\n",
       "      <td>Governor signs bill</td>\n",
       "      <td>float</td>\n",
       "    </tr>\n",
       "    <tr>\n",
       "      <th>37</th>\n",
       "      <td>dum_90_law</td>\n",
       "      <td>Bill enacted</td>\n",
       "      <td>float</td>\n",
       "    </tr>\n",
       "    <tr>\n",
       "      <th>38</th>\n",
       "      <td>tn_primary_bill_id</td>\n",
       "      <td>Primary bill (in Tennessee)</td>\n",
       "      <td>string</td>\n",
       "    </tr>\n",
       "    <tr>\n",
       "      <th>39</th>\n",
       "      <td>tn_comp_id</td>\n",
       "      <td>Companion bill (in Tennessee)</td>\n",
       "      <td>string</td>\n",
       "    </tr>\n",
       "  </tbody>\n",
       "</table>\n",
       "</div>"
      ],
      "text/plain": [
       "         variable name                                        Description  \\\n",
       "0               ajo_id                                  Unique identifier   \n",
       "1                state                               State (abbreviation)   \n",
       "2                 fips                          State FIPS code (numeric)   \n",
       "3                year2  Biennium (first year of odd-even sessions, sec...   \n",
       "4                year1                                   Year of activity   \n",
       "5             sess_str                              Session name (string)   \n",
       "6              special                                   Special Session?   \n",
       "7             sessrank                     Session number within biennium   \n",
       "8              bill_id                                            Bill id   \n",
       "9             bill_pre                                        Bill prefix   \n",
       "10             statute  Is bill statutory? If yes (1), no (0), unobser...   \n",
       "11              insamp  In the Brown Garlick LSQ Sample (46 states, ~2...   \n",
       "12          date_start                               Date of first action   \n",
       "13            date_end                                Date of last action   \n",
       "14              lpcode                       Legislative Progression Code   \n",
       "15          dum_10_1rd                      First Reading (first chamber)   \n",
       "16          dum_12_ref              Referred to committee (first chamber)   \n",
       "17        dum_16_cfail                Failed in committee (first chamber)   \n",
       "18          dum_20_2rd                     Second Reading (first chamber)   \n",
       "19          dum_30_3rd                      Third Reading (first chamber)   \n",
       "20         dum_38_pass                            Passage (first chamber)   \n",
       "21          dum_40_1rd                     First Reading (second chamber)   \n",
       "22          dum_42_ref             Referred to committee (second chamber)   \n",
       "23        dum_46_cfail               Failed in committee (second chamber)   \n",
       "24          dum_50_2rd                    Second Reading (second chamber)   \n",
       "25          dum_60_3rd                     Third Reading (second chamber)   \n",
       "26         dum_68_pass                           Passage (second chamber)   \n",
       "27        dum_70_intch              Post-passage activity (first chamber)   \n",
       "28         dum_72_conf                     Conference committee appointed   \n",
       "29        dum_74_confp                        Passed conference committee   \n",
       "30       dum_76_concur                                One chamber concurs   \n",
       "31      dum_78_intpass                               Both chambers Concur   \n",
       "32        dum_80_intbr            Interbranch activity (sent to governor)   \n",
       "33         dum_82_veto                                               Veto   \n",
       "34     dum_83_vetoline                                     Line-item veto   \n",
       "35     dum_86_vetoover                                      Veto override   \n",
       "36         dum_88_sign                                Governor signs bill   \n",
       "37          dum_90_law                                       Bill enacted   \n",
       "38  tn_primary_bill_id                        Primary bill (in Tennessee)   \n",
       "39          tn_comp_id                      Companion bill (in Tennessee)   \n",
       "\n",
       "      type  \n",
       "0   string  \n",
       "1   string  \n",
       "2    float  \n",
       "3    float  \n",
       "4    float  \n",
       "5   string  \n",
       "6   string  \n",
       "7   string  \n",
       "8   string  \n",
       "9   string  \n",
       "10   float  \n",
       "11   float  \n",
       "12   float  \n",
       "13   float  \n",
       "14   float  \n",
       "15   float  \n",
       "16   float  \n",
       "17   float  \n",
       "18   float  \n",
       "19   float  \n",
       "20   float  \n",
       "21   float  \n",
       "22   float  \n",
       "23   float  \n",
       "24   float  \n",
       "25   float  \n",
       "26   float  \n",
       "27   float  \n",
       "28   float  \n",
       "29   float  \n",
       "30   float  \n",
       "31   float  \n",
       "32   float  \n",
       "33   float  \n",
       "34   float  \n",
       "35   float  \n",
       "36   float  \n",
       "37   float  \n",
       "38  string  \n",
       "39  string  "
      ]
     },
     "execution_count": 163,
     "metadata": {},
     "output_type": "execute_result"
    }
   ],
   "source": [
    "#created by the authors of the legislative progression dataset\n",
    "#Helpful guide to understand some columns\n",
    "codebook"
   ]
  },
  {
   "cell_type": "code",
   "execution_count": 164,
   "id": "60573b72-273c-4090-9f4c-0001965add35",
   "metadata": {},
   "outputs": [
    {
     "name": "stdout",
     "output_type": "stream",
     "text": [
      "<class 'pandas.core.frame.DataFrame'>\n",
      "RangeIndex: 159986 entries, 0 to 159985\n",
      "Data columns (total 65 columns):\n",
      " #   Column                       Non-Null Count   Dtype  \n",
      "---  ------                       --------------   -----  \n",
      " 0   id_x                         159986 non-null  object \n",
      " 1   identifier                   159986 non-null  object \n",
      " 2   title                        159986 non-null  object \n",
      " 3   classification               159986 non-null  object \n",
      " 4   subject                      159986 non-null  object \n",
      " 5   session_identifier           159986 non-null  object \n",
      " 6   jurisdiction                 159986 non-null  object \n",
      " 7   organization_classification  159986 non-null  object \n",
      " 8   bill_id_x                    0 non-null       float64\n",
      " 9   related_bill_id              0 non-null       float64\n",
      " 10  legislative_session          0 non-null       float64\n",
      " 11  relation_type                0 non-null       float64\n",
      " 12  custom_id                    159986 non-null  object \n",
      " 13  ajo_id                       159986 non-null  object \n",
      " 14  state                        159986 non-null  object \n",
      " 15  fips                         159986 non-null  int64  \n",
      " 16  year2                        159986 non-null  int64  \n",
      " 17  year1                        159986 non-null  int64  \n",
      " 18  sess_str                     159986 non-null  object \n",
      " 19  special                      159986 non-null  object \n",
      " 20  sessrank                     159986 non-null  int64  \n",
      " 21  bill_id_y                    159986 non-null  object \n",
      " 22  bill_pre                     151606 non-null  object \n",
      " 23  statute                      159986 non-null  int64  \n",
      " 24  insamp                       99970 non-null   float64\n",
      " 25  date_start                   159986 non-null  object \n",
      " 26  date_end                     159986 non-null  object \n",
      " 27  lpcode                       159568 non-null  float64\n",
      " 28  dum_10_1rd                   159984 non-null  float64\n",
      " 29  dum_12_ref                   159986 non-null  int64  \n",
      " 30  dum_16_cfail                 159986 non-null  int64  \n",
      " 31  dum_20_2rd                   159986 non-null  int64  \n",
      " 32  dum_30_3rd                   159986 non-null  int64  \n",
      " 33  dum_38_pass                  159986 non-null  int64  \n",
      " 34  dum_40_1rd                   159986 non-null  int64  \n",
      " 35  dum_42_ref                   159986 non-null  int64  \n",
      " 36  dum_46_cfail                 159986 non-null  int64  \n",
      " 37  dum_50_2rd                   159986 non-null  int64  \n",
      " 38  dum_60_3rd                   159986 non-null  int64  \n",
      " 39  dum_68_pass                  159986 non-null  int64  \n",
      " 40  dum_70_intch                 159986 non-null  int64  \n",
      " 41  dum_72_conf                  159986 non-null  int64  \n",
      " 42  dum_74_confp                 159986 non-null  int64  \n",
      " 43  dum_76_concur                159986 non-null  int64  \n",
      " 44  dum_78_intpass               159986 non-null  int64  \n",
      " 45  dum_80_intbr                 159986 non-null  int64  \n",
      " 46  dum_82_veto                  159986 non-null  int64  \n",
      " 47  dum_83_vetoline              159986 non-null  int64  \n",
      " 48  dum_86_vetoover              159986 non-null  int64  \n",
      " 49  dum_88_sign                  159986 non-null  int64  \n",
      " 50  dum_90_law                   159986 non-null  int64  \n",
      " 51  tn_primary_bill_id           8380 non-null    object \n",
      " 52  tn_comp_id                   8380 non-null    object \n",
      " 53  custom_id2                   159986 non-null  object \n",
      " 54  states                       159986 non-null  object \n",
      " 55  senate_dem                   159986 non-null  int64  \n",
      " 56  senate_rep                   159986 non-null  int64  \n",
      " 57  house_dem                    159986 non-null  int64  \n",
      " 58  house_rep                    159986 non-null  int64  \n",
      " 59  gov_party                    159986 non-null  object \n",
      " 60  year                         159986 non-null  int64  \n",
      " 61  id_y                         47200 non-null   object \n",
      " 62  bill_id                      47200 non-null   object \n",
      " 63  abstract                     47200 non-null   object \n",
      " 64  note                         34184 non-null   object \n",
      "dtypes: float64(7), int64(32), object(26)\n",
      "memory usage: 79.3+ MB\n"
     ]
    }
   ],
   "source": [
    "df.info()"
   ]
  },
  {
   "cell_type": "markdown",
   "id": "fc7cf93f-01aa-411d-82ca-2913a49a4880",
   "metadata": {},
   "source": [
    "# Deciding which columns to keep\n",
    "\n",
    "Below is a list of features we will keep for this study. Out of the 60+ columns, only 19 will be kept. These columns have all the information we need for this study.\n",
    "\n",
    "|Feature|Type|Original Source|Description|\n",
    "|---|---|---|---|\n",
    "|**id_x**|*object*|Open States|Bill ID used on Open States website|\n",
    "|**classification**|*object*|Open States|Type of legislation. e.g. \"bill\" or \"resolution\"|\n",
    "|**title**|*object*|Open States|Title of bill|\n",
    "|**subject**|*object*|Open States|Main subjects bill refers to.|\n",
    "|**abstract**|*object*|Open States|Abstract of bill.|\n",
    "|**jurisdiction**|*object*|Open States|State the bill was introduced in.|\n",
    "|**organization_classification**|*object*|Open States|Which house the bill was introduced in.|\n",
    "|**year1**|*int*|Garlick|Year the bill was introduced.|\n",
    "|**bill_pre**|*object*|Garlick|Prefix of the bill.|\n",
    "|**statute**|*int*|Garlick|Whether the bill is a statute or not.|\n",
    "|**lpcode**|*float*|Garlick|Code that correlates to where the bill failed.|\n",
    "|**dum_38_pass**|*int*|Garlick|Passed the first chamber or not.|\n",
    "|**dum_68_pass**|*int*|Garlick|Passed the second chamber or not.|\n",
    "|**dum_90_law**|*int*|Garlick|Enacted as law.|\n",
    "|**senate_dem**|*int*|NCSL|Number of democratic state senators.|\n",
    "|**senate_rep**|*int*|NCSL|Number of republican state senators.|\n",
    "|**house_dem**|*int*|NCSL|Number of democrats in the house.|\n",
    "|**house_rep**|*int*|NCSL|Number of republicans in the house.|\n",
    "|**gov_party**|*object*|NCSL|Party of the state governor.|\n",
    "|**majority_sponsor_party**|*object*|Open States|Party that introduced the bill. (only in our smaller dataset)|\n",
    "\n",
    "Links to original datasets:\n",
    "   - Open States: [website](https://openstates.org/data/session-csv/), [API](https://openstates.github.io/pyopenstates/)\n",
    "   - [Garlick](https://dataverse.harvard.edu/dataset.xhtml?persistentId=doi:10.7910/DVN/8PTHXT)\n",
    "   - [NCLS](https://www.ncsl.org/about-state-legislatures/state-partisan-composition)"
   ]
  },
  {
   "cell_type": "code",
   "execution_count": 4,
   "id": "8eeb9f52-0062-42db-b914-1a0fd70395b5",
   "metadata": {},
   "outputs": [],
   "source": [
    "#Filtering the columns we want kept for bigger dataframe\n",
    "df = df[['id_x', 'classification', 'title', 'subject', 'abstract','jurisdiction', \n",
    "    'organization_classification', 'year1', 'bill_pre', 'statute', 'lpcode', \n",
    "    'dum_38_pass', 'dum_68_pass', 'dum_90_law', 'senate_dem', \n",
    "    'senate_rep', 'house_dem', 'house_rep', 'gov_party']]\n",
    "\n",
    "#Filtering the columns we want kept for smaller dataframe\n",
    "df_with_sponsors = df_with_sponsors[['id_x', 'classification', 'title', 'subject', 'abstract', 'jurisdiction', \n",
    "    'organization_classification', 'year1', 'bill_pre', 'statute', 'lpcode', \n",
    "    'dum_38_pass', 'dum_68_pass', 'dum_90_law', 'senate_dem', \n",
    "    'senate_rep', 'house_dem', 'house_rep', 'gov_party', 'majority_sponsor_party']]"
   ]
  },
  {
   "cell_type": "markdown",
   "id": "562bb8eb-ddcb-4b7c-8d39-29d64e9314d8",
   "metadata": {},
   "source": [
    "# Cleaning Columns"
   ]
  },
  {
   "cell_type": "markdown",
   "id": "72b021d3-9af5-4794-9ac6-d0c0cefadc5e",
   "metadata": {},
   "source": [
    "### Classification\n",
    "\n",
    "Making the colum more readable."
   ]
  },
  {
   "cell_type": "code",
   "execution_count": 5,
   "id": "7f5acfcd-ab3d-40de-b724-36bf5a83a7e5",
   "metadata": {},
   "outputs": [
    {
     "data": {
      "text/plain": [
       "['bill']                        124447\n",
       "['resolution']                   23983\n",
       "['joint resolution']              6842\n",
       "['concurrent resolution']         3767\n",
       "['bill', 'appropriation']          402\n",
       "['memorial']                       270\n",
       "['joint memorial']                 137\n",
       "['commemoration']                   82\n",
       "['concurrent memorial']             49\n",
       "['concurrent study request']         4\n",
       "['proclamation']                     2\n",
       "['petition']                         1\n",
       "Name: classification, dtype: int64"
      ]
     },
     "execution_count": 5,
     "metadata": {},
     "output_type": "execute_result"
    }
   ],
   "source": [
    "#The brackets and extra quotations are not useful\n",
    "df['classification'].value_counts()"
   ]
  },
  {
   "cell_type": "code",
   "execution_count": 6,
   "id": "ce38077f-39f3-4b81-9dab-6ec2d418a5ec",
   "metadata": {},
   "outputs": [],
   "source": [
    "#Gets rid of unnecessary brackets and quotations to make the column more readable.\n",
    "df['classification'] = df['classification'].map(lambda x: x.replace('[','').replace(']','').replace('\\'','')) \\\n",
    ".map(lambda x: 'appropriation' if x == 'bill, appropriation' else x)\n",
    "# ^ change bill, appropriation to appropriation to make it more readable\n"
   ]
  },
  {
   "cell_type": "code",
   "execution_count": 7,
   "id": "1f1a36b3-86bc-4a83-85f1-0096fbb8aa02",
   "metadata": {},
   "outputs": [
    {
     "data": {
      "text/plain": [
       "bill                        124447\n",
       "resolution                   23983\n",
       "joint resolution              6842\n",
       "concurrent resolution         3767\n",
       "appropriation                  402\n",
       "memorial                       270\n",
       "joint memorial                 137\n",
       "commemoration                   82\n",
       "concurrent memorial             49\n",
       "concurrent study request         4\n",
       "proclamation                     2\n",
       "petition                         1\n",
       "Name: classification, dtype: int64"
      ]
     },
     "execution_count": 7,
     "metadata": {},
     "output_type": "execute_result"
    }
   ],
   "source": [
    "df['classification'].value_counts()"
   ]
  },
  {
   "cell_type": "code",
   "execution_count": 8,
   "id": "c8d613b9-7de9-4206-af64-34f1f60c6d8a",
   "metadata": {},
   "outputs": [],
   "source": [
    "#Do the same for our smaller dataset with the extra column\n",
    "df_with_sponsors['classification'] = df_with_sponsors['classification'].map(lambda x: x.replace('[','').replace(']','').replace('\\'','')) \\\n",
    ".map(lambda x: 'appropriation' if x == 'bill, appropriation' else x)\n"
   ]
  },
  {
   "cell_type": "markdown",
   "id": "4554d4e6-bebb-4393-bda4-cb0a537cf6ac",
   "metadata": {},
   "source": [
    "### Subjects\n",
    "\n",
    "This column describes the overall subject of the bill. Sadly, many of the bills have empty subjects. The ones that do have subjects are in a list format that is not iterable. Instead, we will just split all the subjects by spaces so it can be used by count vectorizer later on."
   ]
  },
  {
   "cell_type": "code",
   "execution_count": 9,
   "id": "c364bf69-5fcc-44c3-981a-9c902d09505f",
   "metadata": {},
   "outputs": [
    {
     "data": {
      "text/plain": [
       "0    ['BOARDS & COMMISSIONS', 'DRUGS', 'HEALTH & SO...\n",
       "1    ['BOATS & BOATING', 'MARINE HIGHWAY', 'TRANSPO...\n",
       "2    ['BUSINESS', 'EDUCATION', 'EMPLOYMENT', 'LABOR...\n",
       "3    ['BOARDS & COMMISSIONS', 'COMMUNITY COLLEGES',...\n",
       "4    ['AIRPORTS', 'APPROPRIATIONS', 'AVIATION', 'BO...\n",
       "Name: subject, dtype: object"
      ]
     },
     "execution_count": 9,
     "metadata": {},
     "output_type": "execute_result"
    }
   ],
   "source": [
    "#example of what we have\n",
    "df['subject'][0:5]"
   ]
  },
  {
   "cell_type": "code",
   "execution_count": 10,
   "id": "4268e0d9-b9f6-4ab2-ac5e-baddc43962b6",
   "metadata": {},
   "outputs": [],
   "source": [
    "#Gets rid of unnecessary brackets and quotations and combines all words for a given subject together.\n",
    "#This will be useful for using count vectorizer later.\n",
    "df['subject'] = df['subject'].map(lambda x: x.lower().replace('[','').replace(']','').replace('\\'','').replace(' ','').replace(',',' '))"
   ]
  },
  {
   "cell_type": "code",
   "execution_count": 11,
   "id": "0cafda9a-3c4b-4dbb-ae21-5117ade5be85",
   "metadata": {},
   "outputs": [],
   "source": [
    "#Do the same with other dataset\n",
    "df_with_sponsors['subject'] = df_with_sponsors['subject'].map(lambda x: x.lower().replace('[','').replace(']','').replace('\\'','').replace(' ','').replace(',',' '))"
   ]
  },
  {
   "cell_type": "code",
   "execution_count": 12,
   "id": "7772a604-1f72-423f-88a7-7b481c1e1c15",
   "metadata": {},
   "outputs": [
    {
     "data": {
      "text/plain": [
       "0    boards&commissions drugs health&socialservices...\n",
       "1    boats&boating marinehighway transportation ves...\n",
       "2    business education employment labor salaries&a...\n",
       "3    boards&commissions communitycolleges education...\n",
       "4    airports appropriations aviation boards&commis...\n",
       "Name: subject, dtype: object"
      ]
     },
     "execution_count": 12,
     "metadata": {},
     "output_type": "execute_result"
    }
   ],
   "source": [
    "df['subject'][0:5]"
   ]
  },
  {
   "cell_type": "markdown",
   "id": "810446d4-10a7-4e0e-b35a-dd3b124866fb",
   "metadata": {},
   "source": [
    "### Jurisdiction\n",
    "Change the column name to state"
   ]
  },
  {
   "cell_type": "code",
   "execution_count": 13,
   "id": "401187ef-774f-410d-9ff2-ca7bbc390744",
   "metadata": {},
   "outputs": [],
   "source": [
    "df.rename(columns = {'jurisdiction': 'state'}, inplace = True)\n",
    "df_with_sponsors.rename(columns = {'jurisdiction': 'state'}, inplace = True)"
   ]
  },
  {
   "cell_type": "markdown",
   "id": "082d8364-641e-44c3-ace8-246e6d96fde2",
   "metadata": {},
   "source": [
    "### Year\n",
    "\n",
    "Just change the column name to year instead"
   ]
  },
  {
   "cell_type": "code",
   "execution_count": 14,
   "id": "cb1a657f-50ce-447c-914a-8261283236b3",
   "metadata": {},
   "outputs": [],
   "source": [
    "df.rename(columns = {'year1': 'year'}, inplace = True)"
   ]
  },
  {
   "cell_type": "code",
   "execution_count": 15,
   "id": "6ad41e97-d238-4e75-99c9-8be9392a089a",
   "metadata": {},
   "outputs": [],
   "source": [
    "df_with_sponsors.rename(columns = {'year1': 'year'}, inplace = True)"
   ]
  },
  {
   "cell_type": "markdown",
   "id": "f6073d31-76ed-4a83-93b1-dd421a6129da",
   "metadata": {},
   "source": [
    "### Organization Classification\n",
    "\n",
    "Some bad values in there that need to be replaced with Nulls"
   ]
  },
  {
   "cell_type": "markdown",
   "id": "1d3ea814-b9ad-4577-ab2c-e613c4322a14",
   "metadata": {},
   "source": [
    "We are going to replace the legislature values with nulls as it is uniformative."
   ]
  },
  {
   "cell_type": "code",
   "execution_count": 16,
   "id": "885691e5-2944-4b52-9900-1cbb30658dec",
   "metadata": {},
   "outputs": [],
   "source": [
    "df['organization_classification'] = df['organization_classification'].map(lambda x: None if x == 'legislature' else x)\n",
    "df_with_sponsors['organization_classification'] = df_with_sponsors['organization_classification'].map(lambda x: None if x == 'legislature' else x)"
   ]
  },
  {
   "cell_type": "markdown",
   "id": "e153b761-0e00-4a54-82bd-d90c6731797a",
   "metadata": {},
   "source": [
    "### Statute\n",
    "\n",
    "This column describes wether a bill is a statute or not. It has a third value as well though..."
   ]
  },
  {
   "cell_type": "code",
   "execution_count": 19,
   "id": "e070abdf-4f1d-4a97-aef9-c19412dfe80e",
   "metadata": {},
   "outputs": [
    {
     "data": {
      "text/plain": [
       "1    107233\n",
       "0     41255\n",
       "3     11498\n",
       "Name: statute, dtype: int64"
      ]
     },
     "execution_count": 19,
     "metadata": {},
     "output_type": "execute_result"
    }
   ],
   "source": [
    "df['statute'].value_counts(dropna = False)"
   ]
  },
  {
   "cell_type": "markdown",
   "id": "b079397a-66d9-4d8d-9736-e77d17085040",
   "metadata": {},
   "source": [
    "A code of 3 claims that the statute is from Nebraska, this is wrong though because none of our data is from Nebraska. After some poking around with the original dataset, it seems like the authors typed in 3 for unobservable and 2 for Nebraska. I am going to replact the threes with Null values."
   ]
  },
  {
   "cell_type": "code",
   "execution_count": 20,
   "id": "cbf45b23-feb5-471f-b000-e75ee30cc1da",
   "metadata": {},
   "outputs": [],
   "source": [
    "#Changing all 3s to Nulls\n",
    "df['statute'] = df['statute'].map(lambda x: None if x == 3 else x)"
   ]
  },
  {
   "cell_type": "code",
   "execution_count": 21,
   "id": "1c7c1cac-1c3b-4cc0-98f4-91fe0486c726",
   "metadata": {},
   "outputs": [],
   "source": [
    "#Same for other dataset\n",
    "df_with_sponsors['statute'] = df_with_sponsors['statute'].map(lambda x: None if x == 3 else x)"
   ]
  },
  {
   "cell_type": "markdown",
   "id": "02197ea3-e7fc-4921-b10c-3ed06adfaf3c",
   "metadata": {},
   "source": [
    "### Changing some more column names"
   ]
  },
  {
   "cell_type": "code",
   "execution_count": 22,
   "id": "03d468e7-08b7-41a7-a07e-c22180cbdf14",
   "metadata": {},
   "outputs": [],
   "source": [
    "df.rename(columns = {'id_x': 'id','dum_38_pass': 'pass_1st_chamber', 'dum_68_pass': 'pass_2nd_chamber', 'dum_90_law': 'law_enacted'}, inplace = True)\n",
    "df_with_sponsors.rename(columns = {'id_x': 'id','dum_38_pass': 'pass_1st_chamber', 'dum_68_pass': 'pass_2nd_chamber', 'dum_90_law': 'law_enacted'}, inplace = True)"
   ]
  },
  {
   "cell_type": "code",
   "execution_count": 23,
   "id": "76782286-f72d-48bd-ac28-0136fefe9640",
   "metadata": {},
   "outputs": [
    {
     "data": {
      "text/plain": [
       "Index(['id', 'classification', 'title', 'subject', 'abstract', 'state',\n",
       "       'organization_classification', 'year', 'bill_pre', 'statute', 'lpcode',\n",
       "       'pass_1st_chamber', 'pass_2nd_chamber', 'law_enacted', 'senate_dem',\n",
       "       'senate_rep', 'house_dem', 'house_rep', 'gov_party',\n",
       "       'majority_sponsor_party'],\n",
       "      dtype='object')"
      ]
     },
     "execution_count": 23,
     "metadata": {},
     "output_type": "execute_result"
    }
   ],
   "source": [
    "df_with_sponsors.columns"
   ]
  },
  {
   "cell_type": "markdown",
   "id": "9fd0fbbd-1d19-4011-ae84-72ed295587b6",
   "metadata": {},
   "source": [
    "### Using Statute to filter out unwanted data\n",
    "\n",
    "Many pieces of legislation do not become laws. For example, simple resolutions only pass one chamber and address matters within the house it was intorduced in. They do not need the approval of the other house or the governor of the state and thus do not become laws. We are not intereste in this kind of legislation and thus will drop them.\n",
    "\n",
    "The statute column let's us know if this legislation has the potential of becoming a law or not."
   ]
  },
  {
   "cell_type": "code",
   "execution_count": 24,
   "id": "850f56ea-8215-482e-bddd-e8e9b4a35fc5",
   "metadata": {},
   "outputs": [
    {
     "data": {
      "text/plain": [
       "1.0    107233\n",
       "0.0     41255\n",
       "Name: statute, dtype: int64"
      ]
     },
     "execution_count": 24,
     "metadata": {},
     "output_type": "execute_result"
    }
   ],
   "source": [
    "df['statute'].value_counts()"
   ]
  },
  {
   "cell_type": "code",
   "execution_count": 25,
   "id": "c0b5ac7d-4b4d-4284-82f7-fc486a08505a",
   "metadata": {},
   "outputs": [
    {
     "data": {
      "text/plain": [
       "1.0    59980\n",
       "0.0    16490\n",
       "Name: statute, dtype: int64"
      ]
     },
     "execution_count": 25,
     "metadata": {},
     "output_type": "execute_result"
    }
   ],
   "source": [
    "df_with_sponsors['statute'].value_counts()"
   ]
  },
  {
   "cell_type": "code",
   "execution_count": 26,
   "id": "6579d826-8080-4c11-a9a5-1d9e603bb1c9",
   "metadata": {},
   "outputs": [],
   "source": [
    "#Getting rid of the non statute peices of legislation.\n",
    "df = df[df['statute'] == 1]\n",
    "df_with_sponsors = df_with_sponsors[df_with_sponsors['statute'] == 1]"
   ]
  },
  {
   "cell_type": "code",
   "execution_count": 27,
   "id": "5c6b0b2e-452a-428d-b7f3-d9236dbe4c31",
   "metadata": {},
   "outputs": [
    {
     "data": {
      "text/plain": [
       "(59980, 20)"
      ]
     },
     "execution_count": 27,
     "metadata": {},
     "output_type": "execute_result"
    }
   ],
   "source": [
    "df_with_sponsors.shape"
   ]
  },
  {
   "cell_type": "markdown",
   "id": "f92ee965-ebde-49f6-825b-8cc751bc41b5",
   "metadata": {},
   "source": [
    "# Saving Cleaned Data"
   ]
  },
  {
   "cell_type": "code",
   "execution_count": 124,
   "id": "0302b35b-f4fa-4959-afa6-44fe29b1dd89",
   "metadata": {},
   "outputs": [],
   "source": [
    "df.to_csv('../Data/Merged_Data/cleaned_data.csv.zip', index = False)\n",
    "df_with_sponsors.to_csv('../Data/Merged_Data/cleaned_data_with_sponsors.csv.zip', index = False)"
   ]
  },
  {
   "cell_type": "code",
   "execution_count": null,
   "id": "799f41e5-8ea5-4c5c-9317-0582f41deff9",
   "metadata": {},
   "outputs": [],
   "source": []
  }
 ],
 "metadata": {
  "kernelspec": {
   "display_name": "Python 3 (ipykernel)",
   "language": "python",
   "name": "python3"
  },
  "language_info": {
   "codemirror_mode": {
    "name": "ipython",
    "version": 3
   },
   "file_extension": ".py",
   "mimetype": "text/x-python",
   "name": "python",
   "nbconvert_exporter": "python",
   "pygments_lexer": "ipython3",
   "version": "3.9.13"
  }
 },
 "nbformat": 4,
 "nbformat_minor": 5
}
